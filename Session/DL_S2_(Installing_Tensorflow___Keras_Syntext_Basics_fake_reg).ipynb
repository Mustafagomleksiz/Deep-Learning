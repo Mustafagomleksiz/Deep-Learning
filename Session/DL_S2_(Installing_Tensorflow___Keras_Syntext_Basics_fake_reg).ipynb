{
 "cells": [
  {
   "cell_type": "markdown",
   "metadata": {
    "id": "JQ19t5v2dl86"
   },
   "source": [
    "___\n",
    "\n",
    "<p style=\"text-align: center;\"><img src=\"https://docs.google.com/uc?id=1lY0Uj5R04yMY3-ZppPWxqCr5pvBLYPnV\" class=\"img-fluid\" alt=\"CLRSWY\"></p>\n",
    "\n",
    "___"
   ]
  },
  {
   "cell_type": "markdown",
   "metadata": {
    "id": "XHsBJYsCdl88"
   },
   "source": [
    "<h1 style=\"text-align: center;\">Deep Learning<br><br>Session - 2<br><br>Installing Tensorflow & Keras Syntax Basics<br><br>Fake Reg<br><h1>"
   ]
  },
  {
   "cell_type": "markdown",
   "metadata": {
    "id": "UkDAGNNMdl89"
   },
   "source": [
    "# Installing Tensorflow"
   ]
  },
  {
   "cell_type": "code",
   "execution_count": 1,
   "metadata": {
    "colab": {
     "base_uri": "https://localhost:8080/"
    },
    "id": "nqLpsf-Mdl8-",
    "outputId": "585fba87-ce73-40f8-e924-4eb0a02ae9d7"
   },
   "outputs": [
    {
     "name": "stdout",
     "output_type": "stream",
     "text": [
      "Python 3.7.14\n"
     ]
    }
   ],
   "source": [
    "!python --version"
   ]
  },
  {
   "cell_type": "code",
   "execution_count": 2,
   "metadata": {
    "id": "M34r5djmdl8_"
   },
   "outputs": [],
   "source": [
    "# pip install tensorflow"
   ]
  },
  {
   "cell_type": "code",
   "execution_count": 3,
   "metadata": {
    "colab": {
     "base_uri": "https://localhost:8080/",
     "height": 37
    },
    "id": "xcVevo1Mdl9A",
    "outputId": "e2971bdb-d48e-4b8b-e318-9555caed07fe"
   },
   "outputs": [
    {
     "data": {
      "application/vnd.google.colaboratory.intrinsic+json": {
       "type": "string"
      },
      "text/plain": [
       "'2.8.2'"
      ]
     },
     "execution_count": 3,
     "metadata": {},
     "output_type": "execute_result"
    }
   ],
   "source": [
    "import tensorflow as tf\n",
    "tf.__version__"
   ]
  },
  {
   "cell_type": "markdown",
   "metadata": {
    "id": "TFzAbiUJdl9B"
   },
   "source": [
    "# Keras Syntax Basics"
   ]
  },
  {
   "cell_type": "code",
   "execution_count": 4,
   "metadata": {
    "id": "-4ptPLZVdl9B"
   },
   "outputs": [],
   "source": [
    "import numpy as np\n",
    "import pandas as pd\n",
    "import matplotlib.pyplot as plt\n",
    "import seaborn as sns\n",
    "\n",
    "import warnings\n",
    "warnings.filterwarnings(\"ignore\")\n",
    "warnings.warn(\"this will not show\")\n",
    "\n",
    "plt.rcParams[\"figure.figsize\"] = (10,6)\n",
    "\n",
    "sns.set_style(\"whitegrid\")\n",
    "pd.set_option('display.float_format', lambda x: '%.3f' % x)\n",
    "\n",
    "# Set it None to display all rows in the dataframe\n",
    "# pd.set_option('display.max_rows', None)\n",
    "\n",
    "# Set it to None to display all columns in the dataframe\n",
    "pd.set_option('display.max_columns', None)"
   ]
  },
  {
   "cell_type": "code",
   "execution_count": 5,
   "metadata": {
    "id": "MaggMu2adl9B"
   },
   "outputs": [],
   "source": [
    "#from google.colab import drive\n",
    "#drive.mount('/content/drive')"
   ]
  },
  {
   "cell_type": "code",
   "execution_count": 6,
   "metadata": {
    "id": "PsgPDA-Vdl9C"
   },
   "outputs": [],
   "source": [
    "#df = pd.read_csv(\"drive/MyDrive/Colab_Files/data/fake_reg.csv\")"
   ]
  },
  {
   "cell_type": "code",
   "execution_count": 7,
   "metadata": {
    "id": "t6bL_rqDdl9C"
   },
   "outputs": [],
   "source": [
    "df = pd.read_csv(\"fake_reg.csv\")"
   ]
  },
  {
   "cell_type": "markdown",
   "metadata": {
    "id": "vZve5_LWdl9C"
   },
   "source": [
    "## Exploratory Data Analysis and Visualization"
   ]
  },
  {
   "cell_type": "code",
   "execution_count": 8,
   "metadata": {
    "colab": {
     "base_uri": "https://localhost:8080/",
     "height": 204
    },
    "id": "3bCQCcEZdl9D",
    "outputId": "46b055d6-5ef3-41c8-fa1f-0e57a63028b7"
   },
   "outputs": [
    {
     "data": {
      "text/html": [
       "\n",
       "  <div id=\"df-231c83aa-d008-4b25-8afc-efec95f9c4bf\">\n",
       "    <div class=\"colab-df-container\">\n",
       "      <div>\n",
       "<style scoped>\n",
       "    .dataframe tbody tr th:only-of-type {\n",
       "        vertical-align: middle;\n",
       "    }\n",
       "\n",
       "    .dataframe tbody tr th {\n",
       "        vertical-align: top;\n",
       "    }\n",
       "\n",
       "    .dataframe thead th {\n",
       "        text-align: right;\n",
       "    }\n",
       "</style>\n",
       "<table border=\"1\" class=\"dataframe\">\n",
       "  <thead>\n",
       "    <tr style=\"text-align: right;\">\n",
       "      <th></th>\n",
       "      <th>price</th>\n",
       "      <th>feature1</th>\n",
       "      <th>feature2</th>\n",
       "    </tr>\n",
       "  </thead>\n",
       "  <tbody>\n",
       "    <tr>\n",
       "      <th>0</th>\n",
       "      <td>461.528</td>\n",
       "      <td>999.788</td>\n",
       "      <td>999.766</td>\n",
       "    </tr>\n",
       "    <tr>\n",
       "      <th>1</th>\n",
       "      <td>548.130</td>\n",
       "      <td>998.862</td>\n",
       "      <td>1001.042</td>\n",
       "    </tr>\n",
       "    <tr>\n",
       "      <th>2</th>\n",
       "      <td>410.297</td>\n",
       "      <td>1000.070</td>\n",
       "      <td>998.844</td>\n",
       "    </tr>\n",
       "    <tr>\n",
       "      <th>3</th>\n",
       "      <td>540.382</td>\n",
       "      <td>999.952</td>\n",
       "      <td>1000.441</td>\n",
       "    </tr>\n",
       "    <tr>\n",
       "      <th>4</th>\n",
       "      <td>546.025</td>\n",
       "      <td>1000.446</td>\n",
       "      <td>1000.339</td>\n",
       "    </tr>\n",
       "  </tbody>\n",
       "</table>\n",
       "</div>\n",
       "      <button class=\"colab-df-convert\" onclick=\"convertToInteractive('df-231c83aa-d008-4b25-8afc-efec95f9c4bf')\"\n",
       "              title=\"Convert this dataframe to an interactive table.\"\n",
       "              style=\"display:none;\">\n",
       "        \n",
       "  <svg xmlns=\"http://www.w3.org/2000/svg\" height=\"24px\"viewBox=\"0 0 24 24\"\n",
       "       width=\"24px\">\n",
       "    <path d=\"M0 0h24v24H0V0z\" fill=\"none\"/>\n",
       "    <path d=\"M18.56 5.44l.94 2.06.94-2.06 2.06-.94-2.06-.94-.94-2.06-.94 2.06-2.06.94zm-11 1L8.5 8.5l.94-2.06 2.06-.94-2.06-.94L8.5 2.5l-.94 2.06-2.06.94zm10 10l.94 2.06.94-2.06 2.06-.94-2.06-.94-.94-2.06-.94 2.06-2.06.94z\"/><path d=\"M17.41 7.96l-1.37-1.37c-.4-.4-.92-.59-1.43-.59-.52 0-1.04.2-1.43.59L10.3 9.45l-7.72 7.72c-.78.78-.78 2.05 0 2.83L4 21.41c.39.39.9.59 1.41.59.51 0 1.02-.2 1.41-.59l7.78-7.78 2.81-2.81c.8-.78.8-2.07 0-2.86zM5.41 20L4 18.59l7.72-7.72 1.47 1.35L5.41 20z\"/>\n",
       "  </svg>\n",
       "      </button>\n",
       "      \n",
       "  <style>\n",
       "    .colab-df-container {\n",
       "      display:flex;\n",
       "      flex-wrap:wrap;\n",
       "      gap: 12px;\n",
       "    }\n",
       "\n",
       "    .colab-df-convert {\n",
       "      background-color: #E8F0FE;\n",
       "      border: none;\n",
       "      border-radius: 50%;\n",
       "      cursor: pointer;\n",
       "      display: none;\n",
       "      fill: #1967D2;\n",
       "      height: 32px;\n",
       "      padding: 0 0 0 0;\n",
       "      width: 32px;\n",
       "    }\n",
       "\n",
       "    .colab-df-convert:hover {\n",
       "      background-color: #E2EBFA;\n",
       "      box-shadow: 0px 1px 2px rgba(60, 64, 67, 0.3), 0px 1px 3px 1px rgba(60, 64, 67, 0.15);\n",
       "      fill: #174EA6;\n",
       "    }\n",
       "\n",
       "    [theme=dark] .colab-df-convert {\n",
       "      background-color: #3B4455;\n",
       "      fill: #D2E3FC;\n",
       "    }\n",
       "\n",
       "    [theme=dark] .colab-df-convert:hover {\n",
       "      background-color: #434B5C;\n",
       "      box-shadow: 0px 1px 3px 1px rgba(0, 0, 0, 0.15);\n",
       "      filter: drop-shadow(0px 1px 2px rgba(0, 0, 0, 0.3));\n",
       "      fill: #FFFFFF;\n",
       "    }\n",
       "  </style>\n",
       "\n",
       "      <script>\n",
       "        const buttonEl =\n",
       "          document.querySelector('#df-231c83aa-d008-4b25-8afc-efec95f9c4bf button.colab-df-convert');\n",
       "        buttonEl.style.display =\n",
       "          google.colab.kernel.accessAllowed ? 'block' : 'none';\n",
       "\n",
       "        async function convertToInteractive(key) {\n",
       "          const element = document.querySelector('#df-231c83aa-d008-4b25-8afc-efec95f9c4bf');\n",
       "          const dataTable =\n",
       "            await google.colab.kernel.invokeFunction('convertToInteractive',\n",
       "                                                     [key], {});\n",
       "          if (!dataTable) return;\n",
       "\n",
       "          const docLinkHtml = 'Like what you see? Visit the ' +\n",
       "            '<a target=\"_blank\" href=https://colab.research.google.com/notebooks/data_table.ipynb>data table notebook</a>'\n",
       "            + ' to learn more about interactive tables.';\n",
       "          element.innerHTML = '';\n",
       "          dataTable['output_type'] = 'display_data';\n",
       "          await google.colab.output.renderOutput(dataTable, element);\n",
       "          const docLink = document.createElement('div');\n",
       "          docLink.innerHTML = docLinkHtml;\n",
       "          element.appendChild(docLink);\n",
       "        }\n",
       "      </script>\n",
       "    </div>\n",
       "  </div>\n",
       "  "
      ],
      "text/plain": [
       "    price  feature1  feature2\n",
       "0 461.528   999.788   999.766\n",
       "1 548.130   998.862  1001.042\n",
       "2 410.297  1000.070   998.844\n",
       "3 540.382   999.952  1000.441\n",
       "4 546.025  1000.446  1000.339"
      ]
     },
     "execution_count": 8,
     "metadata": {},
     "output_type": "execute_result"
    }
   ],
   "source": [
    "df.head()"
   ]
  },
  {
   "cell_type": "code",
   "execution_count": 9,
   "metadata": {
    "colab": {
     "base_uri": "https://localhost:8080/"
    },
    "id": "fLts635cdl9D",
    "outputId": "9b5f357a-eb13-4fc8-94e5-4795f1dc7684"
   },
   "outputs": [
    {
     "name": "stdout",
     "output_type": "stream",
     "text": [
      "<class 'pandas.core.frame.DataFrame'>\n",
      "RangeIndex: 1000 entries, 0 to 999\n",
      "Data columns (total 3 columns):\n",
      " #   Column    Non-Null Count  Dtype  \n",
      "---  ------    --------------  -----  \n",
      " 0   price     1000 non-null   float64\n",
      " 1   feature1  1000 non-null   float64\n",
      " 2   feature2  1000 non-null   float64\n",
      "dtypes: float64(3)\n",
      "memory usage: 23.6 KB\n"
     ]
    }
   ],
   "source": [
    "df.info()"
   ]
  },
  {
   "cell_type": "code",
   "execution_count": 10,
   "metadata": {
    "colab": {
     "base_uri": "https://localhost:8080/",
     "height": 142
    },
    "id": "ZVqOk8MQdl9E",
    "outputId": "31cf9a7b-239f-483c-b001-51fd99448b7b"
   },
   "outputs": [
    {
     "data": {
      "text/html": [
       "\n",
       "  <div id=\"df-2f94cbd6-c613-483b-9c37-72f06f8e0250\">\n",
       "    <div class=\"colab-df-container\">\n",
       "      <div>\n",
       "<style scoped>\n",
       "    .dataframe tbody tr th:only-of-type {\n",
       "        vertical-align: middle;\n",
       "    }\n",
       "\n",
       "    .dataframe tbody tr th {\n",
       "        vertical-align: top;\n",
       "    }\n",
       "\n",
       "    .dataframe thead th {\n",
       "        text-align: right;\n",
       "    }\n",
       "</style>\n",
       "<table border=\"1\" class=\"dataframe\">\n",
       "  <thead>\n",
       "    <tr style=\"text-align: right;\">\n",
       "      <th></th>\n",
       "      <th>count</th>\n",
       "      <th>mean</th>\n",
       "      <th>std</th>\n",
       "      <th>min</th>\n",
       "      <th>25%</th>\n",
       "      <th>50%</th>\n",
       "      <th>75%</th>\n",
       "      <th>max</th>\n",
       "    </tr>\n",
       "  </thead>\n",
       "  <tbody>\n",
       "    <tr>\n",
       "      <th>price</th>\n",
       "      <td>1000.000</td>\n",
       "      <td>498.673</td>\n",
       "      <td>93.785</td>\n",
       "      <td>223.347</td>\n",
       "      <td>433.026</td>\n",
       "      <td>502.382</td>\n",
       "      <td>564.922</td>\n",
       "      <td>774.408</td>\n",
       "    </tr>\n",
       "    <tr>\n",
       "      <th>feature1</th>\n",
       "      <td>1000.000</td>\n",
       "      <td>1000.014</td>\n",
       "      <td>0.974</td>\n",
       "      <td>997.058</td>\n",
       "      <td>999.332</td>\n",
       "      <td>1000.010</td>\n",
       "      <td>1000.638</td>\n",
       "      <td>1003.208</td>\n",
       "    </tr>\n",
       "    <tr>\n",
       "      <th>feature2</th>\n",
       "      <td>1000.000</td>\n",
       "      <td>999.980</td>\n",
       "      <td>0.948</td>\n",
       "      <td>996.996</td>\n",
       "      <td>999.316</td>\n",
       "      <td>1000.002</td>\n",
       "      <td>1000.645</td>\n",
       "      <td>1002.666</td>\n",
       "    </tr>\n",
       "  </tbody>\n",
       "</table>\n",
       "</div>\n",
       "      <button class=\"colab-df-convert\" onclick=\"convertToInteractive('df-2f94cbd6-c613-483b-9c37-72f06f8e0250')\"\n",
       "              title=\"Convert this dataframe to an interactive table.\"\n",
       "              style=\"display:none;\">\n",
       "        \n",
       "  <svg xmlns=\"http://www.w3.org/2000/svg\" height=\"24px\"viewBox=\"0 0 24 24\"\n",
       "       width=\"24px\">\n",
       "    <path d=\"M0 0h24v24H0V0z\" fill=\"none\"/>\n",
       "    <path d=\"M18.56 5.44l.94 2.06.94-2.06 2.06-.94-2.06-.94-.94-2.06-.94 2.06-2.06.94zm-11 1L8.5 8.5l.94-2.06 2.06-.94-2.06-.94L8.5 2.5l-.94 2.06-2.06.94zm10 10l.94 2.06.94-2.06 2.06-.94-2.06-.94-.94-2.06-.94 2.06-2.06.94z\"/><path d=\"M17.41 7.96l-1.37-1.37c-.4-.4-.92-.59-1.43-.59-.52 0-1.04.2-1.43.59L10.3 9.45l-7.72 7.72c-.78.78-.78 2.05 0 2.83L4 21.41c.39.39.9.59 1.41.59.51 0 1.02-.2 1.41-.59l7.78-7.78 2.81-2.81c.8-.78.8-2.07 0-2.86zM5.41 20L4 18.59l7.72-7.72 1.47 1.35L5.41 20z\"/>\n",
       "  </svg>\n",
       "      </button>\n",
       "      \n",
       "  <style>\n",
       "    .colab-df-container {\n",
       "      display:flex;\n",
       "      flex-wrap:wrap;\n",
       "      gap: 12px;\n",
       "    }\n",
       "\n",
       "    .colab-df-convert {\n",
       "      background-color: #E8F0FE;\n",
       "      border: none;\n",
       "      border-radius: 50%;\n",
       "      cursor: pointer;\n",
       "      display: none;\n",
       "      fill: #1967D2;\n",
       "      height: 32px;\n",
       "      padding: 0 0 0 0;\n",
       "      width: 32px;\n",
       "    }\n",
       "\n",
       "    .colab-df-convert:hover {\n",
       "      background-color: #E2EBFA;\n",
       "      box-shadow: 0px 1px 2px rgba(60, 64, 67, 0.3), 0px 1px 3px 1px rgba(60, 64, 67, 0.15);\n",
       "      fill: #174EA6;\n",
       "    }\n",
       "\n",
       "    [theme=dark] .colab-df-convert {\n",
       "      background-color: #3B4455;\n",
       "      fill: #D2E3FC;\n",
       "    }\n",
       "\n",
       "    [theme=dark] .colab-df-convert:hover {\n",
       "      background-color: #434B5C;\n",
       "      box-shadow: 0px 1px 3px 1px rgba(0, 0, 0, 0.15);\n",
       "      filter: drop-shadow(0px 1px 2px rgba(0, 0, 0, 0.3));\n",
       "      fill: #FFFFFF;\n",
       "    }\n",
       "  </style>\n",
       "\n",
       "      <script>\n",
       "        const buttonEl =\n",
       "          document.querySelector('#df-2f94cbd6-c613-483b-9c37-72f06f8e0250 button.colab-df-convert');\n",
       "        buttonEl.style.display =\n",
       "          google.colab.kernel.accessAllowed ? 'block' : 'none';\n",
       "\n",
       "        async function convertToInteractive(key) {\n",
       "          const element = document.querySelector('#df-2f94cbd6-c613-483b-9c37-72f06f8e0250');\n",
       "          const dataTable =\n",
       "            await google.colab.kernel.invokeFunction('convertToInteractive',\n",
       "                                                     [key], {});\n",
       "          if (!dataTable) return;\n",
       "\n",
       "          const docLinkHtml = 'Like what you see? Visit the ' +\n",
       "            '<a target=\"_blank\" href=https://colab.research.google.com/notebooks/data_table.ipynb>data table notebook</a>'\n",
       "            + ' to learn more about interactive tables.';\n",
       "          element.innerHTML = '';\n",
       "          dataTable['output_type'] = 'display_data';\n",
       "          await google.colab.output.renderOutput(dataTable, element);\n",
       "          const docLink = document.createElement('div');\n",
       "          docLink.innerHTML = docLinkHtml;\n",
       "          element.appendChild(docLink);\n",
       "        }\n",
       "      </script>\n",
       "    </div>\n",
       "  </div>\n",
       "  "
      ],
      "text/plain": [
       "            count     mean    std     min     25%      50%      75%      max\n",
       "price    1000.000  498.673 93.785 223.347 433.026  502.382  564.922  774.408\n",
       "feature1 1000.000 1000.014  0.974 997.058 999.332 1000.010 1000.638 1003.208\n",
       "feature2 1000.000  999.980  0.948 996.996 999.316 1000.002 1000.645 1002.666"
      ]
     },
     "execution_count": 10,
     "metadata": {},
     "output_type": "execute_result"
    }
   ],
   "source": [
    "df.describe().T"
   ]
  },
  {
   "cell_type": "code",
   "execution_count": 11,
   "metadata": {
    "colab": {
     "base_uri": "https://localhost:8080/",
     "height": 550
    },
    "id": "uxmNG_wqdl9E",
    "outputId": "c0ade573-c990-4937-be36-bf69c1accc88"
   },
   "outputs": [
    {
     "data": {
      "image/png": "[encoded data removed]",
      "text/plain": [
       "<Figure size 540x540 with 12 Axes>"
      ]
     },
     "metadata": {},
     "output_type": "display_data"
    }
   ],
   "source": [
    "sns.pairplot(df);"
   ]
  },
  {
   "cell_type": "code",
   "execution_count": 12,
   "metadata": {
    "colab": {
     "base_uri": "https://localhost:8080/",
     "height": 142
    },
    "id": "2ObQdAj-dl9E",
    "outputId": "a52fd7d6-dff3-468d-ead6-21f46a5e30e7"
   },
   "outputs": [
    {
     "data": {
      "text/html": [
       "\n",
       "  <div id=\"df-29cf6d56-10bf-4b3c-8f25-e1c399e7dfc6\">\n",
       "    <div class=\"colab-df-container\">\n",
       "      <div>\n",
       "<style scoped>\n",
       "    .dataframe tbody tr th:only-of-type {\n",
       "        vertical-align: middle;\n",
       "    }\n",
       "\n",
       "    .dataframe tbody tr th {\n",
       "        vertical-align: top;\n",
       "    }\n",
       "\n",
       "    .dataframe thead th {\n",
       "        text-align: right;\n",
       "    }\n",
       "</style>\n",
       "<table border=\"1\" class=\"dataframe\">\n",
       "  <thead>\n",
       "    <tr style=\"text-align: right;\">\n",
       "      <th></th>\n",
       "      <th>price</th>\n",
       "      <th>feature1</th>\n",
       "      <th>feature2</th>\n",
       "    </tr>\n",
       "  </thead>\n",
       "  <tbody>\n",
       "    <tr>\n",
       "      <th>price</th>\n",
       "      <td>1.000</td>\n",
       "      <td>0.444</td>\n",
       "      <td>0.908</td>\n",
       "    </tr>\n",
       "    <tr>\n",
       "      <th>feature1</th>\n",
       "      <td>0.444</td>\n",
       "      <td>1.000</td>\n",
       "      <td>0.031</td>\n",
       "    </tr>\n",
       "    <tr>\n",
       "      <th>feature2</th>\n",
       "      <td>0.908</td>\n",
       "      <td>0.031</td>\n",
       "      <td>1.000</td>\n",
       "    </tr>\n",
       "  </tbody>\n",
       "</table>\n",
       "</div>\n",
       "      <button class=\"colab-df-convert\" onclick=\"convertToInteractive('df-29cf6d56-10bf-4b3c-8f25-e1c399e7dfc6')\"\n",
       "              title=\"Convert this dataframe to an interactive table.\"\n",
       "              style=\"display:none;\">\n",
       "        \n",
       "  <svg xmlns=\"http://www.w3.org/2000/svg\" height=\"24px\"viewBox=\"0 0 24 24\"\n",
       "       width=\"24px\">\n",
       "    <path d=\"M0 0h24v24H0V0z\" fill=\"none\"/>\n",
       "    <path d=\"M18.56 5.44l.94 2.06.94-2.06 2.06-.94-2.06-.94-.94-2.06-.94 2.06-2.06.94zm-11 1L8.5 8.5l.94-2.06 2.06-.94-2.06-.94L8.5 2.5l-.94 2.06-2.06.94zm10 10l.94 2.06.94-2.06 2.06-.94-2.06-.94-.94-2.06-.94 2.06-2.06.94z\"/><path d=\"M17.41 7.96l-1.37-1.37c-.4-.4-.92-.59-1.43-.59-.52 0-1.04.2-1.43.59L10.3 9.45l-7.72 7.72c-.78.78-.78 2.05 0 2.83L4 21.41c.39.39.9.59 1.41.59.51 0 1.02-.2 1.41-.59l7.78-7.78 2.81-2.81c.8-.78.8-2.07 0-2.86zM5.41 20L4 18.59l7.72-7.72 1.47 1.35L5.41 20z\"/>\n",
       "  </svg>\n",
       "      </button>\n",
       "      \n",
       "  <style>\n",
       "    .colab-df-container {\n",
       "      display:flex;\n",
       "      flex-wrap:wrap;\n",
       "      gap: 12px;\n",
       "    }\n",
       "\n",
       "    .colab-df-convert {\n",
       "      background-color: #E8F0FE;\n",
       "      border: none;\n",
       "      border-radius: 50%;\n",
       "      cursor: pointer;\n",
       "      display: none;\n",
       "      fill: #1967D2;\n",
       "      height: 32px;\n",
       "      padding: 0 0 0 0;\n",
       "      width: 32px;\n",
       "    }\n",
       "\n",
       "    .colab-df-convert:hover {\n",
       "      background-color: #E2EBFA;\n",
       "      box-shadow: 0px 1px 2px rgba(60, 64, 67, 0.3), 0px 1px 3px 1px rgba(60, 64, 67, 0.15);\n",
       "      fill: #174EA6;\n",
       "    }\n",
       "\n",
       "    [theme=dark] .colab-df-convert {\n",
       "      background-color: #3B4455;\n",
       "      fill: #D2E3FC;\n",
       "    }\n",
       "\n",
       "    [theme=dark] .colab-df-convert:hover {\n",
       "      background-color: #434B5C;\n",
       "      box-shadow: 0px 1px 3px 1px rgba(0, 0, 0, 0.15);\n",
       "      filter: drop-shadow(0px 1px 2px rgba(0, 0, 0, 0.3));\n",
       "      fill: #FFFFFF;\n",
       "    }\n",
       "  </style>\n",
       "\n",
       "      <script>\n",
       "        const buttonEl =\n",
       "          document.querySelector('#df-29cf6d56-10bf-4b3c-8f25-e1c399e7dfc6 button.colab-df-convert');\n",
       "        buttonEl.style.display =\n",
       "          google.colab.kernel.accessAllowed ? 'block' : 'none';\n",
       "\n",
       "        async function convertToInteractive(key) {\n",
       "          const element = document.querySelector('#df-29cf6d56-10bf-4b3c-8f25-e1c399e7dfc6');\n",
       "          const dataTable =\n",
       "            await google.colab.kernel.invokeFunction('convertToInteractive',\n",
       "                                                     [key], {});\n",
       "          if (!dataTable) return;\n",
       "\n",
       "          const docLinkHtml = 'Like what you see? Visit the ' +\n",
       "            '<a target=\"_blank\" href=https://colab.research.google.com/notebooks/data_table.ipynb>data table notebook</a>'\n",
       "            + ' to learn more about interactive tables.';\n",
       "          element.innerHTML = '';\n",
       "          dataTable['output_type'] = 'display_data';\n",
       "          await google.colab.output.renderOutput(dataTable, element);\n",
       "          const docLink = document.createElement('div');\n",
       "          docLink.innerHTML = docLinkHtml;\n",
       "          element.appendChild(docLink);\n",
       "        }\n",
       "      </script>\n",
       "    </div>\n",
       "  </div>\n",
       "  "
      ],
      "text/plain": [
       "          price  feature1  feature2\n",
       "price     1.000     0.444     0.908\n",
       "feature1  0.444     1.000     0.031\n",
       "feature2  0.908     0.031     1.000"
      ]
     },
     "execution_count": 12,
     "metadata": {},
     "output_type": "execute_result"
    }
   ],
   "source": [
    "df.corr()"
   ]
  },
  {
   "cell_type": "markdown",
   "metadata": {
    "id": "VuJ-tcgndl9F"
   },
   "source": [
    "## Preprocessing of Data\n",
    "- Train | Test Split, Scalling"
   ]
  },
  {
   "cell_type": "code",
   "execution_count": 13,
   "metadata": {
    "id": "f6OXSrL1dl9F"
   },
   "outputs": [],
   "source": [
    "from sklearn.model_selection import train_test_split"
   ]
  },
  {
   "cell_type": "code",
   "execution_count": 14,
   "metadata": {
    "id": "76sC3CWtdl9F"
   },
   "outputs": [],
   "source": [
    "# X = df[['feature1', 'feature2']].values  # convert to array\n",
    "# y = df['price'].values"
   ]
  },
  {
   "cell_type": "code",
   "execution_count": 15,
   "metadata": {
    "id": "dLKHmKeydl9G"
   },
   "outputs": [],
   "source": [
    "X = df[['feature1', 'feature2']] \n",
    "y = df['price']"
   ]
  },
  {
   "cell_type": "code",
   "execution_count": 16,
   "metadata": {
    "colab": {
     "base_uri": "https://localhost:8080/",
     "height": 419
    },
    "id": "ejmN_1CGdl9G",
    "outputId": "b2de11aa-41a9-4db5-8bac-17a1c284ec01"
   },
   "outputs": [
    {
     "data": {
      "text/html": [
       "\n",
       "  <div id=\"df-5a847aff-bd64-40d6-ad5e-3cc33deb9f7c\">\n",
       "    <div class=\"colab-df-container\">\n",
       "      <div>\n",
       "<style scoped>\n",
       "    .dataframe tbody tr th:only-of-type {\n",
       "        vertical-align: middle;\n",
       "    }\n",
       "\n",
       "    .dataframe tbody tr th {\n",
       "        vertical-align: top;\n",
       "    }\n",
       "\n",
       "    .dataframe thead th {\n",
       "        text-align: right;\n",
       "    }\n",
       "</style>\n",
       "<table border=\"1\" class=\"dataframe\">\n",
       "  <thead>\n",
       "    <tr style=\"text-align: right;\">\n",
       "      <th></th>\n",
       "      <th>feature1</th>\n",
       "      <th>feature2</th>\n",
       "    </tr>\n",
       "  </thead>\n",
       "  <tbody>\n",
       "    <tr>\n",
       "      <th>0</th>\n",
       "      <td>999.788</td>\n",
       "      <td>999.766</td>\n",
       "    </tr>\n",
       "    <tr>\n",
       "      <th>1</th>\n",
       "      <td>998.862</td>\n",
       "      <td>1001.042</td>\n",
       "    </tr>\n",
       "    <tr>\n",
       "      <th>2</th>\n",
       "      <td>1000.070</td>\n",
       "      <td>998.844</td>\n",
       "    </tr>\n",
       "    <tr>\n",
       "      <th>3</th>\n",
       "      <td>999.952</td>\n",
       "      <td>1000.441</td>\n",
       "    </tr>\n",
       "    <tr>\n",
       "      <th>4</th>\n",
       "      <td>1000.446</td>\n",
       "      <td>1000.339</td>\n",
       "    </tr>\n",
       "    <tr>\n",
       "      <th>...</th>\n",
       "      <td>...</td>\n",
       "      <td>...</td>\n",
       "    </tr>\n",
       "    <tr>\n",
       "      <th>995</th>\n",
       "      <td>1000.019</td>\n",
       "      <td>999.673</td>\n",
       "    </tr>\n",
       "    <tr>\n",
       "      <th>996</th>\n",
       "      <td>998.855</td>\n",
       "      <td>1000.020</td>\n",
       "    </tr>\n",
       "    <tr>\n",
       "      <th>997</th>\n",
       "      <td>1001.452</td>\n",
       "      <td>998.848</td>\n",
       "    </tr>\n",
       "    <tr>\n",
       "      <th>998</th>\n",
       "      <td>1000.771</td>\n",
       "      <td>998.563</td>\n",
       "    </tr>\n",
       "    <tr>\n",
       "      <th>999</th>\n",
       "      <td>999.232</td>\n",
       "      <td>1001.451</td>\n",
       "    </tr>\n",
       "  </tbody>\n",
       "</table>\n",
       "<p>1000 rows × 2 columns</p>\n",
       "</div>\n",
       "      <button class=\"colab-df-convert\" onclick=\"convertToInteractive('df-5a847aff-bd64-40d6-ad5e-3cc33deb9f7c')\"\n",
       "              title=\"Convert this dataframe to an interactive table.\"\n",
       "              style=\"display:none;\">\n",
       "        \n",
       "  <svg xmlns=\"http://www.w3.org/2000/svg\" height=\"24px\"viewBox=\"0 0 24 24\"\n",
       "       width=\"24px\">\n",
       "    <path d=\"M0 0h24v24H0V0z\" fill=\"none\"/>\n",
       "    <path d=\"M18.56 5.44l.94 2.06.94-2.06 2.06-.94-2.06-.94-.94-2.06-.94 2.06-2.06.94zm-11 1L8.5 8.5l.94-2.06 2.06-.94-2.06-.94L8.5 2.5l-.94 2.06-2.06.94zm10 10l.94 2.06.94-2.06 2.06-.94-2.06-.94-.94-2.06-.94 2.06-2.06.94z\"/><path d=\"M17.41 7.96l-1.37-1.37c-.4-.4-.92-.59-1.43-.59-.52 0-1.04.2-1.43.59L10.3 9.45l-7.72 7.72c-.78.78-.78 2.05 0 2.83L4 21.41c.39.39.9.59 1.41.59.51 0 1.02-.2 1.41-.59l7.78-7.78 2.81-2.81c.8-.78.8-2.07 0-2.86zM5.41 20L4 18.59l7.72-7.72 1.47 1.35L5.41 20z\"/>\n",
       "  </svg>\n",
       "      </button>\n",
       "      \n",
       "  <style>\n",
       "    .colab-df-container {\n",
       "      display:flex;\n",
       "      flex-wrap:wrap;\n",
       "      gap: 12px;\n",
       "    }\n",
       "\n",
       "    .colab-df-convert {\n",
       "      background-color: #E8F0FE;\n",
       "      border: none;\n",
       "      border-radius: 50%;\n",
       "      cursor: pointer;\n",
       "      display: none;\n",
       "      fill: #1967D2;\n",
       "      height: 32px;\n",
       "      padding: 0 0 0 0;\n",
       "      width: 32px;\n",
       "    }\n",
       "\n",
       "    .colab-df-convert:hover {\n",
       "      background-color: #E2EBFA;\n",
       "      box-shadow: 0px 1px 2px rgba(60, 64, 67, 0.3), 0px 1px 3px 1px rgba(60, 64, 67, 0.15);\n",
       "      fill: #174EA6;\n",
       "    }\n",
       "\n",
       "    [theme=dark] .colab-df-convert {\n",
       "      background-color: #3B4455;\n",
       "      fill: #D2E3FC;\n",
       "    }\n",
       "\n",
       "    [theme=dark] .colab-df-convert:hover {\n",
       "      background-color: #434B5C;\n",
       "      box-shadow: 0px 1px 3px 1px rgba(0, 0, 0, 0.15);\n",
       "      filter: drop-shadow(0px 1px 2px rgba(0, 0, 0, 0.3));\n",
       "      fill: #FFFFFF;\n",
       "    }\n",
       "  </style>\n",
       "\n",
       "      <script>\n",
       "        const buttonEl =\n",
       "          document.querySelector('#df-5a847aff-bd64-40d6-ad5e-3cc33deb9f7c button.colab-df-convert');\n",
       "        buttonEl.style.display =\n",
       "          google.colab.kernel.accessAllowed ? 'block' : 'none';\n",
       "\n",
       "        async function convertToInteractive(key) {\n",
       "          const element = document.querySelector('#df-5a847aff-bd64-40d6-ad5e-3cc33deb9f7c');\n",
       "          const dataTable =\n",
       "            await google.colab.kernel.invokeFunction('convertToInteractive',\n",
       "                                                     [key], {});\n",
       "          if (!dataTable) return;\n",
       "\n",
       "          const docLinkHtml = 'Like what you see? Visit the ' +\n",
       "            '<a target=\"_blank\" href=https://colab.research.google.com/notebooks/data_table.ipynb>data table notebook</a>'\n",
       "            + ' to learn more about interactive tables.';\n",
       "          element.innerHTML = '';\n",
       "          dataTable['output_type'] = 'display_data';\n",
       "          await google.colab.output.renderOutput(dataTable, element);\n",
       "          const docLink = document.createElement('div');\n",
       "          docLink.innerHTML = docLinkHtml;\n",
       "          element.appendChild(docLink);\n",
       "        }\n",
       "      </script>\n",
       "    </div>\n",
       "  </div>\n",
       "  "
      ],
      "text/plain": [
       "     feature1  feature2\n",
       "0     999.788   999.766\n",
       "1     998.862  1001.042\n",
       "2    1000.070   998.844\n",
       "3     999.952  1000.441\n",
       "4    1000.446  1000.339\n",
       "..        ...       ...\n",
       "995  1000.019   999.673\n",
       "996   998.855  1000.020\n",
       "997  1001.452   998.848\n",
       "998  1000.771   998.563\n",
       "999   999.232  1001.451\n",
       "\n",
       "[1000 rows x 2 columns]"
      ]
     },
     "execution_count": 16,
     "metadata": {},
     "output_type": "execute_result"
    }
   ],
   "source": [
    "X"
   ]
  },
  {
   "cell_type": "code",
   "execution_count": 17,
   "metadata": {
    "colab": {
     "base_uri": "https://localhost:8080/"
    },
    "id": "bBqvFvpmdl9G",
    "outputId": "41497af1-6600-40ac-e344-9c40db55a6fc"
   },
   "outputs": [
    {
     "data": {
      "text/plain": [
       "0     461.528\n",
       "1     548.130\n",
       "2     410.297\n",
       "3     540.382\n",
       "4     546.025\n",
       "        ...  \n",
       "995   476.526\n",
       "996   457.313\n",
       "997   456.721\n",
       "998   403.316\n",
       "999   599.367\n",
       "Name: price, Length: 1000, dtype: float64"
      ]
     },
     "execution_count": 17,
     "metadata": {},
     "output_type": "execute_result"
    }
   ],
   "source": [
    "y"
   ]
  },
  {
   "cell_type": "code",
   "execution_count": 18,
   "metadata": {
    "id": "bLX6nCMHdl9H"
   },
   "outputs": [],
   "source": [
    "X_train, X_test, y_train, y_test = train_test_split(X, y, test_size = 0.3, random_state = 42)"
   ]
  },
  {
   "cell_type": "code",
   "execution_count": 19,
   "metadata": {
    "colab": {
     "base_uri": "https://localhost:8080/"
    },
    "id": "WKEwiqbkdl9H",
    "outputId": "f1533051-4f86-4cff-a30b-4cdb4d918fd7"
   },
   "outputs": [
    {
     "data": {
      "text/plain": [
       "(700, 2)"
      ]
     },
     "execution_count": 19,
     "metadata": {},
     "output_type": "execute_result"
    }
   ],
   "source": [
    "X_train.shape"
   ]
  },
  {
   "cell_type": "code",
   "execution_count": 20,
   "metadata": {
    "colab": {
     "base_uri": "https://localhost:8080/"
    },
    "id": "Qlrmu1f1dl9H",
    "outputId": "406c0ac0-43e2-4a4b-f95f-5999a3b95d40"
   },
   "outputs": [
    {
     "data": {
      "text/plain": [
       "(300, 2)"
      ]
     },
     "execution_count": 20,
     "metadata": {},
     "output_type": "execute_result"
    }
   ],
   "source": [
    "X_test.shape"
   ]
  },
  {
   "cell_type": "code",
   "execution_count": 21,
   "metadata": {
    "id": "V6rNEVyidl9I"
   },
   "outputs": [],
   "source": [
    "from sklearn.preprocessing import MinMaxScaler"
   ]
  },
  {
   "cell_type": "code",
   "execution_count": 22,
   "metadata": {
    "colab": {
     "base_uri": "https://localhost:8080/"
    },
    "id": "4zhZqhb0dl9I",
    "outputId": "d94b3971-3cc4-4d31-d91c-b39be0af90ec"
   },
   "outputs": [
    {
     "name": "stdout",
     "output_type": "stream",
     "text": [
      "Help on class MinMaxScaler in module sklearn.preprocessing._data:\n",
      "\n",
      "class MinMaxScaler(sklearn.base._OneToOneFeatureMixin, sklearn.base.TransformerMixin, sklearn.base.BaseEstimator)\n",
      " |  MinMaxScaler(feature_range=(0, 1), *, copy=True, clip=False)\n",
      " |  \n",
      " |  Transform features by scaling each feature to a given range.\n",
      " |  \n",
      " |  This estimator scales and translates each feature individually such\n",
      " |  that it is in the given range on the training set, e.g. between\n",
      " |  zero and one.\n",
      " |  \n",
      " |  The transformation is given by::\n",
      " |  \n",
      " |      X_std = (X - X.min(axis=0)) / (X.max(axis=0) - X.min(axis=0))\n",
      " |      X_scaled = X_std * (max - min) + min\n",
      " |  \n",
      " |  where min, max = feature_range.\n",
      " |  \n",
      " |  This transformation is often used as an alternative to zero mean,\n",
      " |  unit variance scaling.\n",
      " |  \n",
      " |  Read more in the :ref:`User Guide <preprocessing_scaler>`.\n",
      " |  \n",
      " |  Parameters\n",
      " |  ----------\n",
      " |  feature_range : tuple (min, max), default=(0, 1)\n",
      " |      Desired range of transformed data.\n",
      " |  \n",
      " |  copy : bool, default=True\n",
      " |      Set to False to perform inplace row normalization and avoid a\n",
      " |      copy (if the input is already a numpy array).\n",
      " |  \n",
      " |  clip : bool, default=False\n",
      " |      Set to True to clip transformed values of held-out data to\n",
      " |      provided `feature range`.\n",
      " |  \n",
      " |      .. versionadded:: 0.24\n",
      " |  \n",
      " |  Attributes\n",
      " |  ----------\n",
      " |  min_ : ndarray of shape (n_features,)\n",
      " |      Per feature adjustment for minimum. Equivalent to\n",
      " |      ``min - X.min(axis=0) * self.scale_``\n",
      " |  \n",
      " |  scale_ : ndarray of shape (n_features,)\n",
      " |      Per feature relative scaling of the data. Equivalent to\n",
      " |      ``(max - min) / (X.max(axis=0) - X.min(axis=0))``\n",
      " |  \n",
      " |      .. versionadded:: 0.17\n",
      " |         *scale_* attribute.\n",
      " |  \n",
      " |  data_min_ : ndarray of shape (n_features,)\n",
      " |      Per feature minimum seen in the data\n",
      " |  \n",
      " |      .. versionadded:: 0.17\n",
      " |         *data_min_*\n",
      " |  \n",
      " |  data_max_ : ndarray of shape (n_features,)\n",
      " |      Per feature maximum seen in the data\n",
      " |  \n",
      " |      .. versionadded:: 0.17\n",
      " |         *data_max_*\n",
      " |  \n",
      " |  data_range_ : ndarray of shape (n_features,)\n",
      " |      Per feature range ``(data_max_ - data_min_)`` seen in the data\n",
      " |  \n",
      " |      .. versionadded:: 0.17\n",
      " |         *data_range_*\n",
      " |  \n",
      " |  n_features_in_ : int\n",
      " |      Number of features seen during :term:`fit`.\n",
      " |  \n",
      " |      .. versionadded:: 0.24\n",
      " |  \n",
      " |  n_samples_seen_ : int\n",
      " |      The number of samples processed by the estimator.\n",
      " |      It will be reset on new calls to fit, but increments across\n",
      " |      ``partial_fit`` calls.\n",
      " |  \n",
      " |  feature_names_in_ : ndarray of shape (`n_features_in_`,)\n",
      " |      Names of features seen during :term:`fit`. Defined only when `X`\n",
      " |      has feature names that are all strings.\n",
      " |  \n",
      " |      .. versionadded:: 1.0\n",
      " |  \n",
      " |  See Also\n",
      " |  --------\n",
      " |  minmax_scale : Equivalent function without the estimator API.\n",
      " |  \n",
      " |  Notes\n",
      " |  -----\n",
      " |  NaNs are treated as missing values: disregarded in fit, and maintained in\n",
      " |  transform.\n",
      " |  \n",
      " |  For a comparison of the different scalers, transformers, and normalizers,\n",
      " |  see :ref:`examples/preprocessing/plot_all_scaling.py\n",
      " |  <sphx_glr_auto_examples_preprocessing_plot_all_scaling.py>`.\n",
      " |  \n",
      " |  Examples\n",
      " |  --------\n",
      " |  >>> from sklearn.preprocessing import MinMaxScaler\n",
      " |  >>> data = [[-1, 2], [-0.5, 6], [0, 10], [1, 18]]\n",
      " |  >>> scaler = MinMaxScaler()\n",
      " |  >>> print(scaler.fit(data))\n",
      " |  MinMaxScaler()\n",
      " |  >>> print(scaler.data_max_)\n",
      " |  [ 1. 18.]\n",
      " |  >>> print(scaler.transform(data))\n",
      " |  [[0.   0.  ]\n",
      " |   [0.25 0.25]\n",
      " |   [0.5  0.5 ]\n",
      " |   [1.   1.  ]]\n",
      " |  >>> print(scaler.transform([[2, 2]]))\n",
      " |  [[1.5 0. ]]\n",
      " |  \n",
      " |  Method resolution order:\n",
      " |      MinMaxScaler\n",
      " |      sklearn.base._OneToOneFeatureMixin\n",
      " |      sklearn.base.TransformerMixin\n",
      " |      sklearn.base.BaseEstimator\n",
      " |      builtins.object\n",
      " |  \n",
      " |  Methods defined here:\n",
      " |  \n",
      " |  __init__(self, feature_range=(0, 1), *, copy=True, clip=False)\n",
      " |      Initialize self.  See help(type(self)) for accurate signature.\n",
      " |  \n",
      " |  fit(self, X, y=None)\n",
      " |      Compute the minimum and maximum to be used for later scaling.\n",
      " |      \n",
      " |      Parameters\n",
      " |      ----------\n",
      " |      X : array-like of shape (n_samples, n_features)\n",
      " |          The data used to compute the per-feature minimum and maximum\n",
      " |          used for later scaling along the features axis.\n",
      " |      \n",
      " |      y : None\n",
      " |          Ignored.\n",
      " |      \n",
      " |      Returns\n",
      " |      -------\n",
      " |      self : object\n",
      " |          Fitted scaler.\n",
      " |  \n",
      " |  inverse_transform(self, X)\n",
      " |      Undo the scaling of X according to feature_range.\n",
      " |      \n",
      " |      Parameters\n",
      " |      ----------\n",
      " |      X : array-like of shape (n_samples, n_features)\n",
      " |          Input data that will be transformed. It cannot be sparse.\n",
      " |      \n",
      " |      Returns\n",
      " |      -------\n",
      " |      Xt : ndarray of shape (n_samples, n_features)\n",
      " |          Transformed data.\n",
      " |  \n",
      " |  partial_fit(self, X, y=None)\n",
      " |      Online computation of min and max on X for later scaling.\n",
      " |      \n",
      " |      All of X is processed as a single batch. This is intended for cases\n",
      " |      when :meth:`fit` is not feasible due to very large number of\n",
      " |      `n_samples` or because X is read from a continuous stream.\n",
      " |      \n",
      " |      Parameters\n",
      " |      ----------\n",
      " |      X : array-like of shape (n_samples, n_features)\n",
      " |          The data used to compute the mean and standard deviation\n",
      " |          used for later scaling along the features axis.\n",
      " |      \n",
      " |      y : None\n",
      " |          Ignored.\n",
      " |      \n",
      " |      Returns\n",
      " |      -------\n",
      " |      self : object\n",
      " |          Fitted scaler.\n",
      " |  \n",
      " |  transform(self, X)\n",
      " |      Scale features of X according to feature_range.\n",
      " |      \n",
      " |      Parameters\n",
      " |      ----------\n",
      " |      X : array-like of shape (n_samples, n_features)\n",
      " |          Input data that will be transformed.\n",
      " |      \n",
      " |      Returns\n",
      " |      -------\n",
      " |      Xt : ndarray of shape (n_samples, n_features)\n",
      " |          Transformed data.\n",
      " |  \n",
      " |  ----------------------------------------------------------------------\n",
      " |  Methods inherited from sklearn.base._OneToOneFeatureMixin:\n",
      " |  \n",
      " |  get_feature_names_out(self, input_features=None)\n",
      " |      Get output feature names for transformation.\n",
      " |      \n",
      " |      Parameters\n",
      " |      ----------\n",
      " |      input_features : array-like of str or None, default=None\n",
      " |          Input features.\n",
      " |      \n",
      " |          - If `input_features` is `None`, then `feature_names_in_` is\n",
      " |            used as feature names in. If `feature_names_in_` is not defined,\n",
      " |            then names are generated: `[x0, x1, ..., x(n_features_in_)]`.\n",
      " |          - If `input_features` is an array-like, then `input_features` must\n",
      " |            match `feature_names_in_` if `feature_names_in_` is defined.\n",
      " |      \n",
      " |      Returns\n",
      " |      -------\n",
      " |      feature_names_out : ndarray of str objects\n",
      " |          Same as input features.\n",
      " |  \n",
      " |  ----------------------------------------------------------------------\n",
      " |  Data descriptors inherited from sklearn.base._OneToOneFeatureMixin:\n",
      " |  \n",
      " |  __dict__\n",
      " |      dictionary for instance variables (if defined)\n",
      " |  \n",
      " |  __weakref__\n",
      " |      list of weak references to the object (if defined)\n",
      " |  \n",
      " |  ----------------------------------------------------------------------\n",
      " |  Methods inherited from sklearn.base.TransformerMixin:\n",
      " |  \n",
      " |  fit_transform(self, X, y=None, **fit_params)\n",
      " |      Fit to data, then transform it.\n",
      " |      \n",
      " |      Fits transformer to `X` and `y` with optional parameters `fit_params`\n",
      " |      and returns a transformed version of `X`.\n",
      " |      \n",
      " |      Parameters\n",
      " |      ----------\n",
      " |      X : array-like of shape (n_samples, n_features)\n",
      " |          Input samples.\n",
      " |      \n",
      " |      y :  array-like of shape (n_samples,) or (n_samples, n_outputs),                 default=None\n",
      " |          Target values (None for unsupervised transformations).\n",
      " |      \n",
      " |      **fit_params : dict\n",
      " |          Additional fit parameters.\n",
      " |      \n",
      " |      Returns\n",
      " |      -------\n",
      " |      X_new : ndarray array of shape (n_samples, n_features_new)\n",
      " |          Transformed array.\n",
      " |  \n",
      " |  ----------------------------------------------------------------------\n",
      " |  Methods inherited from sklearn.base.BaseEstimator:\n",
      " |  \n",
      " |  __getstate__(self)\n",
      " |  \n",
      " |  __repr__(self, N_CHAR_MAX=700)\n",
      " |      Return repr(self).\n",
      " |  \n",
      " |  __setstate__(self, state)\n",
      " |  \n",
      " |  get_params(self, deep=True)\n",
      " |      Get parameters for this estimator.\n",
      " |      \n",
      " |      Parameters\n",
      " |      ----------\n",
      " |      deep : bool, default=True\n",
      " |          If True, will return the parameters for this estimator and\n",
      " |          contained subobjects that are estimators.\n",
      " |      \n",
      " |      Returns\n",
      " |      -------\n",
      " |      params : dict\n",
      " |          Parameter names mapped to their values.\n",
      " |  \n",
      " |  set_params(self, **params)\n",
      " |      Set the parameters of this estimator.\n",
      " |      \n",
      " |      The method works on simple estimators as well as on nested objects\n",
      " |      (such as :class:`~sklearn.pipeline.Pipeline`). The latter have\n",
      " |      parameters of the form ``<component>__<parameter>`` so that it's\n",
      " |      possible to update each component of a nested object.\n",
      " |      \n",
      " |      Parameters\n",
      " |      ----------\n",
      " |      **params : dict\n",
      " |          Estimator parameters.\n",
      " |      \n",
      " |      Returns\n",
      " |      -------\n",
      " |      self : estimator instance\n",
      " |          Estimator instance.\n",
      "\n"
     ]
    }
   ],
   "source": [
    "help(MinMaxScaler)"
   ]
  },
  {
   "cell_type": "code",
   "execution_count": 23,
   "metadata": {
    "id": "2_W_2EKSdl9I"
   },
   "outputs": [],
   "source": [
    "scaler = MinMaxScaler()"
   ]
  },
  {
   "cell_type": "code",
   "execution_count": 24,
   "metadata": {
    "id": "sdAxyn0mdl9I"
   },
   "outputs": [],
   "source": [
    "scaler.fit(X_train)\n",
    "X_train = scaler.transform(X_train)\n",
    "X_test = scaler.transform(X_test)"
   ]
  },
  {
   "cell_type": "markdown",
   "metadata": {
    "id": "dUZDQl1ddl9J"
   },
   "source": [
    "## Modelling"
   ]
  },
  {
   "cell_type": "code",
   "execution_count": 25,
   "metadata": {
    "id": "mEwVMw8Fdl9J"
   },
   "outputs": [],
   "source": [
    "import tensorflow as tf"
   ]
  },
  {
   "cell_type": "code",
   "execution_count": 26,
   "metadata": {
    "id": "7YIwVxjwdl9J"
   },
   "outputs": [],
   "source": [
    "from tensorflow.keras.models import Sequential\n",
    "from tensorflow.keras.layers import Input,Dense, Activation"
   ]
  },
  {
   "cell_type": "code",
   "execution_count": 27,
   "metadata": {
    "id": "WpwM7Brfdl9J"
   },
   "outputs": [],
   "source": [
    "# help(Sequential)"
   ]
  },
  {
   "cell_type": "code",
   "execution_count": 28,
   "metadata": {
    "id": "ALzVD6nNdl9J"
   },
   "outputs": [],
   "source": [
    "# help(Dense)"
   ]
  },
  {
   "cell_type": "code",
   "execution_count": 29,
   "metadata": {
    "colab": {
     "base_uri": "https://localhost:8080/"
    },
    "id": "OL1yYj99dl9J",
    "outputId": "b10661fd-aed5-4d59-b52c-6b8789e059ac"
   },
   "outputs": [
    {
     "data": {
      "text/plain": [
       "(700, 2)"
      ]
     },
     "execution_count": 29,
     "metadata": {},
     "output_type": "execute_result"
    }
   ],
   "source": [
    "X_train.shape"
   ]
  },
  {
   "cell_type": "code",
   "execution_count": 30,
   "metadata": {
    "id": "pjltyqaVdl9J"
   },
   "outputs": [],
   "source": [
    "# First way to create model\n",
    "\n",
    "model = Sequential([Input(shape = X_train.shape[1]),\n",
    "                    Dense(units = 4, activation = \"relu\"),\n",
    "                    Dense(units = 4, activation = \"relu\"),\n",
    "                    Dense(units = 4, activation = \"relu\"),\n",
    "                    Dense(units = 1)])"
   ]
  },
  {
   "cell_type": "code",
   "execution_count": 31,
   "metadata": {
    "id": "3gG5X0u3dl9K"
   },
   "outputs": [],
   "source": [
    "# Second way to create model (recommended)\n",
    "\n",
    "model = Sequential()\n",
    "#model.add(Input(shape = X_train.shape[1]))\n",
    "model.add(Dense(units = 4, activation = \"relu\", input_dim = X_train.shape[1]))\n",
    "model.add(Dense(units = 4, activation = \"relu\"))\n",
    "model.add(Dense(units = 4, activation = \"relu\"))\n",
    "model.add(Dense(units = 1))"
   ]
  },
  {
   "cell_type": "code",
   "execution_count": 32,
   "metadata": {
    "colab": {
     "base_uri": "https://localhost:8080/"
    },
    "id": "uQoztreydl9K",
    "outputId": "bbe919a2-801d-4ba1-9b55-183e7c8c5620"
   },
   "outputs": [
    {
     "name": "stdout",
     "output_type": "stream",
     "text": [
      "Model: \"sequential_1\"\n",
      "_________________________________________________________________\n",
      " Layer (type)                Output Shape              Param #   \n",
      "=================================================================\n",
      " dense_4 (Dense)             (None, 4)                 12        \n",
      "                                                                 \n",
      " dense_5 (Dense)             (None, 4)                 20        \n",
      "                                                                 \n",
      " dense_6 (Dense)             (None, 4)                 20        \n",
      "                                                                 \n",
      " dense_7 (Dense)             (None, 1)                 5         \n",
      "                                                                 \n",
      "=================================================================\n",
      "Total params: 57\n",
      "Trainable params: 57\n",
      "Non-trainable params: 0\n",
      "_________________________________________________________________\n"
     ]
    }
   ],
   "source": [
    "model.summary()"
   ]
  },
  {
   "cell_type": "code",
   "execution_count": 33,
   "metadata": {
    "colab": {
     "base_uri": "https://localhost:8080/"
    },
    "id": "YUoA0g7vdl9K",
    "outputId": "bd9f2486-e8ce-4762-da14-ef9c14e1773c"
   },
   "outputs": [
    {
     "data": {
      "text/plain": [
       "[<tf.Variable 'dense_4/kernel:0' shape=(2, 4) dtype=float32, numpy=\n",
       " array([[ 0.86050916,  0.5146744 , -0.49992442,  0.1166997 ],\n",
       "        [-0.12818694, -0.21894598,  0.7377167 ,  0.9946902 ]],\n",
       "       dtype=float32)>,\n",
       " <tf.Variable 'dense_4/bias:0' shape=(4,) dtype=float32, numpy=array([0., 0., 0., 0.], dtype=float32)>,\n",
       " <tf.Variable 'dense_5/kernel:0' shape=(4, 4) dtype=float32, numpy=\n",
       " array([[ 0.7955708 ,  0.5021462 , -0.46630868, -0.79038846],\n",
       "        [-0.8558812 ,  0.4526903 , -0.6635163 ,  0.37911266],\n",
       "        [ 0.1714918 , -0.48795733, -0.5332589 , -0.14029855],\n",
       "        [ 0.17741495,  0.3862881 ,  0.27075583,  0.01913047]],\n",
       "       dtype=float32)>,\n",
       " <tf.Variable 'dense_5/bias:0' shape=(4,) dtype=float32, numpy=array([0., 0., 0., 0.], dtype=float32)>,\n",
       " <tf.Variable 'dense_6/kernel:0' shape=(4, 4) dtype=float32, numpy=\n",
       " array([[-0.20933354,  0.08345205, -0.7563254 ,  0.6373789 ],\n",
       "        [-0.557624  , -0.13790524, -0.36420482, -0.04837185],\n",
       "        [ 0.49420124, -0.27617496,  0.07434314,  0.08428824],\n",
       "        [-0.6069438 , -0.6032338 ,  0.5075943 ,  0.22257656]],\n",
       "       dtype=float32)>,\n",
       " <tf.Variable 'dense_6/bias:0' shape=(4,) dtype=float32, numpy=array([0., 0., 0., 0.], dtype=float32)>,\n",
       " <tf.Variable 'dense_7/kernel:0' shape=(4, 1) dtype=float32, numpy=\n",
       " array([[-0.29074436],\n",
       "        [ 0.06510925],\n",
       "        [ 0.4707986 ],\n",
       "        [ 0.44553936]], dtype=float32)>,\n",
       " <tf.Variable 'dense_7/bias:0' shape=(1,) dtype=float32, numpy=array([0.], dtype=float32)>]"
      ]
     },
     "execution_count": 33,
     "metadata": {},
     "output_type": "execute_result"
    }
   ],
   "source": [
    "model.weights"
   ]
  },
  {
   "cell_type": "markdown",
   "metadata": {
    "id": "7brpL8jpdl9K"
   },
   "source": [
    "### Choosing an optimizer and loss\n",
    "\n",
    "Keep in mind what kind of problem you are trying to solve:\n",
    "\n",
    "    # For a multi-class classification problem\n",
    "    model.compile(optimizer='rmsprop',\n",
    "                  loss='categorical_crossentropy',\n",
    "                  metrics=['accuracy'])\n",
    "\n",
    "    # For a binary classification problem\n",
    "    model.compile(optimizer='rmsprop',\n",
    "                  loss='binary_crossentropy',\n",
    "                  metrics=['accuracy'])\n",
    "\n",
    "    # For a mean squared error regression problem\n",
    "    model.compile(optimizer='rmsprop',\n",
    "                  loss='mse')"
   ]
  },
  {
   "cell_type": "code",
   "execution_count": 34,
   "metadata": {
    "id": "BDt-yAh8dl9L"
   },
   "outputs": [],
   "source": [
    "model.compile(optimizer = \"rmsprop\", loss = \"mse\")"
   ]
  },
  {
   "cell_type": "code",
   "execution_count": 35,
   "metadata": {
    "colab": {
     "base_uri": "https://localhost:8080/"
    },
    "id": "7AMwTTkXdl9L",
    "outputId": "f0b4db4f-c360-4e8e-b5c4-e7c295a519a1"
   },
   "outputs": [
    {
     "name": "stdout",
     "output_type": "stream",
     "text": [
      "Epoch 1/250\n",
      "22/22 [==============================] - 2s 4ms/step - loss: 256579.4219\n",
      "Epoch 2/250\n",
      "22/22 [==============================] - 0s 7ms/step - loss: 256463.5469\n",
      "Epoch 3/250\n",
      "22/22 [==============================] - 0s 6ms/step - loss: 256343.2031\n",
      "Epoch 4/250\n",
      "22/22 [==============================] - 0s 5ms/step - loss: 256210.1094\n",
      "Epoch 5/250\n",
      "22/22 [==============================] - 0s 3ms/step - loss: 256057.5781\n",
      "Epoch 6/250\n",
      "22/22 [==============================] - 0s 4ms/step - loss: 255882.6719\n",
      "Epoch 7/250\n",
      "22/22 [==============================] - 0s 3ms/step - loss: 255683.7188\n",
      "Epoch 8/250\n",
      "22/22 [==============================] - 0s 3ms/step - loss: 255456.8906\n",
      "Epoch 9/250\n",
      "22/22 [==============================] - 0s 3ms/step - loss: 255199.0625\n",
      "Epoch 10/250\n",
      "22/22 [==============================] - 0s 5ms/step - loss: 254907.5625\n",
      "Epoch 11/250\n",
      "22/22 [==============================] - 0s 5ms/step - loss: 254580.3594\n",
      "Epoch 12/250\n",
      "22/22 [==============================] - 0s 4ms/step - loss: 254212.5781\n",
      "Epoch 13/250\n",
      "22/22 [==============================] - 0s 3ms/step - loss: 253802.4844\n",
      "Epoch 14/250\n",
      "22/22 [==============================] - 0s 6ms/step - loss: 253342.8281\n",
      "Epoch 15/250\n",
      "22/22 [==============================] - 0s 3ms/step - loss: 252832.7344\n",
      "Epoch 16/250\n",
      "22/22 [==============================] - 0s 3ms/step - loss: 252268.7812\n",
      "Epoch 17/250\n",
      "22/22 [==============================] - 0s 4ms/step - loss: 251649.5156\n",
      "Epoch 18/250\n",
      "22/22 [==============================] - 0s 4ms/step - loss: 250965.5938\n",
      "Epoch 19/250\n",
      "22/22 [==============================] - 0s 3ms/step - loss: 250213.9844\n",
      "Epoch 20/250\n",
      "22/22 [==============================] - 0s 4ms/step - loss: 249391.5469\n",
      "Epoch 21/250\n",
      "22/22 [==============================] - 0s 5ms/step - loss: 248499.9844\n",
      "Epoch 22/250\n",
      "22/22 [==============================] - 0s 2ms/step - loss: 247524.3594\n",
      "Epoch 23/250\n",
      "22/22 [==============================] - 0s 2ms/step - loss: 246470.7500\n",
      "Epoch 24/250\n",
      "22/22 [==============================] - 0s 3ms/step - loss: 245328.0625\n",
      "Epoch 25/250\n",
      "22/22 [==============================] - 0s 3ms/step - loss: 244094.4219\n",
      "Epoch 26/250\n",
      "22/22 [==============================] - 0s 3ms/step - loss: 242763.6406\n",
      "Epoch 27/250\n",
      "22/22 [==============================] - 0s 4ms/step - loss: 241332.8281\n",
      "Epoch 28/250\n",
      "22/22 [==============================] - 0s 4ms/step - loss: 239797.2812\n",
      "Epoch 29/250\n",
      "22/22 [==============================] - 0s 3ms/step - loss: 238143.8125\n",
      "Epoch 30/250\n",
      "22/22 [==============================] - 0s 4ms/step - loss: 236392.6406\n",
      "Epoch 31/250\n",
      "22/22 [==============================] - 0s 3ms/step - loss: 234522.7812\n",
      "Epoch 32/250\n",
      "22/22 [==============================] - 0s 5ms/step - loss: 232527.8906\n",
      "Epoch 33/250\n",
      "22/22 [==============================] - 0s 4ms/step - loss: 230394.6719\n",
      "Epoch 34/250\n",
      "22/22 [==============================] - 0s 3ms/step - loss: 228131.8906\n",
      "Epoch 35/250\n",
      "22/22 [==============================] - 0s 6ms/step - loss: 225728.8750\n",
      "Epoch 36/250\n",
      "22/22 [==============================] - 0s 3ms/step - loss: 223210.4688\n",
      "Epoch 37/250\n",
      "22/22 [==============================] - 0s 3ms/step - loss: 220542.2656\n",
      "Epoch 38/250\n",
      "22/22 [==============================] - 0s 3ms/step - loss: 217726.9531\n",
      "Epoch 39/250\n",
      "22/22 [==============================] - 0s 3ms/step - loss: 214752.6094\n",
      "Epoch 40/250\n",
      "22/22 [==============================] - 0s 3ms/step - loss: 211636.5938\n",
      "Epoch 41/250\n",
      "22/22 [==============================] - 0s 6ms/step - loss: 208376.0938\n",
      "Epoch 42/250\n",
      "22/22 [==============================] - 0s 3ms/step - loss: 204944.6875\n",
      "Epoch 43/250\n",
      "22/22 [==============================] - 0s 4ms/step - loss: 201362.2344\n",
      "Epoch 44/250\n",
      "22/22 [==============================] - 0s 3ms/step - loss: 197610.7500\n",
      "Epoch 45/250\n",
      "22/22 [==============================] - 0s 3ms/step - loss: 193685.7344\n",
      "Epoch 46/250\n",
      "22/22 [==============================] - 0s 4ms/step - loss: 189625.5156\n",
      "Epoch 47/250\n",
      "22/22 [==============================] - 0s 5ms/step - loss: 185387.3594\n",
      "Epoch 48/250\n",
      "22/22 [==============================] - 0s 4ms/step - loss: 180993.0781\n",
      "Epoch 49/250\n",
      "22/22 [==============================] - 0s 2ms/step - loss: 176409.3906\n",
      "Epoch 50/250\n",
      "22/22 [==============================] - 0s 5ms/step - loss: 171707.2031\n",
      "Epoch 51/250\n",
      "22/22 [==============================] - 0s 3ms/step - loss: 166844.8906\n",
      "Epoch 52/250\n",
      "22/22 [==============================] - 0s 3ms/step - loss: 161818.8906\n",
      "Epoch 53/250\n",
      "22/22 [==============================] - 0s 3ms/step - loss: 156626.2812\n",
      "Epoch 54/250\n",
      "22/22 [==============================] - 0s 2ms/step - loss: 151313.6094\n",
      "Epoch 55/250\n",
      "22/22 [==============================] - 0s 2ms/step - loss: 145849.4844\n",
      "Epoch 56/250\n",
      "22/22 [==============================] - 0s 3ms/step - loss: 140266.4844\n",
      "Epoch 57/250\n",
      "22/22 [==============================] - 0s 3ms/step - loss: 134546.1562\n",
      "Epoch 58/250\n",
      "22/22 [==============================] - 0s 3ms/step - loss: 128695.8594\n",
      "Epoch 59/250\n",
      "22/22 [==============================] - 0s 3ms/step - loss: 122770.5469\n",
      "Epoch 60/250\n",
      "22/22 [==============================] - 0s 3ms/step - loss: 116750.6719\n",
      "Epoch 61/250\n",
      "22/22 [==============================] - 0s 4ms/step - loss: 110613.8438\n",
      "Epoch 62/250\n",
      "22/22 [==============================] - 0s 3ms/step - loss: 104425.6719\n",
      "Epoch 63/250\n",
      "22/22 [==============================] - 0s 3ms/step - loss: 98220.8594\n",
      "Epoch 64/250\n",
      "22/22 [==============================] - 0s 3ms/step - loss: 91915.9297\n",
      "Epoch 65/250\n",
      "22/22 [==============================] - 0s 3ms/step - loss: 85601.5625\n",
      "Epoch 66/250\n",
      "22/22 [==============================] - 0s 2ms/step - loss: 79324.3203\n",
      "Epoch 67/250\n",
      "22/22 [==============================] - 0s 2ms/step - loss: 73048.1953\n",
      "Epoch 68/250\n",
      "22/22 [==============================] - 0s 4ms/step - loss: 66879.7188\n",
      "Epoch 69/250\n",
      "22/22 [==============================] - 0s 3ms/step - loss: 60782.9844\n",
      "Epoch 70/250\n",
      "22/22 [==============================] - 0s 2ms/step - loss: 54771.2695\n",
      "Epoch 71/250\n",
      "22/22 [==============================] - 0s 2ms/step - loss: 48876.1523\n",
      "Epoch 72/250\n",
      "22/22 [==============================] - 0s 2ms/step - loss: 43151.8984\n",
      "Epoch 73/250\n",
      "22/22 [==============================] - 0s 4ms/step - loss: 37623.5312\n",
      "Epoch 74/250\n",
      "22/22 [==============================] - 0s 3ms/step - loss: 32335.2227\n",
      "Epoch 75/250\n",
      "22/22 [==============================] - 0s 4ms/step - loss: 27341.5254\n",
      "Epoch 76/250\n",
      "22/22 [==============================] - 0s 3ms/step - loss: 22683.7480\n",
      "Epoch 77/250\n",
      "22/22 [==============================] - 0s 3ms/step - loss: 18361.4629\n",
      "Epoch 78/250\n",
      "22/22 [==============================] - 0s 2ms/step - loss: 14455.5254\n",
      "Epoch 79/250\n",
      "22/22 [==============================] - 0s 3ms/step - loss: 11015.5273\n",
      "Epoch 80/250\n",
      "22/22 [==============================] - 0s 3ms/step - loss: 8048.6343\n",
      "Epoch 81/250\n",
      "22/22 [==============================] - 0s 4ms/step - loss: 5624.2832\n",
      "Epoch 82/250\n",
      "22/22 [==============================] - 0s 3ms/step - loss: 3797.9590\n",
      "Epoch 83/250\n",
      "22/22 [==============================] - 0s 3ms/step - loss: 2539.1379\n",
      "Epoch 84/250\n",
      "22/22 [==============================] - 0s 2ms/step - loss: 1835.9493\n",
      "Epoch 85/250\n",
      "22/22 [==============================] - 0s 4ms/step - loss: 1610.7762\n",
      "Epoch 86/250\n",
      "22/22 [==============================] - 0s 4ms/step - loss: 1560.9640\n",
      "Epoch 87/250\n",
      "22/22 [==============================] - 0s 7ms/step - loss: 1529.5763\n",
      "Epoch 88/250\n",
      "22/22 [==============================] - 0s 3ms/step - loss: 1495.4777\n",
      "Epoch 89/250\n",
      "22/22 [==============================] - 0s 2ms/step - loss: 1464.0541\n",
      "Epoch 90/250\n",
      "22/22 [==============================] - 0s 2ms/step - loss: 1433.3982\n",
      "Epoch 91/250\n",
      "22/22 [==============================] - 0s 3ms/step - loss: 1400.2332\n",
      "Epoch 92/250\n",
      "22/22 [==============================] - 0s 2ms/step - loss: 1369.4327\n",
      "Epoch 93/250\n",
      "22/22 [==============================] - 0s 2ms/step - loss: 1342.0684\n",
      "Epoch 94/250\n",
      "22/22 [==============================] - 0s 2ms/step - loss: 1312.9303\n",
      "Epoch 95/250\n",
      "22/22 [==============================] - 0s 2ms/step - loss: 1285.6449\n",
      "Epoch 96/250\n",
      "22/22 [==============================] - 0s 2ms/step - loss: 1256.3618\n",
      "Epoch 97/250\n",
      "22/22 [==============================] - 0s 2ms/step - loss: 1231.2637\n",
      "Epoch 98/250\n",
      "22/22 [==============================] - 0s 2ms/step - loss: 1205.2262\n",
      "Epoch 99/250\n",
      "22/22 [==============================] - 0s 2ms/step - loss: 1177.5590\n",
      "Epoch 100/250\n",
      "22/22 [==============================] - 0s 2ms/step - loss: 1150.3413\n",
      "Epoch 101/250\n",
      "22/22 [==============================] - 0s 2ms/step - loss: 1126.7657\n",
      "Epoch 102/250\n",
      "22/22 [==============================] - 0s 2ms/step - loss: 1096.5387\n",
      "Epoch 103/250\n",
      "22/22 [==============================] - 0s 3ms/step - loss: 1070.7170\n",
      "Epoch 104/250\n",
      "22/22 [==============================] - 0s 2ms/step - loss: 1041.6903\n",
      "Epoch 105/250\n",
      "22/22 [==============================] - 0s 2ms/step - loss: 1016.6340\n",
      "Epoch 106/250\n",
      "22/22 [==============================] - 0s 2ms/step - loss: 990.4688\n",
      "Epoch 107/250\n",
      "22/22 [==============================] - 0s 2ms/step - loss: 965.9082\n",
      "Epoch 108/250\n",
      "22/22 [==============================] - 0s 2ms/step - loss: 943.6101\n",
      "Epoch 109/250\n",
      "22/22 [==============================] - 0s 2ms/step - loss: 921.7776\n",
      "Epoch 110/250\n",
      "22/22 [==============================] - 0s 2ms/step - loss: 898.5688\n",
      "Epoch 111/250\n",
      "22/22 [==============================] - 0s 2ms/step - loss: 874.4180\n",
      "Epoch 112/250\n",
      "22/22 [==============================] - 0s 2ms/step - loss: 847.4765\n",
      "Epoch 113/250\n",
      "22/22 [==============================] - 0s 2ms/step - loss: 825.8105\n",
      "Epoch 114/250\n",
      "22/22 [==============================] - 0s 2ms/step - loss: 801.2966\n",
      "Epoch 115/250\n",
      "22/22 [==============================] - 0s 2ms/step - loss: 778.3672\n",
      "Epoch 116/250\n",
      "22/22 [==============================] - 0s 2ms/step - loss: 755.0046\n",
      "Epoch 117/250\n",
      "22/22 [==============================] - 0s 2ms/step - loss: 733.2614\n",
      "Epoch 118/250\n",
      "22/22 [==============================] - 0s 2ms/step - loss: 708.8533\n",
      "Epoch 119/250\n",
      "22/22 [==============================] - 0s 2ms/step - loss: 686.7059\n",
      "Epoch 120/250\n",
      "22/22 [==============================] - 0s 2ms/step - loss: 663.2094\n",
      "Epoch 121/250\n",
      "22/22 [==============================] - 0s 2ms/step - loss: 638.5531\n",
      "Epoch 122/250\n",
      "22/22 [==============================] - 0s 2ms/step - loss: 617.0701\n",
      "Epoch 123/250\n",
      "22/22 [==============================] - 0s 2ms/step - loss: 596.2224\n",
      "Epoch 124/250\n",
      "22/22 [==============================] - 0s 2ms/step - loss: 574.7761\n",
      "Epoch 125/250\n",
      "22/22 [==============================] - 0s 2ms/step - loss: 553.6295\n",
      "Epoch 126/250\n",
      "22/22 [==============================] - 0s 2ms/step - loss: 535.2200\n",
      "Epoch 127/250\n",
      "22/22 [==============================] - 0s 2ms/step - loss: 512.3600\n",
      "Epoch 128/250\n",
      "22/22 [==============================] - 0s 2ms/step - loss: 492.8976\n",
      "Epoch 129/250\n",
      "22/22 [==============================] - 0s 2ms/step - loss: 474.9803\n",
      "Epoch 130/250\n",
      "22/22 [==============================] - 0s 2ms/step - loss: 459.5125\n",
      "Epoch 131/250\n",
      "22/22 [==============================] - 0s 2ms/step - loss: 437.3819\n",
      "Epoch 132/250\n",
      "22/22 [==============================] - 0s 2ms/step - loss: 424.3104\n",
      "Epoch 133/250\n",
      "22/22 [==============================] - 0s 2ms/step - loss: 408.5152\n",
      "Epoch 134/250\n",
      "22/22 [==============================] - 0s 2ms/step - loss: 393.3186\n",
      "Epoch 135/250\n",
      "22/22 [==============================] - 0s 2ms/step - loss: 376.8344\n",
      "Epoch 136/250\n",
      "22/22 [==============================] - 0s 2ms/step - loss: 362.2677\n",
      "Epoch 137/250\n",
      "22/22 [==============================] - 0s 2ms/step - loss: 345.7339\n",
      "Epoch 138/250\n",
      "22/22 [==============================] - 0s 2ms/step - loss: 330.4090\n",
      "Epoch 139/250\n",
      "22/22 [==============================] - 0s 2ms/step - loss: 315.8591\n",
      "Epoch 140/250\n",
      "22/22 [==============================] - 0s 2ms/step - loss: 302.3175\n",
      "Epoch 141/250\n",
      "22/22 [==============================] - 0s 2ms/step - loss: 287.8837\n",
      "Epoch 142/250\n",
      "22/22 [==============================] - 0s 2ms/step - loss: 273.1414\n",
      "Epoch 143/250\n",
      "22/22 [==============================] - 0s 2ms/step - loss: 260.8374\n",
      "Epoch 144/250\n",
      "22/22 [==============================] - 0s 2ms/step - loss: 249.2312\n",
      "Epoch 145/250\n",
      "22/22 [==============================] - 0s 2ms/step - loss: 236.6181\n",
      "Epoch 146/250\n",
      "22/22 [==============================] - 0s 2ms/step - loss: 223.7601\n",
      "Epoch 147/250\n",
      "22/22 [==============================] - 0s 2ms/step - loss: 210.3061\n",
      "Epoch 148/250\n",
      "22/22 [==============================] - 0s 2ms/step - loss: 199.2679\n",
      "Epoch 149/250\n",
      "22/22 [==============================] - 0s 2ms/step - loss: 187.7742\n",
      "Epoch 150/250\n",
      "22/22 [==============================] - 0s 2ms/step - loss: 176.1354\n",
      "Epoch 151/250\n",
      "22/22 [==============================] - 0s 2ms/step - loss: 165.1688\n",
      "Epoch 152/250\n",
      "22/22 [==============================] - 0s 2ms/step - loss: 155.4930\n",
      "Epoch 153/250\n",
      "22/22 [==============================] - 0s 2ms/step - loss: 145.7060\n",
      "Epoch 154/250\n",
      "22/22 [==============================] - 0s 2ms/step - loss: 135.4851\n",
      "Epoch 155/250\n",
      "22/22 [==============================] - 0s 2ms/step - loss: 126.2150\n",
      "Epoch 156/250\n",
      "22/22 [==============================] - 0s 2ms/step - loss: 118.1507\n",
      "Epoch 157/250\n",
      "22/22 [==============================] - 0s 2ms/step - loss: 110.6521\n",
      "Epoch 158/250\n",
      "22/22 [==============================] - 0s 2ms/step - loss: 102.9994\n",
      "Epoch 159/250\n",
      "22/22 [==============================] - 0s 2ms/step - loss: 94.5531\n",
      "Epoch 160/250\n",
      "22/22 [==============================] - 0s 2ms/step - loss: 88.9940\n",
      "Epoch 161/250\n",
      "22/22 [==============================] - 0s 2ms/step - loss: 82.4999\n",
      "Epoch 162/250\n",
      "22/22 [==============================] - 0s 2ms/step - loss: 77.2495\n",
      "Epoch 163/250\n",
      "22/22 [==============================] - 0s 2ms/step - loss: 71.5525\n",
      "Epoch 164/250\n",
      "22/22 [==============================] - 0s 2ms/step - loss: 67.0688\n",
      "Epoch 165/250\n",
      "22/22 [==============================] - 0s 2ms/step - loss: 61.2788\n",
      "Epoch 166/250\n",
      "22/22 [==============================] - 0s 3ms/step - loss: 57.9246\n",
      "Epoch 167/250\n",
      "22/22 [==============================] - 0s 2ms/step - loss: 53.5238\n",
      "Epoch 168/250\n",
      "22/22 [==============================] - 0s 2ms/step - loss: 50.5408\n",
      "Epoch 169/250\n",
      "22/22 [==============================] - 0s 2ms/step - loss: 46.7235\n",
      "Epoch 170/250\n",
      "22/22 [==============================] - 0s 2ms/step - loss: 44.2334\n",
      "Epoch 171/250\n",
      "22/22 [==============================] - 0s 2ms/step - loss: 41.0662\n",
      "Epoch 172/250\n",
      "22/22 [==============================] - 0s 2ms/step - loss: 38.9591\n",
      "Epoch 173/250\n",
      "22/22 [==============================] - 0s 2ms/step - loss: 37.4579\n",
      "Epoch 174/250\n",
      "22/22 [==============================] - 0s 2ms/step - loss: 35.3534\n",
      "Epoch 175/250\n",
      "22/22 [==============================] - 0s 2ms/step - loss: 33.5791\n",
      "Epoch 176/250\n",
      "22/22 [==============================] - 0s 2ms/step - loss: 32.2182\n",
      "Epoch 177/250\n",
      "22/22 [==============================] - 0s 2ms/step - loss: 30.9409\n",
      "Epoch 178/250\n",
      "22/22 [==============================] - 0s 2ms/step - loss: 29.8802\n",
      "Epoch 179/250\n",
      "22/22 [==============================] - 0s 2ms/step - loss: 29.1291\n",
      "Epoch 180/250\n",
      "22/22 [==============================] - 0s 2ms/step - loss: 28.4868\n",
      "Epoch 181/250\n",
      "22/22 [==============================] - 0s 2ms/step - loss: 27.4597\n",
      "Epoch 182/250\n",
      "22/22 [==============================] - 0s 2ms/step - loss: 27.3200\n",
      "Epoch 183/250\n",
      "22/22 [==============================] - 0s 2ms/step - loss: 26.2683\n",
      "Epoch 184/250\n",
      "22/22 [==============================] - 0s 2ms/step - loss: 26.3626\n",
      "Epoch 185/250\n",
      "22/22 [==============================] - 0s 2ms/step - loss: 25.8435\n",
      "Epoch 186/250\n",
      "22/22 [==============================] - 0s 2ms/step - loss: 25.7611\n",
      "Epoch 187/250\n",
      "22/22 [==============================] - 0s 2ms/step - loss: 25.7030\n",
      "Epoch 188/250\n",
      "22/22 [==============================] - 0s 2ms/step - loss: 25.3044\n",
      "Epoch 189/250\n",
      "22/22 [==============================] - 0s 2ms/step - loss: 25.2114\n",
      "Epoch 190/250\n",
      "22/22 [==============================] - 0s 2ms/step - loss: 24.9404\n",
      "Epoch 191/250\n",
      "22/22 [==============================] - 0s 2ms/step - loss: 24.9854\n",
      "Epoch 192/250\n",
      "22/22 [==============================] - 0s 2ms/step - loss: 25.0475\n",
      "Epoch 193/250\n",
      "22/22 [==============================] - 0s 2ms/step - loss: 24.5494\n",
      "Epoch 194/250\n",
      "22/22 [==============================] - 0s 2ms/step - loss: 25.0003\n",
      "Epoch 195/250\n",
      "22/22 [==============================] - 0s 2ms/step - loss: 24.4512\n",
      "Epoch 196/250\n",
      "22/22 [==============================] - 0s 2ms/step - loss: 24.4982\n",
      "Epoch 197/250\n",
      "22/22 [==============================] - 0s 2ms/step - loss: 24.4400\n",
      "Epoch 198/250\n",
      "22/22 [==============================] - 0s 2ms/step - loss: 24.1726\n",
      "Epoch 199/250\n",
      "22/22 [==============================] - 0s 2ms/step - loss: 24.1787\n",
      "Epoch 200/250\n",
      "22/22 [==============================] - 0s 2ms/step - loss: 24.5395\n",
      "Epoch 201/250\n",
      "22/22 [==============================] - 0s 2ms/step - loss: 24.2995\n",
      "Epoch 202/250\n",
      "22/22 [==============================] - 0s 2ms/step - loss: 24.6428\n",
      "Epoch 203/250\n",
      "22/22 [==============================] - 0s 2ms/step - loss: 24.3772\n",
      "Epoch 204/250\n",
      "22/22 [==============================] - 0s 2ms/step - loss: 24.4253\n",
      "Epoch 205/250\n",
      "22/22 [==============================] - 0s 2ms/step - loss: 24.5702\n",
      "Epoch 206/250\n",
      "22/22 [==============================] - 0s 2ms/step - loss: 24.0520\n",
      "Epoch 207/250\n",
      "22/22 [==============================] - 0s 2ms/step - loss: 24.2423\n",
      "Epoch 208/250\n",
      "22/22 [==============================] - 0s 2ms/step - loss: 24.6944\n",
      "Epoch 209/250\n",
      "22/22 [==============================] - 0s 2ms/step - loss: 24.1518\n",
      "Epoch 210/250\n",
      "22/22 [==============================] - 0s 3ms/step - loss: 24.6777\n",
      "Epoch 211/250\n",
      "22/22 [==============================] - 0s 2ms/step - loss: 24.0347\n",
      "Epoch 212/250\n",
      "22/22 [==============================] - 0s 2ms/step - loss: 24.5011\n",
      "Epoch 213/250\n",
      "22/22 [==============================] - 0s 2ms/step - loss: 24.3242\n",
      "Epoch 214/250\n",
      "22/22 [==============================] - 0s 2ms/step - loss: 24.3910\n",
      "Epoch 215/250\n",
      "22/22 [==============================] - 0s 2ms/step - loss: 24.8401\n",
      "Epoch 216/250\n",
      "22/22 [==============================] - 0s 2ms/step - loss: 24.3912\n",
      "Epoch 217/250\n",
      "22/22 [==============================] - 0s 2ms/step - loss: 24.1041\n",
      "Epoch 218/250\n",
      "22/22 [==============================] - 0s 2ms/step - loss: 24.4898\n",
      "Epoch 219/250\n",
      "22/22 [==============================] - 0s 2ms/step - loss: 24.5598\n",
      "Epoch 220/250\n",
      "22/22 [==============================] - 0s 2ms/step - loss: 24.6298\n",
      "Epoch 221/250\n",
      "22/22 [==============================] - 0s 2ms/step - loss: 24.0167\n",
      "Epoch 222/250\n",
      "22/22 [==============================] - 0s 2ms/step - loss: 24.4355\n",
      "Epoch 223/250\n",
      "22/22 [==============================] - 0s 2ms/step - loss: 24.6118\n",
      "Epoch 224/250\n",
      "22/22 [==============================] - 0s 2ms/step - loss: 24.2774\n",
      "Epoch 225/250\n",
      "22/22 [==============================] - 0s 2ms/step - loss: 24.3032\n",
      "Epoch 226/250\n",
      "22/22 [==============================] - 0s 2ms/step - loss: 24.1631\n",
      "Epoch 227/250\n",
      "22/22 [==============================] - 0s 2ms/step - loss: 24.2248\n",
      "Epoch 228/250\n",
      "22/22 [==============================] - 0s 2ms/step - loss: 24.0923\n",
      "Epoch 229/250\n",
      "22/22 [==============================] - 0s 2ms/step - loss: 23.9276\n",
      "Epoch 230/250\n",
      "22/22 [==============================] - 0s 2ms/step - loss: 24.2739\n",
      "Epoch 231/250\n",
      "22/22 [==============================] - 0s 2ms/step - loss: 24.2009\n",
      "Epoch 232/250\n",
      "22/22 [==============================] - 0s 2ms/step - loss: 24.2454\n",
      "Epoch 233/250\n",
      "22/22 [==============================] - 0s 2ms/step - loss: 24.3366\n",
      "Epoch 234/250\n",
      "22/22 [==============================] - 0s 2ms/step - loss: 24.3400\n",
      "Epoch 235/250\n",
      "22/22 [==============================] - 0s 3ms/step - loss: 23.8608\n",
      "Epoch 236/250\n",
      "22/22 [==============================] - 0s 3ms/step - loss: 24.6371\n",
      "Epoch 237/250\n",
      "22/22 [==============================] - 0s 2ms/step - loss: 24.2797\n",
      "Epoch 238/250\n",
      "22/22 [==============================] - 0s 2ms/step - loss: 24.3061\n",
      "Epoch 239/250\n",
      "22/22 [==============================] - 0s 2ms/step - loss: 24.5094\n",
      "Epoch 240/250\n",
      "22/22 [==============================] - 0s 2ms/step - loss: 24.2683\n",
      "Epoch 241/250\n",
      "22/22 [==============================] - 0s 2ms/step - loss: 24.2196\n",
      "Epoch 242/250\n",
      "22/22 [==============================] - 0s 2ms/step - loss: 24.0758\n",
      "Epoch 243/250\n",
      "22/22 [==============================] - 0s 2ms/step - loss: 24.8845\n",
      "Epoch 244/250\n",
      "22/22 [==============================] - 0s 2ms/step - loss: 24.2585\n",
      "Epoch 245/250\n",
      "22/22 [==============================] - 0s 2ms/step - loss: 24.4870\n",
      "Epoch 246/250\n",
      "22/22 [==============================] - 0s 2ms/step - loss: 24.0723\n",
      "Epoch 247/250\n",
      "22/22 [==============================] - 0s 2ms/step - loss: 24.4971\n",
      "Epoch 248/250\n",
      "22/22 [==============================] - 0s 2ms/step - loss: 24.2305\n",
      "Epoch 249/250\n",
      "22/22 [==============================] - 0s 2ms/step - loss: 24.3966\n",
      "Epoch 250/250\n",
      "22/22 [==============================] - 0s 2ms/step - loss: 24.4173\n"
     ]
    },
    {
     "data": {
      "text/plain": [
       "<keras.callbacks.History at 0x7f4e464ef290>"
      ]
     },
     "execution_count": 35,
     "metadata": {},
     "output_type": "execute_result"
    }
   ],
   "source": [
    "model.fit(x = X_train, y = y_train, batch_size = 32, epochs = 250)"
   ]
  },
  {
   "cell_type": "code",
   "execution_count": 36,
   "metadata": {
    "colab": {
     "base_uri": "https://localhost:8080/"
    },
    "id": "7wMUB60sdl9L",
    "outputId": "683d6180-8de3-4c3e-bcda-dfda89866405"
   },
   "outputs": [
    {
     "data": {
      "text/plain": [
       "[<tf.Variable 'dense_4/kernel:0' shape=(2, 4) dtype=float32, numpy=\n",
       " array([[ 2.440422  ,  0.31027418,  1.0883777 ,  1.7082392 ],\n",
       "        [ 2.9977212 , -0.39984995,  3.872614  ,  4.133269  ]],\n",
       "       dtype=float32)>,\n",
       " <tf.Variable 'dense_4/bias:0' shape=(4,) dtype=float32, numpy=array([ 0.746763  , -0.20353895,  0.7545146 ,  0.7581406 ], dtype=float32)>,\n",
       " <tf.Variable 'dense_5/kernel:0' shape=(4, 4) dtype=float32, numpy=\n",
       " array([[ 2.6978076 ,  2.302287  , -0.46630868, -0.79038846],\n",
       "        [-0.6816026 ,  0.53801614, -0.6635163 ,  0.37911266],\n",
       "        [ 2.35085   ,  1.5852764 , -0.5332589 , -0.14029855],\n",
       "        [ 2.352525  ,  2.4601343 ,  0.27075583,  0.01913047]],\n",
       "       dtype=float32)>,\n",
       " <tf.Variable 'dense_5/bias:0' shape=(4,) dtype=float32, numpy=array([0.73168147, 0.634109  , 0.        , 0.        ], dtype=float32)>,\n",
       " <tf.Variable 'dense_6/kernel:0' shape=(4, 4) dtype=float32, numpy=\n",
       " array([[-0.20933354,  2.1114726 , -0.7563254 ,  2.6462371 ],\n",
       "        [-0.557624  ,  1.8874984 , -0.36420482,  1.953935  ],\n",
       "        [ 0.49420124, -0.27617496,  0.07434314,  0.08428824],\n",
       "        [-0.6069438 , -0.6032338 ,  0.5075943 ,  0.22257656]],\n",
       "       dtype=float32)>,\n",
       " <tf.Variable 'dense_6/bias:0' shape=(4,) dtype=float32, numpy=array([0.        , 0.73690826, 0.        , 0.71576154], dtype=float32)>,\n",
       " <tf.Variable 'dense_7/kernel:0' shape=(4, 1) dtype=float32, numpy=\n",
       " array([[-0.29074436],\n",
       "        [ 2.0807128 ],\n",
       "        [ 0.4707986 ],\n",
       "        [ 2.4399726 ]], dtype=float32)>,\n",
       " <tf.Variable 'dense_7/bias:0' shape=(1,) dtype=float32, numpy=array([0.7015788], dtype=float32)>]"
      ]
     },
     "execution_count": 36,
     "metadata": {},
     "output_type": "execute_result"
    }
   ],
   "source": [
    "model.weights"
   ]
  },
  {
   "cell_type": "code",
   "execution_count": 37,
   "metadata": {
    "colab": {
     "base_uri": "https://localhost:8080/"
    },
    "id": "5tvyIpBEdl9L",
    "outputId": "8f30298a-4f87-4f52-f074-ff58ed390d87"
   },
   "outputs": [
    {
     "data": {
      "text/plain": [
       "{'loss': [256579.421875,\n",
       "  256463.546875,\n",
       "  256343.203125,\n",
       "  256210.109375,\n",
       "  256057.578125,\n",
       "  255882.671875,\n",
       "  255683.71875,\n",
       "  255456.890625,\n",
       "  255199.0625,\n",
       "  254907.5625,\n",
       "  254580.359375,\n",
       "  254212.578125,\n",
       "  253802.484375,\n",
       "  253342.828125,\n",
       "  252832.734375,\n",
       "  252268.78125,\n",
       "  251649.515625,\n",
       "  250965.59375,\n",
       "  250213.984375,\n",
       "  249391.546875,\n",
       "  248499.984375,\n",
       "  247524.359375,\n",
       "  246470.75,\n",
       "  245328.0625,\n",
       "  244094.421875,\n",
       "  242763.640625,\n",
       "  241332.828125,\n",
       "  239797.28125,\n",
       "  238143.8125,\n",
       "  236392.640625,\n",
       "  234522.78125,\n",
       "  232527.890625,\n",
       "  230394.671875,\n",
       "  228131.890625,\n",
       "  225728.875,\n",
       "  223210.46875,\n",
       "  220542.265625,\n",
       "  217726.953125,\n",
       "  214752.609375,\n",
       "  211636.59375,\n",
       "  208376.09375,\n",
       "  204944.6875,\n",
       "  201362.234375,\n",
       "  197610.75,\n",
       "  193685.734375,\n",
       "  189625.515625,\n",
       "  185387.359375,\n",
       "  180993.078125,\n",
       "  176409.390625,\n",
       "  171707.203125,\n",
       "  166844.890625,\n",
       "  161818.890625,\n",
       "  156626.28125,\n",
       "  151313.609375,\n",
       "  145849.484375,\n",
       "  140266.484375,\n",
       "  134546.15625,\n",
       "  128695.859375,\n",
       "  122770.546875,\n",
       "  116750.671875,\n",
       "  110613.84375,\n",
       "  104425.671875,\n",
       "  98220.859375,\n",
       "  91915.9296875,\n",
       "  85601.5625,\n",
       "  79324.3203125,\n",
       "  73048.1953125,\n",
       "  66879.71875,\n",
       "  60782.984375,\n",
       "  54771.26953125,\n",
       "  48876.15234375,\n",
       "  43151.8984375,\n",
       "  37623.53125,\n",
       "  32335.22265625,\n",
       "  27341.525390625,\n",
       "  22683.748046875,\n",
       "  18361.462890625,\n",
       "  14455.525390625,\n",
       "  11015.52734375,\n",
       "  8048.63427734375,\n",
       "  5624.283203125,\n",
       "  3797.958984375,\n",
       "  2539.137939453125,\n",
       "  1835.9493408203125,\n",
       "  1610.7762451171875,\n",
       "  1560.9639892578125,\n",
       "  1529.5762939453125,\n",
       "  1495.4776611328125,\n",
       "  1464.0540771484375,\n",
       "  1433.398193359375,\n",
       "  1400.233154296875,\n",
       "  1369.4327392578125,\n",
       "  1342.068359375,\n",
       "  1312.9302978515625,\n",
       "  1285.6448974609375,\n",
       "  1256.36181640625,\n",
       "  1231.263671875,\n",
       "  1205.2261962890625,\n",
       "  1177.5589599609375,\n",
       "  1150.34130859375,\n",
       "  1126.7657470703125,\n",
       "  1096.5386962890625,\n",
       "  1070.717041015625,\n",
       "  1041.6903076171875,\n",
       "  1016.634033203125,\n",
       "  990.46875,\n",
       "  965.908203125,\n",
       "  943.610107421875,\n",
       "  921.777587890625,\n",
       "  898.56884765625,\n",
       "  874.4180297851562,\n",
       "  847.4765014648438,\n",
       "  825.810546875,\n",
       "  801.296630859375,\n",
       "  778.3672485351562,\n",
       "  755.004638671875,\n",
       "  733.2614135742188,\n",
       "  708.8533325195312,\n",
       "  686.7059326171875,\n",
       "  663.2093505859375,\n",
       "  638.5531005859375,\n",
       "  617.070068359375,\n",
       "  596.222412109375,\n",
       "  574.776123046875,\n",
       "  553.6294555664062,\n",
       "  535.2200317382812,\n",
       "  512.3599853515625,\n",
       "  492.8975830078125,\n",
       "  474.9802551269531,\n",
       "  459.51251220703125,\n",
       "  437.3818664550781,\n",
       "  424.31036376953125,\n",
       "  408.5152282714844,\n",
       "  393.3185729980469,\n",
       "  376.8343811035156,\n",
       "  362.2677307128906,\n",
       "  345.73388671875,\n",
       "  330.4090270996094,\n",
       "  315.85906982421875,\n",
       "  302.3174743652344,\n",
       "  287.88372802734375,\n",
       "  273.141357421875,\n",
       "  260.83740234375,\n",
       "  249.23123168945312,\n",
       "  236.61814880371094,\n",
       "  223.7600860595703,\n",
       "  210.3060760498047,\n",
       "  199.26785278320312,\n",
       "  187.77415466308594,\n",
       "  176.13540649414062,\n",
       "  165.1688232421875,\n",
       "  155.4929962158203,\n",
       "  145.70599365234375,\n",
       "  135.485107421875,\n",
       "  126.21499633789062,\n",
       "  118.15068054199219,\n",
       "  110.65205383300781,\n",
       "  102.99937438964844,\n",
       "  94.55311584472656,\n",
       "  88.99398803710938,\n",
       "  82.49991607666016,\n",
       "  77.24951934814453,\n",
       "  71.55247497558594,\n",
       "  67.06877136230469,\n",
       "  61.27875518798828,\n",
       "  57.92462158203125,\n",
       "  53.52382278442383,\n",
       "  50.54078674316406,\n",
       "  46.723472595214844,\n",
       "  44.233394622802734,\n",
       "  41.066162109375,\n",
       "  38.95913314819336,\n",
       "  37.4578971862793,\n",
       "  35.3534049987793,\n",
       "  33.57914733886719,\n",
       "  32.21821212768555,\n",
       "  30.940937042236328,\n",
       "  29.88022804260254,\n",
       "  29.129104614257812,\n",
       "  28.486791610717773,\n",
       "  27.459726333618164,\n",
       "  27.319957733154297,\n",
       "  26.26833724975586,\n",
       "  26.362598419189453,\n",
       "  25.843507766723633,\n",
       "  25.76108169555664,\n",
       "  25.703018188476562,\n",
       "  25.304420471191406,\n",
       "  25.21135139465332,\n",
       "  24.9404354095459,\n",
       "  24.985353469848633,\n",
       "  25.04745864868164,\n",
       "  24.549448013305664,\n",
       "  25.000263214111328,\n",
       "  24.451183319091797,\n",
       "  24.498167037963867,\n",
       "  24.440013885498047,\n",
       "  24.172622680664062,\n",
       "  24.178688049316406,\n",
       "  24.539501190185547,\n",
       "  24.299503326416016,\n",
       "  24.642778396606445,\n",
       "  24.377187728881836,\n",
       "  24.42527961730957,\n",
       "  24.57021141052246,\n",
       "  24.051952362060547,\n",
       "  24.24229621887207,\n",
       "  24.69438362121582,\n",
       "  24.151765823364258,\n",
       "  24.677703857421875,\n",
       "  24.03472137451172,\n",
       "  24.501079559326172,\n",
       "  24.324243545532227,\n",
       "  24.390954971313477,\n",
       "  24.840110778808594,\n",
       "  24.39118003845215,\n",
       "  24.104135513305664,\n",
       "  24.489776611328125,\n",
       "  24.55980682373047,\n",
       "  24.629840850830078,\n",
       "  24.0167236328125,\n",
       "  24.435510635375977,\n",
       "  24.61178207397461,\n",
       "  24.27741813659668,\n",
       "  24.303199768066406,\n",
       "  24.163116455078125,\n",
       "  24.224788665771484,\n",
       "  24.092315673828125,\n",
       "  23.927644729614258,\n",
       "  24.273889541625977,\n",
       "  24.20091438293457,\n",
       "  24.245437622070312,\n",
       "  24.33662986755371,\n",
       "  24.34000015258789,\n",
       "  23.8608455657959,\n",
       "  24.637054443359375,\n",
       "  24.279720306396484,\n",
       "  24.30613899230957,\n",
       "  24.509408950805664,\n",
       "  24.268287658691406,\n",
       "  24.21955680847168,\n",
       "  24.075756072998047,\n",
       "  24.88445281982422,\n",
       "  24.258546829223633,\n",
       "  24.48697853088379,\n",
       "  24.072338104248047,\n",
       "  24.49710464477539,\n",
       "  24.23046112060547,\n",
       "  24.396564483642578,\n",
       "  24.417329788208008]}"
      ]
     },
     "execution_count": 37,
     "metadata": {},
     "output_type": "execute_result"
    }
   ],
   "source": [
    "model.history.history"
   ]
  },
  {
   "cell_type": "code",
   "execution_count": 38,
   "metadata": {
    "colab": {
     "base_uri": "https://localhost:8080/",
     "height": 419
    },
    "id": "ItEtQrXSdl9L",
    "outputId": "8ed80793-b45d-45fd-87f2-6ecf16b8425e"
   },
   "outputs": [
    {
     "data": {
      "text/html": [
       "\n",
       "  <div id=\"df-ee1e8352-f115-4946-bef1-678a6be1cd37\">\n",
       "    <div class=\"colab-df-container\">\n",
       "      <div>\n",
       "<style scoped>\n",
       "    .dataframe tbody tr th:only-of-type {\n",
       "        vertical-align: middle;\n",
       "    }\n",
       "\n",
       "    .dataframe tbody tr th {\n",
       "        vertical-align: top;\n",
       "    }\n",
       "\n",
       "    .dataframe thead th {\n",
       "        text-align: right;\n",
       "    }\n",
       "</style>\n",
       "<table border=\"1\" class=\"dataframe\">\n",
       "  <thead>\n",
       "    <tr style=\"text-align: right;\">\n",
       "      <th></th>\n",
       "      <th>loss</th>\n",
       "    </tr>\n",
       "  </thead>\n",
       "  <tbody>\n",
       "    <tr>\n",
       "      <th>0</th>\n",
       "      <td>256579.422</td>\n",
       "    </tr>\n",
       "    <tr>\n",
       "      <th>1</th>\n",
       "      <td>256463.547</td>\n",
       "    </tr>\n",
       "    <tr>\n",
       "      <th>2</th>\n",
       "      <td>256343.203</td>\n",
       "    </tr>\n",
       "    <tr>\n",
       "      <th>3</th>\n",
       "      <td>256210.109</td>\n",
       "    </tr>\n",
       "    <tr>\n",
       "      <th>4</th>\n",
       "      <td>256057.578</td>\n",
       "    </tr>\n",
       "    <tr>\n",
       "      <th>...</th>\n",
       "      <td>...</td>\n",
       "    </tr>\n",
       "    <tr>\n",
       "      <th>245</th>\n",
       "      <td>24.072</td>\n",
       "    </tr>\n",
       "    <tr>\n",
       "      <th>246</th>\n",
       "      <td>24.497</td>\n",
       "    </tr>\n",
       "    <tr>\n",
       "      <th>247</th>\n",
       "      <td>24.230</td>\n",
       "    </tr>\n",
       "    <tr>\n",
       "      <th>248</th>\n",
       "      <td>24.397</td>\n",
       "    </tr>\n",
       "    <tr>\n",
       "      <th>249</th>\n",
       "      <td>24.417</td>\n",
       "    </tr>\n",
       "  </tbody>\n",
       "</table>\n",
       "<p>250 rows × 1 columns</p>\n",
       "</div>\n",
       "      <button class=\"colab-df-convert\" onclick=\"convertToInteractive('df-ee1e8352-f115-4946-bef1-678a6be1cd37')\"\n",
       "              title=\"Convert this dataframe to an interactive table.\"\n",
       "              style=\"display:none;\">\n",
       "        \n",
       "  <svg xmlns=\"http://www.w3.org/2000/svg\" height=\"24px\"viewBox=\"0 0 24 24\"\n",
       "       width=\"24px\">\n",
       "    <path d=\"M0 0h24v24H0V0z\" fill=\"none\"/>\n",
       "    <path d=\"M18.56 5.44l.94 2.06.94-2.06 2.06-.94-2.06-.94-.94-2.06-.94 2.06-2.06.94zm-11 1L8.5 8.5l.94-2.06 2.06-.94-2.06-.94L8.5 2.5l-.94 2.06-2.06.94zm10 10l.94 2.06.94-2.06 2.06-.94-2.06-.94-.94-2.06-.94 2.06-2.06.94z\"/><path d=\"M17.41 7.96l-1.37-1.37c-.4-.4-.92-.59-1.43-.59-.52 0-1.04.2-1.43.59L10.3 9.45l-7.72 7.72c-.78.78-.78 2.05 0 2.83L4 21.41c.39.39.9.59 1.41.59.51 0 1.02-.2 1.41-.59l7.78-7.78 2.81-2.81c.8-.78.8-2.07 0-2.86zM5.41 20L4 18.59l7.72-7.72 1.47 1.35L5.41 20z\"/>\n",
       "  </svg>\n",
       "      </button>\n",
       "      \n",
       "  <style>\n",
       "    .colab-df-container {\n",
       "      display:flex;\n",
       "      flex-wrap:wrap;\n",
       "      gap: 12px;\n",
       "    }\n",
       "\n",
       "    .colab-df-convert {\n",
       "      background-color: #E8F0FE;\n",
       "      border: none;\n",
       "      border-radius: 50%;\n",
       "      cursor: pointer;\n",
       "      display: none;\n",
       "      fill: #1967D2;\n",
       "      height: 32px;\n",
       "      padding: 0 0 0 0;\n",
       "      width: 32px;\n",
       "    }\n",
       "\n",
       "    .colab-df-convert:hover {\n",
       "      background-color: #E2EBFA;\n",
       "      box-shadow: 0px 1px 2px rgba(60, 64, 67, 0.3), 0px 1px 3px 1px rgba(60, 64, 67, 0.15);\n",
       "      fill: #174EA6;\n",
       "    }\n",
       "\n",
       "    [theme=dark] .colab-df-convert {\n",
       "      background-color: #3B4455;\n",
       "      fill: #D2E3FC;\n",
       "    }\n",
       "\n",
       "    [theme=dark] .colab-df-convert:hover {\n",
       "      background-color: #434B5C;\n",
       "      box-shadow: 0px 1px 3px 1px rgba(0, 0, 0, 0.15);\n",
       "      filter: drop-shadow(0px 1px 2px rgba(0, 0, 0, 0.3));\n",
       "      fill: #FFFFFF;\n",
       "    }\n",
       "  </style>\n",
       "\n",
       "      <script>\n",
       "        const buttonEl =\n",
       "          document.querySelector('#df-ee1e8352-f115-4946-bef1-678a6be1cd37 button.colab-df-convert');\n",
       "        buttonEl.style.display =\n",
       "          google.colab.kernel.accessAllowed ? 'block' : 'none';\n",
       "\n",
       "        async function convertToInteractive(key) {\n",
       "          const element = document.querySelector('#df-ee1e8352-f115-4946-bef1-678a6be1cd37');\n",
       "          const dataTable =\n",
       "            await google.colab.kernel.invokeFunction('convertToInteractive',\n",
       "                                                     [key], {});\n",
       "          if (!dataTable) return;\n",
       "\n",
       "          const docLinkHtml = 'Like what you see? Visit the ' +\n",
       "            '<a target=\"_blank\" href=https://colab.research.google.com/notebooks/data_table.ipynb>data table notebook</a>'\n",
       "            + ' to learn more about interactive tables.';\n",
       "          element.innerHTML = '';\n",
       "          dataTable['output_type'] = 'display_data';\n",
       "          await google.colab.output.renderOutput(dataTable, element);\n",
       "          const docLink = document.createElement('div');\n",
       "          docLink.innerHTML = docLinkHtml;\n",
       "          element.appendChild(docLink);\n",
       "        }\n",
       "      </script>\n",
       "    </div>\n",
       "  </div>\n",
       "  "
      ],
      "text/plain": [
       "          loss\n",
       "0   256579.422\n",
       "1   256463.547\n",
       "2   256343.203\n",
       "3   256210.109\n",
       "4   256057.578\n",
       "..         ...\n",
       "245     24.072\n",
       "246     24.497\n",
       "247     24.230\n",
       "248     24.397\n",
       "249     24.417\n",
       "\n",
       "[250 rows x 1 columns]"
      ]
     },
     "execution_count": 38,
     "metadata": {},
     "output_type": "execute_result"
    }
   ],
   "source": [
    "pd.DataFrame(model.history.history)"
   ]
  },
  {
   "cell_type": "code",
   "execution_count": 39,
   "metadata": {
    "colab": {
     "base_uri": "https://localhost:8080/",
     "height": 391
    },
    "id": "gRGh4reBdl9L",
    "outputId": "4f89c134-e52f-4d59-97d5-456f35bb25b6"
   },
   "outputs": [
    {
     "data": {
      "text/plain": [
       "<matplotlib.axes._subplots.AxesSubplot at 0x7f4e48e91390>"
      ]
     },
     "execution_count": 39,
     "metadata": {},
     "output_type": "execute_result"
    },
    {
     "data": {
      "image/png": "[encoded data removed]",
      "text/plain": [
       "<Figure size 720x432 with 1 Axes>"
      ]
     },
     "metadata": {},
     "output_type": "display_data"
    }
   ],
   "source": [
    "loss_df = pd.DataFrame(model.history.history)\n",
    "loss_df.plot()"
   ]
  },
  {
   "cell_type": "code",
   "execution_count": 40,
   "metadata": {
    "colab": {
     "base_uri": "https://localhost:8080/",
     "height": 421
    },
    "id": "ms15WRZ2dl9L",
    "outputId": "780c8c68-d545-4b07-813a-013ebebfd609"
   },
   "outputs": [
    {
     "data": {
      "text/plain": [
       "(0.0, 3000.0)"
      ]
     },
     "execution_count": 40,
     "metadata": {},
     "output_type": "execute_result"
    },
    {
     "data": {
      "image/png": "[encoded data removed]",
      "text/plain": [
       "<Figure size 720x432 with 1 Axes>"
      ]
     },
     "metadata": {},
     "output_type": "display_data"
    }
   ],
   "source": [
    "fig, ax= plt.subplots()\n",
    "ax.plot(loss_df)\n",
    "ax.set_xlabel(\"epoch\")\n",
    "ax.set_ylabel(\"loss\")\n",
    "ax.set_title(\"loss - epoch graph\")\n",
    "ax.set_xlim([0, 250]) # focusing on the given x values\n",
    "ax.set_ylim([0, 3000]) # focusing on the given y values"
   ]
  },
  {
   "cell_type": "markdown",
   "metadata": {
    "id": "9F8psT6udl9L"
   },
   "source": [
    "## Model Performance"
   ]
  },
  {
   "cell_type": "code",
   "execution_count": 41,
   "metadata": {
    "id": "kgZn_frIdl9M"
   },
   "outputs": [],
   "source": [
    "from sklearn.metrics import mean_squared_error, mean_absolute_error, r2_score"
   ]
  },
  {
   "cell_type": "code",
   "execution_count": 42,
   "metadata": {
    "colab": {
     "base_uri": "https://localhost:8080/"
    },
    "id": "0uCjin2tdl9M",
    "outputId": "e80069d3-3283-4e0f-f0f2-6b9e3cc6288c"
   },
   "outputs": [
    {
     "data": {
      "text/plain": [
       "23.98128890991211"
      ]
     },
     "execution_count": 42,
     "metadata": {},
     "output_type": "execute_result"
    }
   ],
   "source": [
    "model.evaluate(X_train, y_train, verbose=0)"
   ]
  },
  {
   "cell_type": "code",
   "execution_count": 43,
   "metadata": {
    "colab": {
     "base_uri": "https://localhost:8080/"
    },
    "id": "ODE0Pq5tdl9M",
    "outputId": "2f4fd2da-72bc-4bae-ea39-bbb39a7a6ccd"
   },
   "outputs": [
    {
     "data": {
      "text/plain": [
       "25.83379554748535"
      ]
     },
     "execution_count": 43,
     "metadata": {},
     "output_type": "execute_result"
    }
   ],
   "source": [
    "model.evaluate(X_test, y_test, verbose=0)"
   ]
  },
  {
   "cell_type": "code",
   "execution_count": 44,
   "metadata": {
    "colab": {
     "base_uri": "https://localhost:8080/"
    },
    "id": "VqKT5copdl9M",
    "outputId": "e9654d61-8dc3-40a6-c98a-86e224409c00"
   },
   "outputs": [
    {
     "data": {
      "text/plain": [
       "(300, 1)"
      ]
     },
     "execution_count": 44,
     "metadata": {},
     "output_type": "execute_result"
    }
   ],
   "source": [
    "y_pred = model.predict(X_test)\n",
    "y_pred.shape"
   ]
  },
  {
   "cell_type": "code",
   "execution_count": 45,
   "metadata": {
    "colab": {
     "base_uri": "https://localhost:8080/"
    },
    "id": "3JvMwhIadl9M",
    "outputId": "92cbd1ba-d04e-4f1a-8c6f-688d65355035"
   },
   "outputs": [
    {
     "data": {
      "text/plain": [
       "(300,)"
      ]
     },
     "execution_count": 45,
     "metadata": {},
     "output_type": "execute_result"
    }
   ],
   "source": [
    "y_test.shape"
   ]
  },
  {
   "cell_type": "code",
   "execution_count": 46,
   "metadata": {
    "colab": {
     "base_uri": "https://localhost:8080/"
    },
    "id": "9KXLawSXdl9M",
    "outputId": "3634e1ac-9e18-4d76-9bcb-f0744a4bd982"
   },
   "outputs": [
    {
     "data": {
      "text/plain": [
       "(300,)"
      ]
     },
     "execution_count": 46,
     "metadata": {},
     "output_type": "execute_result"
    }
   ],
   "source": [
    "y_pred.reshape(-1,).shape"
   ]
  },
  {
   "cell_type": "code",
   "execution_count": 47,
   "metadata": {
    "colab": {
     "base_uri": "https://localhost:8080/",
     "height": 359
    },
    "id": "Y9lPoG0Qdl9M",
    "outputId": "2a123f5d-0951-4650-ac13-a5c5db1739fe"
   },
   "outputs": [
    {
     "data": {
      "text/html": [
       "\n",
       "  <div id=\"df-a0b4a33c-95e4-43c5-b8e0-1d2dfcca20e6\">\n",
       "    <div class=\"colab-df-container\">\n",
       "      <div>\n",
       "<style scoped>\n",
       "    .dataframe tbody tr th:only-of-type {\n",
       "        vertical-align: middle;\n",
       "    }\n",
       "\n",
       "    .dataframe tbody tr th {\n",
       "        vertical-align: top;\n",
       "    }\n",
       "\n",
       "    .dataframe thead th {\n",
       "        text-align: right;\n",
       "    }\n",
       "</style>\n",
       "<table border=\"1\" class=\"dataframe\">\n",
       "  <thead>\n",
       "    <tr style=\"text-align: right;\">\n",
       "      <th></th>\n",
       "      <th>Actual</th>\n",
       "      <th>Pred</th>\n",
       "    </tr>\n",
       "  </thead>\n",
       "  <tbody>\n",
       "    <tr>\n",
       "      <th>603</th>\n",
       "      <td>568.605</td>\n",
       "      <td>569.329</td>\n",
       "    </tr>\n",
       "    <tr>\n",
       "      <th>261</th>\n",
       "      <td>531.662</td>\n",
       "      <td>542.841</td>\n",
       "    </tr>\n",
       "    <tr>\n",
       "      <th>266</th>\n",
       "      <td>439.090</td>\n",
       "      <td>433.399</td>\n",
       "    </tr>\n",
       "    <tr>\n",
       "      <th>237</th>\n",
       "      <td>469.073</td>\n",
       "      <td>480.406</td>\n",
       "    </tr>\n",
       "    <tr>\n",
       "      <th>687</th>\n",
       "      <td>507.443</td>\n",
       "      <td>502.799</td>\n",
       "    </tr>\n",
       "    <tr>\n",
       "      <th>837</th>\n",
       "      <td>478.358</td>\n",
       "      <td>486.211</td>\n",
       "    </tr>\n",
       "    <tr>\n",
       "      <th>78</th>\n",
       "      <td>408.122</td>\n",
       "      <td>410.832</td>\n",
       "    </tr>\n",
       "    <tr>\n",
       "      <th>866</th>\n",
       "      <td>531.482</td>\n",
       "      <td>538.765</td>\n",
       "    </tr>\n",
       "    <tr>\n",
       "      <th>800</th>\n",
       "      <td>492.873</td>\n",
       "      <td>494.278</td>\n",
       "    </tr>\n",
       "    <tr>\n",
       "      <th>235</th>\n",
       "      <td>593.668</td>\n",
       "      <td>611.594</td>\n",
       "    </tr>\n",
       "  </tbody>\n",
       "</table>\n",
       "</div>\n",
       "      <button class=\"colab-df-convert\" onclick=\"convertToInteractive('df-a0b4a33c-95e4-43c5-b8e0-1d2dfcca20e6')\"\n",
       "              title=\"Convert this dataframe to an interactive table.\"\n",
       "              style=\"display:none;\">\n",
       "        \n",
       "  <svg xmlns=\"http://www.w3.org/2000/svg\" height=\"24px\"viewBox=\"0 0 24 24\"\n",
       "       width=\"24px\">\n",
       "    <path d=\"M0 0h24v24H0V0z\" fill=\"none\"/>\n",
       "    <path d=\"M18.56 5.44l.94 2.06.94-2.06 2.06-.94-2.06-.94-.94-2.06-.94 2.06-2.06.94zm-11 1L8.5 8.5l.94-2.06 2.06-.94-2.06-.94L8.5 2.5l-.94 2.06-2.06.94zm10 10l.94 2.06.94-2.06 2.06-.94-2.06-.94-.94-2.06-.94 2.06-2.06.94z\"/><path d=\"M17.41 7.96l-1.37-1.37c-.4-.4-.92-.59-1.43-.59-.52 0-1.04.2-1.43.59L10.3 9.45l-7.72 7.72c-.78.78-.78 2.05 0 2.83L4 21.41c.39.39.9.59 1.41.59.51 0 1.02-.2 1.41-.59l7.78-7.78 2.81-2.81c.8-.78.8-2.07 0-2.86zM5.41 20L4 18.59l7.72-7.72 1.47 1.35L5.41 20z\"/>\n",
       "  </svg>\n",
       "      </button>\n",
       "      \n",
       "  <style>\n",
       "    .colab-df-container {\n",
       "      display:flex;\n",
       "      flex-wrap:wrap;\n",
       "      gap: 12px;\n",
       "    }\n",
       "\n",
       "    .colab-df-convert {\n",
       "      background-color: #E8F0FE;\n",
       "      border: none;\n",
       "      border-radius: 50%;\n",
       "      cursor: pointer;\n",
       "      display: none;\n",
       "      fill: #1967D2;\n",
       "      height: 32px;\n",
       "      padding: 0 0 0 0;\n",
       "      width: 32px;\n",
       "    }\n",
       "\n",
       "    .colab-df-convert:hover {\n",
       "      background-color: #E2EBFA;\n",
       "      box-shadow: 0px 1px 2px rgba(60, 64, 67, 0.3), 0px 1px 3px 1px rgba(60, 64, 67, 0.15);\n",
       "      fill: #174EA6;\n",
       "    }\n",
       "\n",
       "    [theme=dark] .colab-df-convert {\n",
       "      background-color: #3B4455;\n",
       "      fill: #D2E3FC;\n",
       "    }\n",
       "\n",
       "    [theme=dark] .colab-df-convert:hover {\n",
       "      background-color: #434B5C;\n",
       "      box-shadow: 0px 1px 3px 1px rgba(0, 0, 0, 0.15);\n",
       "      filter: drop-shadow(0px 1px 2px rgba(0, 0, 0, 0.3));\n",
       "      fill: #FFFFFF;\n",
       "    }\n",
       "  </style>\n",
       "\n",
       "      <script>\n",
       "        const buttonEl =\n",
       "          document.querySelector('#df-a0b4a33c-95e4-43c5-b8e0-1d2dfcca20e6 button.colab-df-convert');\n",
       "        buttonEl.style.display =\n",
       "          google.colab.kernel.accessAllowed ? 'block' : 'none';\n",
       "\n",
       "        async function convertToInteractive(key) {\n",
       "          const element = document.querySelector('#df-a0b4a33c-95e4-43c5-b8e0-1d2dfcca20e6');\n",
       "          const dataTable =\n",
       "            await google.colab.kernel.invokeFunction('convertToInteractive',\n",
       "                                                     [key], {});\n",
       "          if (!dataTable) return;\n",
       "\n",
       "          const docLinkHtml = 'Like what you see? Visit the ' +\n",
       "            '<a target=\"_blank\" href=https://colab.research.google.com/notebooks/data_table.ipynb>data table notebook</a>'\n",
       "            + ' to learn more about interactive tables.';\n",
       "          element.innerHTML = '';\n",
       "          dataTable['output_type'] = 'display_data';\n",
       "          await google.colab.output.renderOutput(dataTable, element);\n",
       "          const docLink = document.createElement('div');\n",
       "          docLink.innerHTML = docLinkHtml;\n",
       "          element.appendChild(docLink);\n",
       "        }\n",
       "      </script>\n",
       "    </div>\n",
       "  </div>\n",
       "  "
      ],
      "text/plain": [
       "     Actual    Pred\n",
       "603 568.605 569.329\n",
       "261 531.662 542.841\n",
       "266 439.090 433.399\n",
       "237 469.073 480.406\n",
       "687 507.443 502.799\n",
       "837 478.358 486.211\n",
       "78  408.122 410.832\n",
       "866 531.482 538.765\n",
       "800 492.873 494.278\n",
       "235 593.668 611.594"
      ]
     },
     "execution_count": 47,
     "metadata": {},
     "output_type": "execute_result"
    }
   ],
   "source": [
    "my_dict = {\"Actual\" : y_test, \"Pred\" : y_pred.reshape(-1,)}\n",
    "compare = pd.DataFrame(my_dict)\n",
    "compare.sample(10)"
   ]
  },
  {
   "cell_type": "code",
   "execution_count": 48,
   "metadata": {
    "colab": {
     "base_uri": "https://localhost:8080/",
     "height": 405
    },
    "id": "alJWuXMadl9M",
    "outputId": "c3bf67b4-255f-4ac7-c14f-8ed5fe532b3e"
   },
   "outputs": [
    {
     "data": {
      "text/plain": [
       "<matplotlib.axes._subplots.AxesSubplot at 0x7f4e3fe9f1d0>"
      ]
     },
     "execution_count": 48,
     "metadata": {},
     "output_type": "execute_result"
    },
    {
     "data": {
      "image/png": "[encoded data removed]",
      "text/plain": [
       "<Figure size 720x432 with 1 Axes>"
      ]
     },
     "metadata": {},
     "output_type": "display_data"
    }
   ],
   "source": [
    "sns.scatterplot(x = 'Actual', y = 'Pred', data = compare)"
   ]
  },
  {
   "cell_type": "code",
   "execution_count": 49,
   "metadata": {
    "id": "cLCrVs0pdl9N"
   },
   "outputs": [],
   "source": [
    "def eval_metric(actual, pred):\n",
    "    mae = mean_absolute_error(actual, pred)\n",
    "    mse = mean_squared_error(actual, pred)\n",
    "    rmse = np.sqrt(mean_squared_error(actual, pred))\n",
    "    score = r2_score(actual, pred)\n",
    "    return print(\"r2_score:\", score, \"\\nmae:\", mae, \"\\nmse:\", mse, \"\\nrmse:\", rmse)"
   ]
  },
  {
   "cell_type": "code",
   "execution_count": 50,
   "metadata": {
    "colab": {
     "base_uri": "https://localhost:8080/"
    },
    "id": "FkBZ-Zttdl9N",
    "outputId": "07f3c1bb-c093-40a3-8fb7-ac61c830f1b9"
   },
   "outputs": [
    {
     "name": "stdout",
     "output_type": "stream",
     "text": [
      "r2_score: 0.9970616775855768 \n",
      "mae: 4.105809549436766 \n",
      "mse: 25.83382371080007 \n",
      "rmse: 5.0826984674285045\n"
     ]
    }
   ],
   "source": [
    "eval_metric(y_test, y_pred)"
   ]
  },
  {
   "cell_type": "markdown",
   "metadata": {
    "id": "T8jigyzVdl9N"
   },
   "source": [
    "## Final Model and Model Deployment"
   ]
  },
  {
   "cell_type": "markdown",
   "metadata": {
    "id": "W35mYMbSdl9N"
   },
   "source": [
    "### Final Model Training"
   ]
  },
  {
   "cell_type": "code",
   "execution_count": 51,
   "metadata": {
    "id": "GMcRJ2ONdl9N"
   },
   "outputs": [],
   "source": [
    "scaler = MinMaxScaler().fit(X)"
   ]
  },
  {
   "cell_type": "code",
   "execution_count": 52,
   "metadata": {
    "id": "wL1LZSP5dl9N"
   },
   "outputs": [],
   "source": [
    "import pickle\n",
    "pickle.dump(scaler, open(\"scaler_fake_reg\", 'wb'))"
   ]
  },
  {
   "cell_type": "code",
   "execution_count": 53,
   "metadata": {
    "id": "xOiwBhdudl9N"
   },
   "outputs": [],
   "source": [
    "X_scaled = scaler.transform(X)"
   ]
  },
  {
   "cell_type": "code",
   "execution_count": 54,
   "metadata": {
    "colab": {
     "base_uri": "https://localhost:8080/"
    },
    "id": "6zWS5kuMdl9N",
    "outputId": "67a316c9-9d56-4db1-baa3-5c5668ece141"
   },
   "outputs": [
    {
     "name": "stdout",
     "output_type": "stream",
     "text": [
      "Epoch 1/250\n",
      "32/32 [==============================] - 1s 2ms/step - loss: 256659.1406\n",
      "Epoch 2/250\n",
      "32/32 [==============================] - 0s 2ms/step - loss: 256132.7969\n",
      "Epoch 3/250\n",
      "32/32 [==============================] - 0s 2ms/step - loss: 255552.1719\n",
      "Epoch 4/250\n",
      "32/32 [==============================] - 0s 2ms/step - loss: 254893.5312\n",
      "Epoch 5/250\n",
      "32/32 [==============================] - 0s 2ms/step - loss: 254143.2188\n",
      "Epoch 6/250\n",
      "32/32 [==============================] - 0s 2ms/step - loss: 253301.2969\n",
      "Epoch 7/250\n",
      "32/32 [==============================] - 0s 2ms/step - loss: 252349.6250\n",
      "Epoch 8/250\n",
      "32/32 [==============================] - 0s 2ms/step - loss: 251280.3438\n",
      "Epoch 9/250\n",
      "32/32 [==============================] - 0s 2ms/step - loss: 250067.4688\n",
      "Epoch 10/250\n",
      "32/32 [==============================] - 0s 2ms/step - loss: 248699.3438\n",
      "Epoch 11/250\n",
      "32/32 [==============================] - 0s 2ms/step - loss: 247151.3438\n",
      "Epoch 12/250\n",
      "32/32 [==============================] - 0s 2ms/step - loss: 245400.6094\n",
      "Epoch 13/250\n",
      "32/32 [==============================] - 0s 2ms/step - loss: 243465.8594\n",
      "Epoch 14/250\n",
      "32/32 [==============================] - 0s 2ms/step - loss: 241301.4531\n",
      "Epoch 15/250\n",
      "32/32 [==============================] - 0s 2ms/step - loss: 238899.3125\n",
      "Epoch 16/250\n",
      "32/32 [==============================] - 0s 2ms/step - loss: 236256.2969\n",
      "Epoch 17/250\n",
      "32/32 [==============================] - 0s 2ms/step - loss: 233370.4375\n",
      "Epoch 18/250\n",
      "32/32 [==============================] - 0s 2ms/step - loss: 230199.5625\n",
      "Epoch 19/250\n",
      "32/32 [==============================] - 0s 2ms/step - loss: 226741.2500\n",
      "Epoch 20/250\n",
      "32/32 [==============================] - 0s 2ms/step - loss: 223006.5156\n",
      "Epoch 21/250\n",
      "32/32 [==============================] - 0s 2ms/step - loss: 218951.2188\n",
      "Epoch 22/250\n",
      "32/32 [==============================] - 0s 2ms/step - loss: 214581.3750\n",
      "Epoch 23/250\n",
      "32/32 [==============================] - 0s 2ms/step - loss: 209891.8438\n",
      "Epoch 24/250\n",
      "32/32 [==============================] - 0s 2ms/step - loss: 204846.4219\n",
      "Epoch 25/250\n",
      "32/32 [==============================] - 0s 2ms/step - loss: 199452.7500\n",
      "Epoch 26/250\n",
      "32/32 [==============================] - 0s 2ms/step - loss: 193754.1562\n",
      "Epoch 27/250\n",
      "32/32 [==============================] - 0s 2ms/step - loss: 187723.3906\n",
      "Epoch 28/250\n",
      "32/32 [==============================] - 0s 2ms/step - loss: 181321.7656\n",
      "Epoch 29/250\n",
      "32/32 [==============================] - 0s 2ms/step - loss: 174565.2969\n",
      "Epoch 30/250\n",
      "32/32 [==============================] - 0s 2ms/step - loss: 167481.8438\n",
      "Epoch 31/250\n",
      "32/32 [==============================] - 0s 2ms/step - loss: 160061.5938\n",
      "Epoch 32/250\n",
      "32/32 [==============================] - 0s 2ms/step - loss: 152323.3438\n",
      "Epoch 33/250\n",
      "32/32 [==============================] - 0s 2ms/step - loss: 144329.9375\n",
      "Epoch 34/250\n",
      "32/32 [==============================] - 0s 2ms/step - loss: 136039.2031\n",
      "Epoch 35/250\n",
      "32/32 [==============================] - 0s 2ms/step - loss: 127491.9375\n",
      "Epoch 36/250\n",
      "32/32 [==============================] - 0s 2ms/step - loss: 118734.1953\n",
      "Epoch 37/250\n",
      "32/32 [==============================] - 0s 2ms/step - loss: 109795.6562\n",
      "Epoch 38/250\n",
      "32/32 [==============================] - 0s 2ms/step - loss: 100711.3750\n",
      "Epoch 39/250\n",
      "32/32 [==============================] - 0s 2ms/step - loss: 91574.7031\n",
      "Epoch 40/250\n",
      "32/32 [==============================] - 0s 2ms/step - loss: 82344.3516\n",
      "Epoch 41/250\n",
      "32/32 [==============================] - 0s 2ms/step - loss: 73227.9219\n",
      "Epoch 42/250\n",
      "32/32 [==============================] - 0s 2ms/step - loss: 64243.5547\n",
      "Epoch 43/250\n",
      "32/32 [==============================] - 0s 2ms/step - loss: 55422.3047\n",
      "Epoch 44/250\n",
      "32/32 [==============================] - 0s 2ms/step - loss: 46882.9102\n",
      "Epoch 45/250\n",
      "32/32 [==============================] - 0s 2ms/step - loss: 38748.6797\n",
      "Epoch 46/250\n",
      "32/32 [==============================] - 0s 2ms/step - loss: 31144.0273\n",
      "Epoch 47/250\n",
      "32/32 [==============================] - 0s 2ms/step - loss: 24148.2773\n",
      "Epoch 48/250\n",
      "32/32 [==============================] - 0s 2ms/step - loss: 17883.5098\n",
      "Epoch 49/250\n",
      "32/32 [==============================] - 0s 2ms/step - loss: 12490.9658\n",
      "Epoch 50/250\n",
      "32/32 [==============================] - 0s 2ms/step - loss: 8198.6396\n",
      "Epoch 51/250\n",
      "32/32 [==============================] - 0s 2ms/step - loss: 5043.7773\n",
      "Epoch 52/250\n",
      "32/32 [==============================] - 0s 2ms/step - loss: 3144.5339\n",
      "Epoch 53/250\n",
      "32/32 [==============================] - 0s 2ms/step - loss: 2379.0195\n",
      "Epoch 54/250\n",
      "32/32 [==============================] - 0s 2ms/step - loss: 2226.2883\n",
      "Epoch 55/250\n",
      "32/32 [==============================] - 0s 2ms/step - loss: 2172.9504\n",
      "Epoch 56/250\n",
      "32/32 [==============================] - 0s 2ms/step - loss: 2118.1042\n",
      "Epoch 57/250\n",
      "32/32 [==============================] - 0s 2ms/step - loss: 2065.6506\n",
      "Epoch 58/250\n",
      "32/32 [==============================] - 0s 2ms/step - loss: 2009.3196\n",
      "Epoch 59/250\n",
      "32/32 [==============================] - 0s 2ms/step - loss: 1959.8435\n",
      "Epoch 60/250\n",
      "32/32 [==============================] - 0s 2ms/step - loss: 1898.2957\n",
      "Epoch 61/250\n",
      "32/32 [==============================] - 0s 2ms/step - loss: 1850.1364\n",
      "Epoch 62/250\n",
      "32/32 [==============================] - 0s 2ms/step - loss: 1795.1150\n",
      "Epoch 63/250\n",
      "32/32 [==============================] - 0s 2ms/step - loss: 1741.0908\n",
      "Epoch 64/250\n",
      "32/32 [==============================] - 0s 2ms/step - loss: 1694.9634\n",
      "Epoch 65/250\n",
      "32/32 [==============================] - 0s 2ms/step - loss: 1647.8739\n",
      "Epoch 66/250\n",
      "32/32 [==============================] - 0s 2ms/step - loss: 1599.5846\n",
      "Epoch 67/250\n",
      "32/32 [==============================] - 0s 2ms/step - loss: 1548.9773\n",
      "Epoch 68/250\n",
      "32/32 [==============================] - 0s 2ms/step - loss: 1503.1501\n",
      "Epoch 69/250\n",
      "32/32 [==============================] - 0s 2ms/step - loss: 1459.4971\n",
      "Epoch 70/250\n",
      "32/32 [==============================] - 0s 2ms/step - loss: 1407.8751\n",
      "Epoch 71/250\n",
      "32/32 [==============================] - 0s 2ms/step - loss: 1358.1008\n",
      "Epoch 72/250\n",
      "32/32 [==============================] - 0s 2ms/step - loss: 1308.5408\n",
      "Epoch 73/250\n",
      "32/32 [==============================] - 0s 2ms/step - loss: 1261.6991\n",
      "Epoch 74/250\n",
      "32/32 [==============================] - 0s 2ms/step - loss: 1216.8707\n",
      "Epoch 75/250\n",
      "32/32 [==============================] - 0s 2ms/step - loss: 1170.5914\n",
      "Epoch 76/250\n",
      "32/32 [==============================] - 0s 2ms/step - loss: 1128.7579\n",
      "Epoch 77/250\n",
      "32/32 [==============================] - 0s 2ms/step - loss: 1085.3308\n",
      "Epoch 78/250\n",
      "32/32 [==============================] - 0s 2ms/step - loss: 1045.0828\n",
      "Epoch 79/250\n",
      "32/32 [==============================] - 0s 2ms/step - loss: 1002.5769\n",
      "Epoch 80/250\n",
      "32/32 [==============================] - 0s 2ms/step - loss: 962.1799\n",
      "Epoch 81/250\n",
      "32/32 [==============================] - 0s 2ms/step - loss: 922.3636\n",
      "Epoch 82/250\n",
      "32/32 [==============================] - 0s 2ms/step - loss: 884.7377\n",
      "Epoch 83/250\n",
      "32/32 [==============================] - 0s 2ms/step - loss: 849.6530\n",
      "Epoch 84/250\n",
      "32/32 [==============================] - 0s 2ms/step - loss: 808.4091\n",
      "Epoch 85/250\n",
      "32/32 [==============================] - 0s 2ms/step - loss: 772.0358\n",
      "Epoch 86/250\n",
      "32/32 [==============================] - 0s 2ms/step - loss: 736.5485\n",
      "Epoch 87/250\n",
      "32/32 [==============================] - 0s 2ms/step - loss: 699.8218\n",
      "Epoch 88/250\n",
      "32/32 [==============================] - 0s 2ms/step - loss: 663.3170\n",
      "Epoch 89/250\n",
      "32/32 [==============================] - 0s 2ms/step - loss: 629.3817\n",
      "Epoch 90/250\n",
      "32/32 [==============================] - 0s 2ms/step - loss: 596.8583\n",
      "Epoch 91/250\n",
      "32/32 [==============================] - 0s 2ms/step - loss: 564.1837\n",
      "Epoch 92/250\n",
      "32/32 [==============================] - 0s 2ms/step - loss: 534.4243\n",
      "Epoch 93/250\n",
      "32/32 [==============================] - 0s 2ms/step - loss: 498.9666\n",
      "Epoch 94/250\n",
      "32/32 [==============================] - 0s 2ms/step - loss: 470.5179\n",
      "Epoch 95/250\n",
      "32/32 [==============================] - 0s 2ms/step - loss: 440.1990\n",
      "Epoch 96/250\n",
      "32/32 [==============================] - 0s 2ms/step - loss: 410.3759\n",
      "Epoch 97/250\n",
      "32/32 [==============================] - 0s 2ms/step - loss: 379.5959\n",
      "Epoch 98/250\n",
      "32/32 [==============================] - 0s 2ms/step - loss: 353.3642\n",
      "Epoch 99/250\n",
      "32/32 [==============================] - 0s 2ms/step - loss: 331.4818\n",
      "Epoch 100/250\n",
      "32/32 [==============================] - 0s 2ms/step - loss: 306.8221\n",
      "Epoch 101/250\n",
      "32/32 [==============================] - 0s 2ms/step - loss: 283.7027\n",
      "Epoch 102/250\n",
      "32/32 [==============================] - 0s 2ms/step - loss: 259.7633\n",
      "Epoch 103/250\n",
      "32/32 [==============================] - 0s 2ms/step - loss: 234.8019\n",
      "Epoch 104/250\n",
      "32/32 [==============================] - 0s 2ms/step - loss: 214.1668\n",
      "Epoch 105/250\n",
      "32/32 [==============================] - 0s 2ms/step - loss: 195.8464\n",
      "Epoch 106/250\n",
      "32/32 [==============================] - 0s 2ms/step - loss: 177.4531\n",
      "Epoch 107/250\n",
      "32/32 [==============================] - 0s 2ms/step - loss: 158.9604\n",
      "Epoch 108/250\n",
      "32/32 [==============================] - 0s 2ms/step - loss: 142.5186\n",
      "Epoch 109/250\n",
      "32/32 [==============================] - 0s 2ms/step - loss: 127.5524\n",
      "Epoch 110/250\n",
      "32/32 [==============================] - 0s 2ms/step - loss: 114.1773\n",
      "Epoch 111/250\n",
      "32/32 [==============================] - 0s 2ms/step - loss: 102.3983\n",
      "Epoch 112/250\n",
      "32/32 [==============================] - 0s 2ms/step - loss: 89.3845\n",
      "Epoch 113/250\n",
      "32/32 [==============================] - 0s 2ms/step - loss: 79.0534\n",
      "Epoch 114/250\n",
      "32/32 [==============================] - 0s 2ms/step - loss: 70.0493\n",
      "Epoch 115/250\n",
      "32/32 [==============================] - 0s 2ms/step - loss: 61.8147\n",
      "Epoch 116/250\n",
      "32/32 [==============================] - 0s 2ms/step - loss: 55.1311\n",
      "Epoch 117/250\n",
      "32/32 [==============================] - 0s 2ms/step - loss: 48.8253\n",
      "Epoch 118/250\n",
      "32/32 [==============================] - 0s 2ms/step - loss: 43.9360\n",
      "Epoch 119/250\n",
      "32/32 [==============================] - 0s 2ms/step - loss: 40.6155\n",
      "Epoch 120/250\n",
      "32/32 [==============================] - 0s 2ms/step - loss: 36.9362\n",
      "Epoch 121/250\n",
      "32/32 [==============================] - 0s 2ms/step - loss: 34.2082\n",
      "Epoch 122/250\n",
      "32/32 [==============================] - 0s 2ms/step - loss: 32.3192\n",
      "Epoch 123/250\n",
      "32/32 [==============================] - 0s 2ms/step - loss: 30.2600\n",
      "Epoch 124/250\n",
      "32/32 [==============================] - 0s 2ms/step - loss: 28.7014\n",
      "Epoch 125/250\n",
      "32/32 [==============================] - 0s 2ms/step - loss: 27.7165\n",
      "Epoch 126/250\n",
      "32/32 [==============================] - 0s 2ms/step - loss: 27.0368\n",
      "Epoch 127/250\n",
      "32/32 [==============================] - 0s 2ms/step - loss: 26.6563\n",
      "Epoch 128/250\n",
      "32/32 [==============================] - 0s 2ms/step - loss: 26.0117\n",
      "Epoch 129/250\n",
      "32/32 [==============================] - 0s 2ms/step - loss: 25.4106\n",
      "Epoch 130/250\n",
      "32/32 [==============================] - 0s 2ms/step - loss: 24.9957\n",
      "Epoch 131/250\n",
      "32/32 [==============================] - 0s 2ms/step - loss: 25.0493\n",
      "Epoch 132/250\n",
      "32/32 [==============================] - 0s 2ms/step - loss: 25.1322\n",
      "Epoch 133/250\n",
      "32/32 [==============================] - 0s 2ms/step - loss: 25.1128\n",
      "Epoch 134/250\n",
      "32/32 [==============================] - 0s 2ms/step - loss: 24.8495\n",
      "Epoch 135/250\n",
      "32/32 [==============================] - 0s 2ms/step - loss: 24.6614\n",
      "Epoch 136/250\n",
      "32/32 [==============================] - 0s 2ms/step - loss: 25.0688\n",
      "Epoch 137/250\n",
      "32/32 [==============================] - 0s 2ms/step - loss: 24.9116\n",
      "Epoch 138/250\n",
      "32/32 [==============================] - 0s 2ms/step - loss: 24.6791\n",
      "Epoch 139/250\n",
      "32/32 [==============================] - 0s 2ms/step - loss: 24.9459\n",
      "Epoch 140/250\n",
      "32/32 [==============================] - 0s 2ms/step - loss: 24.5577\n",
      "Epoch 141/250\n",
      "32/32 [==============================] - 0s 2ms/step - loss: 24.7539\n",
      "Epoch 142/250\n",
      "32/32 [==============================] - 0s 2ms/step - loss: 24.8207\n",
      "Epoch 143/250\n",
      "32/32 [==============================] - 0s 2ms/step - loss: 24.9799\n",
      "Epoch 144/250\n",
      "32/32 [==============================] - 0s 2ms/step - loss: 24.9328\n",
      "Epoch 145/250\n",
      "32/32 [==============================] - 0s 2ms/step - loss: 24.6490\n",
      "Epoch 146/250\n",
      "32/32 [==============================] - 0s 2ms/step - loss: 24.9319\n",
      "Epoch 147/250\n",
      "32/32 [==============================] - 0s 2ms/step - loss: 24.5591\n",
      "Epoch 148/250\n",
      "32/32 [==============================] - 0s 2ms/step - loss: 25.0978\n",
      "Epoch 149/250\n",
      "32/32 [==============================] - 0s 2ms/step - loss: 24.6503\n",
      "Epoch 150/250\n",
      "32/32 [==============================] - 0s 2ms/step - loss: 24.5136\n",
      "Epoch 151/250\n",
      "32/32 [==============================] - 0s 2ms/step - loss: 24.7964\n",
      "Epoch 152/250\n",
      "32/32 [==============================] - 0s 2ms/step - loss: 24.6874\n",
      "Epoch 153/250\n",
      "32/32 [==============================] - 0s 2ms/step - loss: 24.5875\n",
      "Epoch 154/250\n",
      "32/32 [==============================] - 0s 2ms/step - loss: 24.5631\n",
      "Epoch 155/250\n",
      "32/32 [==============================] - 0s 2ms/step - loss: 24.7351\n",
      "Epoch 156/250\n",
      "32/32 [==============================] - 0s 2ms/step - loss: 24.4468\n",
      "Epoch 157/250\n",
      "32/32 [==============================] - 0s 2ms/step - loss: 24.7356\n",
      "Epoch 158/250\n",
      "32/32 [==============================] - 0s 2ms/step - loss: 24.8451\n",
      "Epoch 159/250\n",
      "32/32 [==============================] - 0s 2ms/step - loss: 24.6114\n",
      "Epoch 160/250\n",
      "32/32 [==============================] - 0s 3ms/step - loss: 24.7789\n",
      "Epoch 161/250\n",
      "32/32 [==============================] - 0s 4ms/step - loss: 24.6555\n",
      "Epoch 162/250\n",
      "32/32 [==============================] - 0s 3ms/step - loss: 24.7328\n",
      "Epoch 163/250\n",
      "32/32 [==============================] - 0s 4ms/step - loss: 24.5119\n",
      "Epoch 164/250\n",
      "32/32 [==============================] - 0s 3ms/step - loss: 24.9018\n",
      "Epoch 165/250\n",
      "32/32 [==============================] - 0s 3ms/step - loss: 25.2411\n",
      "Epoch 166/250\n",
      "32/32 [==============================] - 0s 3ms/step - loss: 24.8472\n",
      "Epoch 167/250\n",
      "32/32 [==============================] - 0s 3ms/step - loss: 24.6395\n",
      "Epoch 168/250\n",
      "32/32 [==============================] - 0s 3ms/step - loss: 24.8076\n",
      "Epoch 169/250\n",
      "32/32 [==============================] - 0s 5ms/step - loss: 24.7908\n",
      "Epoch 170/250\n",
      "32/32 [==============================] - 0s 4ms/step - loss: 24.7443\n",
      "Epoch 171/250\n",
      "32/32 [==============================] - 0s 4ms/step - loss: 24.5086\n",
      "Epoch 172/250\n",
      "32/32 [==============================] - 0s 4ms/step - loss: 24.8734\n",
      "Epoch 173/250\n",
      "32/32 [==============================] - 0s 3ms/step - loss: 24.7222\n",
      "Epoch 174/250\n",
      "32/32 [==============================] - 0s 4ms/step - loss: 24.8660\n",
      "Epoch 175/250\n",
      "32/32 [==============================] - 0s 3ms/step - loss: 24.6158\n",
      "Epoch 176/250\n",
      "32/32 [==============================] - 0s 3ms/step - loss: 24.7176\n",
      "Epoch 177/250\n",
      "32/32 [==============================] - 0s 3ms/step - loss: 24.4320\n",
      "Epoch 178/250\n",
      "32/32 [==============================] - 0s 3ms/step - loss: 24.4293\n",
      "Epoch 179/250\n",
      "32/32 [==============================] - 0s 5ms/step - loss: 24.9669\n",
      "Epoch 180/250\n",
      "32/32 [==============================] - 0s 5ms/step - loss: 24.7191\n",
      "Epoch 181/250\n",
      "32/32 [==============================] - 0s 3ms/step - loss: 24.6541\n",
      "Epoch 182/250\n",
      "32/32 [==============================] - 0s 3ms/step - loss: 24.6772\n",
      "Epoch 183/250\n",
      "32/32 [==============================] - 0s 3ms/step - loss: 24.6242\n",
      "Epoch 184/250\n",
      "32/32 [==============================] - 0s 3ms/step - loss: 24.6945\n",
      "Epoch 185/250\n",
      "32/32 [==============================] - 0s 3ms/step - loss: 24.5631\n",
      "Epoch 186/250\n",
      "32/32 [==============================] - 0s 3ms/step - loss: 24.7952\n",
      "Epoch 187/250\n",
      "32/32 [==============================] - 0s 3ms/step - loss: 24.6985\n",
      "Epoch 188/250\n",
      "32/32 [==============================] - 0s 6ms/step - loss: 24.9148\n",
      "Epoch 189/250\n",
      "32/32 [==============================] - 0s 7ms/step - loss: 24.7635\n",
      "Epoch 190/250\n",
      "32/32 [==============================] - 0s 4ms/step - loss: 24.6389\n",
      "Epoch 191/250\n",
      "32/32 [==============================] - 0s 5ms/step - loss: 24.9423\n",
      "Epoch 192/250\n",
      "32/32 [==============================] - 0s 5ms/step - loss: 24.7853\n",
      "Epoch 193/250\n",
      "32/32 [==============================] - 0s 4ms/step - loss: 24.6178\n",
      "Epoch 194/250\n",
      "32/32 [==============================] - 0s 3ms/step - loss: 24.6885\n",
      "Epoch 195/250\n",
      "32/32 [==============================] - 0s 5ms/step - loss: 24.5351\n",
      "Epoch 196/250\n",
      "32/32 [==============================] - 0s 4ms/step - loss: 25.0086\n",
      "Epoch 197/250\n",
      "32/32 [==============================] - 0s 5ms/step - loss: 24.7474\n",
      "Epoch 198/250\n",
      "32/32 [==============================] - 0s 3ms/step - loss: 25.0853\n",
      "Epoch 199/250\n",
      "32/32 [==============================] - 0s 3ms/step - loss: 24.2919\n",
      "Epoch 200/250\n",
      "32/32 [==============================] - 0s 3ms/step - loss: 24.9168\n",
      "Epoch 201/250\n",
      "32/32 [==============================] - 0s 4ms/step - loss: 24.9337\n",
      "Epoch 202/250\n",
      "32/32 [==============================] - 0s 5ms/step - loss: 24.8832\n",
      "Epoch 203/250\n",
      "32/32 [==============================] - 0s 5ms/step - loss: 24.6057\n",
      "Epoch 204/250\n",
      "32/32 [==============================] - 0s 3ms/step - loss: 24.6282\n",
      "Epoch 205/250\n",
      "32/32 [==============================] - 0s 3ms/step - loss: 24.7902\n",
      "Epoch 206/250\n",
      "32/32 [==============================] - 0s 6ms/step - loss: 24.5297\n",
      "Epoch 207/250\n",
      "32/32 [==============================] - 0s 6ms/step - loss: 24.5304\n",
      "Epoch 208/250\n",
      "32/32 [==============================] - 0s 3ms/step - loss: 24.5528\n",
      "Epoch 209/250\n",
      "32/32 [==============================] - 0s 3ms/step - loss: 24.6006\n",
      "Epoch 210/250\n",
      "32/32 [==============================] - 0s 4ms/step - loss: 24.9565\n",
      "Epoch 211/250\n",
      "32/32 [==============================] - 0s 5ms/step - loss: 24.9486\n",
      "Epoch 212/250\n",
      "32/32 [==============================] - 0s 5ms/step - loss: 24.6880\n",
      "Epoch 213/250\n",
      "32/32 [==============================] - 0s 4ms/step - loss: 24.7076\n",
      "Epoch 214/250\n",
      "32/32 [==============================] - 0s 3ms/step - loss: 25.0043\n",
      "Epoch 215/250\n",
      "32/32 [==============================] - 0s 3ms/step - loss: 24.5663\n",
      "Epoch 216/250\n",
      "32/32 [==============================] - 0s 3ms/step - loss: 24.5947\n",
      "Epoch 217/250\n",
      "32/32 [==============================] - 0s 3ms/step - loss: 24.5524\n",
      "Epoch 218/250\n",
      "32/32 [==============================] - 0s 5ms/step - loss: 24.8773\n",
      "Epoch 219/250\n",
      "32/32 [==============================] - 0s 3ms/step - loss: 24.3497\n",
      "Epoch 220/250\n",
      "32/32 [==============================] - 0s 3ms/step - loss: 24.7592\n",
      "Epoch 221/250\n",
      "32/32 [==============================] - 0s 3ms/step - loss: 24.7557\n",
      "Epoch 222/250\n",
      "32/32 [==============================] - 0s 3ms/step - loss: 24.7813\n",
      "Epoch 223/250\n",
      "32/32 [==============================] - 0s 3ms/step - loss: 24.5278\n",
      "Epoch 224/250\n",
      "32/32 [==============================] - 0s 3ms/step - loss: 24.9014\n",
      "Epoch 225/250\n",
      "32/32 [==============================] - 0s 3ms/step - loss: 24.7232\n",
      "Epoch 226/250\n",
      "32/32 [==============================] - 0s 4ms/step - loss: 24.6422\n",
      "Epoch 227/250\n",
      "32/32 [==============================] - 0s 5ms/step - loss: 24.6670\n",
      "Epoch 228/250\n",
      "32/32 [==============================] - 0s 5ms/step - loss: 24.8072\n",
      "Epoch 229/250\n",
      "32/32 [==============================] - 0s 5ms/step - loss: 24.5794\n",
      "Epoch 230/250\n",
      "32/32 [==============================] - 0s 3ms/step - loss: 25.1292\n",
      "Epoch 231/250\n",
      "32/32 [==============================] - 0s 2ms/step - loss: 24.6404\n",
      "Epoch 232/250\n",
      "32/32 [==============================] - 0s 3ms/step - loss: 24.5504\n",
      "Epoch 233/250\n",
      "32/32 [==============================] - 0s 4ms/step - loss: 24.5067\n",
      "Epoch 234/250\n",
      "32/32 [==============================] - 0s 5ms/step - loss: 25.0067\n",
      "Epoch 235/250\n",
      "32/32 [==============================] - 0s 3ms/step - loss: 24.2587\n",
      "Epoch 236/250\n",
      "32/32 [==============================] - 0s 3ms/step - loss: 24.7206\n",
      "Epoch 237/250\n",
      "32/32 [==============================] - 0s 3ms/step - loss: 24.6183\n",
      "Epoch 238/250\n",
      "32/32 [==============================] - 0s 3ms/step - loss: 24.6161\n",
      "Epoch 239/250\n",
      "32/32 [==============================] - 0s 6ms/step - loss: 24.7303\n",
      "Epoch 240/250\n",
      "32/32 [==============================] - 0s 7ms/step - loss: 24.9870\n",
      "Epoch 241/250\n",
      "32/32 [==============================] - 0s 3ms/step - loss: 24.7813\n",
      "Epoch 242/250\n",
      "32/32 [==============================] - 0s 4ms/step - loss: 24.6702\n",
      "Epoch 243/250\n",
      "32/32 [==============================] - 0s 4ms/step - loss: 25.0011\n",
      "Epoch 244/250\n",
      "32/32 [==============================] - 0s 3ms/step - loss: 24.9036\n",
      "Epoch 245/250\n",
      "32/32 [==============================] - 0s 3ms/step - loss: 24.7943\n",
      "Epoch 246/250\n",
      "32/32 [==============================] - 0s 3ms/step - loss: 24.4040\n",
      "Epoch 247/250\n",
      "32/32 [==============================] - 0s 3ms/step - loss: 24.6609\n",
      "Epoch 248/250\n",
      "32/32 [==============================] - 0s 6ms/step - loss: 24.5319\n",
      "Epoch 249/250\n",
      "32/32 [==============================] - 0s 4ms/step - loss: 24.7023\n",
      "Epoch 250/250\n",
      "32/32 [==============================] - 0s 4ms/step - loss: 24.7287\n"
     ]
    },
    {
     "data": {
      "text/plain": [
       "<keras.callbacks.History at 0x7f4e492d66d0>"
      ]
     },
     "execution_count": 54,
     "metadata": {},
     "output_type": "execute_result"
    }
   ],
   "source": [
    "final_model = Sequential()\n",
    "\n",
    "final_model.add(Dense(units = 4, activation = \"relu\"))     # input_dim = 2 or input_dim = X_train.shape[1]\n",
    "final_model.add(Dense(units = 4, activation = \"relu\"))\n",
    "final_model.add(Dense(units = 4, activation = \"relu\"))\n",
    "final_model.add(Dense(1))\n",
    "\n",
    "final_model.compile(optimizer = \"rmsprop\", loss = \"mse\")\n",
    "\n",
    "final_model.fit(x = X_scaled, y = y, batch_size = 32, epochs = 250)"
   ]
  },
  {
   "cell_type": "code",
   "execution_count": 55,
   "metadata": {
    "colab": {
     "base_uri": "https://localhost:8080/"
    },
    "id": "PqLFeVC7dl9O",
    "outputId": "72f0e3c0-247c-49f4-86f9-a876aa5d98c4"
   },
   "outputs": [
    {
     "name": "stdout",
     "output_type": "stream",
     "text": [
      "Model: \"sequential_2\"\n",
      "_________________________________________________________________\n",
      " Layer (type)                Output Shape              Param #   \n",
      "=================================================================\n",
      " dense_8 (Dense)             (None, 4)                 12        \n",
      "                                                                 \n",
      " dense_9 (Dense)             (None, 4)                 20        \n",
      "                                                                 \n",
      " dense_10 (Dense)            (None, 4)                 20        \n",
      "                                                                 \n",
      " dense_11 (Dense)            (None, 1)                 5         \n",
      "                                                                 \n",
      "=================================================================\n",
      "Total params: 57\n",
      "Trainable params: 57\n",
      "Non-trainable params: 0\n",
      "_________________________________________________________________\n"
     ]
    }
   ],
   "source": [
    "final_model.summary()"
   ]
  },
  {
   "cell_type": "markdown",
   "metadata": {
    "id": "1Pj6w_Pxdl9O"
   },
   "source": [
    "### Saving a Model"
   ]
  },
  {
   "cell_type": "markdown",
   "metadata": {
    "id": "-lXT5zu6dl9O"
   },
   "source": [
    "You can save a TensorFlow/Keras model using [`model.save()`](https://www.tensorflow.org/tutorials/keras/save_and_load#save_the_entire_model).\n",
    "\n",
    "Keras saves models by inspecting their architectures. This technique saves everything:\n",
    "\n",
    "- The weight values\n",
    "- The model's architecture\n",
    "- The model's training configuration (what you pass to the .compile() method)\n",
    "- The optimizer and its state, if any (this enables you to restart training where you left off)\n",
    "\n",
    "There are two ways to save a model in TensorFlow:\n",
    "1. The [SavedModel format](https://www.tensorflow.org/tutorials/keras/save_and_load#savedmodel_format) (default).\n",
    "2. The [HDF5 format](https://www.tensorflow.org/tutorials/keras/save_and_load#hdf5_format).\n",
    "\n"
   ]
  },
  {
   "cell_type": "code",
   "execution_count": 56,
   "metadata": {
    "id": "lPZ-Ic5fdl9O"
   },
   "outputs": [],
   "source": [
    "final_model.save('model_fake_reg.h5')  # creates a HDF5 file 'my_model.h5'"
   ]
  },
  {
   "cell_type": "code",
   "execution_count": 57,
   "metadata": {
    "id": "eu4K-i76dl9O"
   },
   "outputs": [],
   "source": [
    "#final_model.save(\"model_fake_reg\") "
   ]
  },
  {
   "cell_type": "markdown",
   "metadata": {
    "id": "ALD822MKdl9O"
   },
   "source": [
    "### Loading Model"
   ]
  },
  {
   "cell_type": "code",
   "execution_count": 58,
   "metadata": {
    "id": "hzOSwKladl9O"
   },
   "outputs": [],
   "source": [
    "from tensorflow.keras.models import load_model"
   ]
  },
  {
   "cell_type": "code",
   "execution_count": 59,
   "metadata": {
    "id": "9i7RIqSodl9O"
   },
   "outputs": [],
   "source": [
    "model_fake_reg = load_model('model_fake_reg.h5')"
   ]
  },
  {
   "cell_type": "code",
   "execution_count": 60,
   "metadata": {
    "id": "6dnAl3bEdl9P"
   },
   "outputs": [],
   "source": [
    "scaler_fake_reg = pickle.load(open(\"scaler_fake_reg\", \"rb\"))"
   ]
  },
  {
   "cell_type": "markdown",
   "metadata": {
    "id": "uEtViv9adl9P"
   },
   "source": [
    "## Prediction-1"
   ]
  },
  {
   "cell_type": "code",
   "execution_count": 61,
   "metadata": {
    "id": "Cxm_QRXQdl9P"
   },
   "outputs": [],
   "source": [
    "sample = [[998, 1000]]"
   ]
  },
  {
   "cell_type": "code",
   "execution_count": 62,
   "metadata": {
    "id": "HWQCgXkvdl9P"
   },
   "outputs": [],
   "source": [
    "sample_scaled = scaler_fake_reg.transform(sample)"
   ]
  },
  {
   "cell_type": "code",
   "execution_count": 63,
   "metadata": {
    "colab": {
     "base_uri": "https://localhost:8080/"
    },
    "id": "Nyeb_12idl9P",
    "outputId": "3c63100a-c48b-4c9d-cdb1-b4d59efeb54c"
   },
   "outputs": [
    {
     "data": {
      "text/plain": [
       "array([[421.35168]], dtype=float32)"
      ]
     },
     "execution_count": 63,
     "metadata": {},
     "output_type": "execute_result"
    }
   ],
   "source": [
    "model_fake_reg.predict(sample_scaled)"
   ]
  },
  {
   "cell_type": "markdown",
   "metadata": {
    "id": "lSGWcZ1udl9P"
   },
   "source": [
    "## Prediction-2"
   ]
  },
  {
   "cell_type": "code",
   "execution_count": 64,
   "metadata": {
    "id": "uxe-tFmFdl9P"
   },
   "outputs": [],
   "source": [
    "my_dict = {\"Feature1\": [997, 998, 999, 1000, 1001],\n",
    "           \"Feature2\": [1000, 999, 998, 997, 996]}"
   ]
  },
  {
   "cell_type": "code",
   "execution_count": 65,
   "metadata": {
    "colab": {
     "base_uri": "https://localhost:8080/",
     "height": 204
    },
    "id": "bQIVPZONdl9P",
    "outputId": "006e556b-218b-493b-d841-0c20f6378d70"
   },
   "outputs": [
    {
     "data": {
      "text/html": [
       "\n",
       "  <div id=\"df-8d50af85-32bf-4676-bbed-910eff62ddc6\">\n",
       "    <div class=\"colab-df-container\">\n",
       "      <div>\n",
       "<style scoped>\n",
       "    .dataframe tbody tr th:only-of-type {\n",
       "        vertical-align: middle;\n",
       "    }\n",
       "\n",
       "    .dataframe tbody tr th {\n",
       "        vertical-align: top;\n",
       "    }\n",
       "\n",
       "    .dataframe thead th {\n",
       "        text-align: right;\n",
       "    }\n",
       "</style>\n",
       "<table border=\"1\" class=\"dataframe\">\n",
       "  <thead>\n",
       "    <tr style=\"text-align: right;\">\n",
       "      <th></th>\n",
       "      <th>Feature1</th>\n",
       "      <th>Feature2</th>\n",
       "    </tr>\n",
       "  </thead>\n",
       "  <tbody>\n",
       "    <tr>\n",
       "      <th>0</th>\n",
       "      <td>997</td>\n",
       "      <td>1000</td>\n",
       "    </tr>\n",
       "    <tr>\n",
       "      <th>1</th>\n",
       "      <td>998</td>\n",
       "      <td>999</td>\n",
       "    </tr>\n",
       "    <tr>\n",
       "      <th>2</th>\n",
       "      <td>999</td>\n",
       "      <td>998</td>\n",
       "    </tr>\n",
       "    <tr>\n",
       "      <th>3</th>\n",
       "      <td>1000</td>\n",
       "      <td>997</td>\n",
       "    </tr>\n",
       "    <tr>\n",
       "      <th>4</th>\n",
       "      <td>1001</td>\n",
       "      <td>996</td>\n",
       "    </tr>\n",
       "  </tbody>\n",
       "</table>\n",
       "</div>\n",
       "      <button class=\"colab-df-convert\" onclick=\"convertToInteractive('df-8d50af85-32bf-4676-bbed-910eff62ddc6')\"\n",
       "              title=\"Convert this dataframe to an interactive table.\"\n",
       "              style=\"display:none;\">\n",
       "        \n",
       "  <svg xmlns=\"http://www.w3.org/2000/svg\" height=\"24px\"viewBox=\"0 0 24 24\"\n",
       "       width=\"24px\">\n",
       "    <path d=\"M0 0h24v24H0V0z\" fill=\"none\"/>\n",
       "    <path d=\"M18.56 5.44l.94 2.06.94-2.06 2.06-.94-2.06-.94-.94-2.06-.94 2.06-2.06.94zm-11 1L8.5 8.5l.94-2.06 2.06-.94-2.06-.94L8.5 2.5l-.94 2.06-2.06.94zm10 10l.94 2.06.94-2.06 2.06-.94-2.06-.94-.94-2.06-.94 2.06-2.06.94z\"/><path d=\"M17.41 7.96l-1.37-1.37c-.4-.4-.92-.59-1.43-.59-.52 0-1.04.2-1.43.59L10.3 9.45l-7.72 7.72c-.78.78-.78 2.05 0 2.83L4 21.41c.39.39.9.59 1.41.59.51 0 1.02-.2 1.41-.59l7.78-7.78 2.81-2.81c.8-.78.8-2.07 0-2.86zM5.41 20L4 18.59l7.72-7.72 1.47 1.35L5.41 20z\"/>\n",
       "  </svg>\n",
       "      </button>\n",
       "      \n",
       "  <style>\n",
       "    .colab-df-container {\n",
       "      display:flex;\n",
       "      flex-wrap:wrap;\n",
       "      gap: 12px;\n",
       "    }\n",
       "\n",
       "    .colab-df-convert {\n",
       "      background-color: #E8F0FE;\n",
       "      border: none;\n",
       "      border-radius: 50%;\n",
       "      cursor: pointer;\n",
       "      display: none;\n",
       "      fill: #1967D2;\n",
       "      height: 32px;\n",
       "      padding: 0 0 0 0;\n",
       "      width: 32px;\n",
       "    }\n",
       "\n",
       "    .colab-df-convert:hover {\n",
       "      background-color: #E2EBFA;\n",
       "      box-shadow: 0px 1px 2px rgba(60, 64, 67, 0.3), 0px 1px 3px 1px rgba(60, 64, 67, 0.15);\n",
       "      fill: #174EA6;\n",
       "    }\n",
       "\n",
       "    [theme=dark] .colab-df-convert {\n",
       "      background-color: #3B4455;\n",
       "      fill: #D2E3FC;\n",
       "    }\n",
       "\n",
       "    [theme=dark] .colab-df-convert:hover {\n",
       "      background-color: #434B5C;\n",
       "      box-shadow: 0px 1px 3px 1px rgba(0, 0, 0, 0.15);\n",
       "      filter: drop-shadow(0px 1px 2px rgba(0, 0, 0, 0.3));\n",
       "      fill: #FFFFFF;\n",
       "    }\n",
       "  </style>\n",
       "\n",
       "      <script>\n",
       "        const buttonEl =\n",
       "          document.querySelector('#df-8d50af85-32bf-4676-bbed-910eff62ddc6 button.colab-df-convert');\n",
       "        buttonEl.style.display =\n",
       "          google.colab.kernel.accessAllowed ? 'block' : 'none';\n",
       "\n",
       "        async function convertToInteractive(key) {\n",
       "          const element = document.querySelector('#df-8d50af85-32bf-4676-bbed-910eff62ddc6');\n",
       "          const dataTable =\n",
       "            await google.colab.kernel.invokeFunction('convertToInteractive',\n",
       "                                                     [key], {});\n",
       "          if (!dataTable) return;\n",
       "\n",
       "          const docLinkHtml = 'Like what you see? Visit the ' +\n",
       "            '<a target=\"_blank\" href=https://colab.research.google.com/notebooks/data_table.ipynb>data table notebook</a>'\n",
       "            + ' to learn more about interactive tables.';\n",
       "          element.innerHTML = '';\n",
       "          dataTable['output_type'] = 'display_data';\n",
       "          await google.colab.output.renderOutput(dataTable, element);\n",
       "          const docLink = document.createElement('div');\n",
       "          docLink.innerHTML = docLinkHtml;\n",
       "          element.appendChild(docLink);\n",
       "        }\n",
       "      </script>\n",
       "    </div>\n",
       "  </div>\n",
       "  "
      ],
      "text/plain": [
       "   Feature1  Feature2\n",
       "0       997      1000\n",
       "1       998       999\n",
       "2       999       998\n",
       "3      1000       997\n",
       "4      1001       996"
      ]
     },
     "execution_count": 65,
     "metadata": {},
     "output_type": "execute_result"
    }
   ],
   "source": [
    "sample = pd.DataFrame(my_dict)\n",
    "sample"
   ]
  },
  {
   "cell_type": "code",
   "execution_count": 66,
   "metadata": {
    "colab": {
     "base_uri": "https://localhost:8080/"
    },
    "id": "t7TVHtiRdl9P",
    "outputId": "69ca82a5-0ecf-4402-b95f-bf7748a80ee7"
   },
   "outputs": [
    {
     "data": {
      "text/plain": [
       "array([[-0.00948799,  0.52980619],\n",
       "       [ 0.15312457,  0.35345977],\n",
       "       [ 0.31573713,  0.17711336],\n",
       "       [ 0.47834969,  0.00076694],\n",
       "       [ 0.64096225, -0.17557948]])"
      ]
     },
     "execution_count": 66,
     "metadata": {},
     "output_type": "execute_result"
    }
   ],
   "source": [
    "sample_scaled = scaler_fake_reg.transform(sample)\n",
    "sample_scaled"
   ]
  },
  {
   "cell_type": "code",
   "execution_count": 67,
   "metadata": {
    "colab": {
     "base_uri": "https://localhost:8080/"
    },
    "id": "fTa_t58Ndl9P",
    "outputId": "f511423e-c3ad-4532-8268-dca23b519d1f"
   },
   "outputs": [
    {
     "data": {
      "text/plain": [
       "array([[381.0387 ],\n",
       "       [332.55045],\n",
       "       [284.06223],\n",
       "       [235.57396],\n",
       "       [185.24669]], dtype=float32)"
      ]
     },
     "execution_count": 67,
     "metadata": {},
     "output_type": "execute_result"
    }
   ],
   "source": [
    "model_fake_reg.predict(sample_scaled)"
   ]
  },
  {
   "cell_type": "markdown",
   "metadata": {
    "id": "0pSNMFf_dl9Q"
   },
   "source": [
    "___\n",
    "\n",
    "<p style=\"text-align: center;\"><img src=\"https://docs.google.com/uc?id=1lY0Uj5R04yMY3-ZppPWxqCr5pvBLYPnV\" class=\"img-fluid\" alt=\"CLRSWY\"></p>\n",
    "\n",
    "___"
   ]
  }
 ],
 "metadata": {
  "colab": {
   "provenance": []
  },
  "interpreter": {
   "hash": "aee8b7b246df8f9039afb4144a1f6fd8d2ca17a180786b69acc140d282b71a49"
  },
  "kernelspec": {
   "display_name": "Python 3 (ipykernel)",
   "language": "python",
   "name": "python3"
  },
  "language_info": {
   "codemirror_mode": {
    "name": "ipython",
    "version": 3
   },
   "file_extension": ".py",
   "mimetype": "text/x-python",
   "name": "python",
   "nbconvert_exporter": "python",
   "pygments_lexer": "ipython3",
   "version": "3.9.12"
  },
  "toc": {
   "base_numbering": 1,
   "nav_menu": {},
   "number_sections": false,
   "sideBar": true,
   "skip_h1_title": false,
   "title_cell": "Table of Contents",
   "title_sidebar": "Contents",
   "toc_cell": false,
   "toc_position": {
    "height": "calc(100% - 180px)",
    "left": "10px",
    "top": "150px",
    "width": "300.099px"
   },
   "toc_section_display": true,
   "toc_window_display": true
  }
 },
 "nbformat": 4,
 "nbformat_minor": 1
}
