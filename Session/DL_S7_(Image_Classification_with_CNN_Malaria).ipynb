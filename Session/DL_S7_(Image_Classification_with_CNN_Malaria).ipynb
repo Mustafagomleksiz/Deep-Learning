{
  "cells": [
    {
      "cell_type": "markdown",
      "metadata": {
        "id": "jkdLdV8Dsl88"
      },
      "source": [
        "___\n",
        "\n",
        "<p style=\"text-align: center;\"><img src=\"https://docs.google.com/uc?id=1lY0Uj5R04yMY3-ZppPWxqCr5pvBLYPnV\" class=\"img-fluid\" alt=\"CLRSWY\"></p>\n",
        "\n",
        "___"
      ]
    },
    {
      "cell_type": "markdown",
      "metadata": {
        "id": "CqyKl6OBsl9A"
      },
      "source": [
        "<h1 style=\"text-align: center;\">Deep Learning<br><br>Session - 7<br><br>Image Classification with CNN<br><br>Malaria Data<br><h1>"
      ]
    },
    {
      "cell_type": "markdown",
      "metadata": {
        "id": "NgJ-_SBHsl9B"
      },
      "source": [
        "\n",
        "# Dataset Info\n",
        "\n",
        "The dataset contains 2 folders - 'parasitized', 'uninfected'\n",
        "\n",
        "And a total of 27,558 images.\n",
        "\n",
        "This Dataset is taken from the official NIH Website: https://ceb.nlm.nih.gov/repositories/malaria-datasets/ "
      ]
    },
    {
      "cell_type": "markdown",
      "metadata": {
        "id": "CMrNns6kobX7"
      },
      "source": [
        "# Import Libraries and Export Images from Zip_File"
      ]
    },
    {
      "cell_type": "code",
      "execution_count": 1,
      "metadata": {
        "colab": {
          "base_uri": "https://localhost:8080/"
        },
        "id": "GnnB7Iigsl9E",
        "outputId": "8b66747f-8bab-49b1-85af-f1bf5ab1eef9"
      },
      "outputs": [
        {
          "output_type": "stream",
          "name": "stdout",
          "text": [
            "Drive already mounted at /content/drive; to attempt to forcibly remount, call drive.mount(\"/content/drive\", force_remount=True).\n"
          ]
        }
      ],
      "source": [
        "from google.colab import drive\n",
        "drive.mount('/content/drive')"
      ]
    },
    {
      "cell_type": "code",
      "execution_count": 2,
      "metadata": {
        "id": "ULUCJSJzsl9C"
      },
      "outputs": [],
      "source": [
        "import os\n",
        "import numpy as np\n",
        "import pandas as pd\n",
        "import matplotlib.pyplot as plt\n",
        "import seaborn as sns\n",
        "from matplotlib.image import imread\n",
        "\n",
        "#import warnings\n",
        "#warnings.filterwarnings(\"ignore\")\n",
        "#warnings.warn(\"this will not show\")\n",
        "\n",
        "plt.rcParams[\"figure.figsize\"] = (10,6)\n",
        "\n",
        "sns.set_style(\"whitegrid\")\n",
        "pd.set_option('display.float_format', lambda x: '%.3f' % x)\n",
        "\n",
        "# Set it None to display all rows in the dataframe\n",
        "# pd.set_option('display.max_rows', None)\n",
        "\n",
        "# Set it to None to display all columns in the dataframe\n",
        "pd.set_option('display.max_columns', None)"
      ]
    },
    {
      "cell_type": "code",
      "execution_count": 3,
      "metadata": {
        "colab": {
          "base_uri": "https://localhost:8080/"
        },
        "id": "eBfqbn-TgoA4",
        "outputId": "5f2c2fb8-8770-454f-da59-071b06d689ce"
      },
      "outputs": [
        {
          "output_type": "execute_result",
          "data": {
            "text/plain": [
              "[PhysicalDevice(name='/physical_device:GPU:0', device_type='GPU')]"
            ]
          },
          "metadata": {},
          "execution_count": 3
        }
      ],
      "source": [
        "import tensorflow as tf\n",
        "\n",
        "tf.config.list_physical_devices(\"GPU\")"
      ]
    },
    {
      "cell_type": "code",
      "execution_count": 4,
      "metadata": {
        "id": "HKxrKtV5H77z"
      },
      "outputs": [],
      "source": [
        "import zipfile\n",
        "\n",
        "# Unzip the file\n",
        "zip_ref = zipfile.ZipFile(\"/content/drive/MyDrive/Colab Notebooks/cell_images.zip\", \"r\")\n",
        "zip_ref.extractall()\n",
        "zip_ref.close()"
      ]
    },
    {
      "cell_type": "markdown",
      "metadata": {
        "id": "YTyh7iXXsl9E"
      },
      "source": [
        "# Recognizing and Understanding Data"
      ]
    },
    {
      "cell_type": "code",
      "execution_count": 5,
      "metadata": {
        "id": "BxDyRgOYdiDB"
      },
      "outputs": [],
      "source": [
        "my_data_dir = \"cell_images\""
      ]
    },
    {
      "cell_type": "code",
      "execution_count": 6,
      "metadata": {
        "id": "AQVM6TYWsl9G",
        "colab": {
          "base_uri": "https://localhost:8080/"
        },
        "outputId": "26229f58-0ba8-4f99-b48d-0a8ea31d982f"
      },
      "outputs": [
        {
          "output_type": "execute_result",
          "data": {
            "text/plain": [
              "['test', 'train']"
            ]
          },
          "metadata": {},
          "execution_count": 6
        }
      ],
      "source": [
        "# CONFIRM THAT THIS REPORTS BACK 'test', and 'train'\n",
        "os.listdir(my_data_dir) "
      ]
    },
    {
      "cell_type": "code",
      "execution_count": 7,
      "metadata": {
        "id": "Chik3r8Ysl9H"
      },
      "outputs": [],
      "source": [
        "test_path = my_data_dir + '/test/'\n",
        "train_path = my_data_dir + '/train/'"
      ]
    },
    {
      "cell_type": "code",
      "execution_count": 8,
      "metadata": {
        "id": "hO_ct-D3sl9H",
        "colab": {
          "base_uri": "https://localhost:8080/"
        },
        "outputId": "956acac2-04ab-460f-b64d-9f10de803ff2"
      },
      "outputs": [
        {
          "output_type": "execute_result",
          "data": {
            "text/plain": [
              "['uninfected', 'parasitized']"
            ]
          },
          "metadata": {},
          "execution_count": 8
        }
      ],
      "source": [
        "os.listdir(test_path)"
      ]
    },
    {
      "cell_type": "code",
      "execution_count": 9,
      "metadata": {
        "id": "QN6kB1Ezsl9I",
        "colab": {
          "base_uri": "https://localhost:8080/"
        },
        "outputId": "c273222b-2a11-4296-ecb2-4fc54766079b"
      },
      "outputs": [
        {
          "output_type": "execute_result",
          "data": {
            "text/plain": [
              "['uninfected', 'parasitized']"
            ]
          },
          "metadata": {},
          "execution_count": 9
        }
      ],
      "source": [
        "os.listdir(train_path)"
      ]
    },
    {
      "cell_type": "code",
      "execution_count": 10,
      "metadata": {
        "id": "eC4GUi8Jp8Rq",
        "colab": {
          "base_uri": "https://localhost:8080/"
        },
        "outputId": "3c45af09-a3ca-405a-8943-438ffdaeca59"
      },
      "outputs": [
        {
          "output_type": "execute_result",
          "data": {
            "text/plain": [
              "['uninfected', 'parasitized']"
            ]
          },
          "metadata": {},
          "execution_count": 10
        }
      ],
      "source": [
        "classes = os.listdir(train_path)\n",
        "classes"
      ]
    },
    {
      "cell_type": "code",
      "execution_count": 11,
      "metadata": {
        "id": "AYrKX5pqe8Ky",
        "colab": {
          "base_uri": "https://localhost:8080/"
        },
        "outputId": "5a9c2928-f4b1-4192-e2df-d7278653b11c"
      },
      "outputs": [
        {
          "output_type": "stream",
          "name": "stdout",
          "text": [
            "['parasitized' 'uninfected']\n"
          ]
        }
      ],
      "source": [
        "# Alternative method\n",
        "import pathlib\n",
        "\n",
        "data_dir = pathlib.Path(train_path) # turn our training path into a Python path\n",
        "class_names = np.array(sorted([item.name for item in data_dir.glob('*')])) # created a list of class_names from the subdirectories\n",
        "print(class_names)"
      ]
    },
    {
      "cell_type": "code",
      "execution_count": 12,
      "metadata": {
        "id": "17L-4uqGptMS",
        "colab": {
          "base_uri": "https://localhost:8080/"
        },
        "outputId": "dbfc04ef-c90c-4752-9aa3-3293ee1319e8"
      },
      "outputs": [
        {
          "output_type": "execute_result",
          "data": {
            "text/plain": [
              "array(['parasitized', 'uninfected'], dtype='<U11')"
            ]
          },
          "metadata": {},
          "execution_count": 12
        }
      ],
      "source": [
        "class_names"
      ]
    },
    {
      "cell_type": "markdown",
      "metadata": {
        "id": "mFVLtsmLsl9N"
      },
      "source": [
        "**Let's check how many images there are.**"
      ]
    },
    {
      "cell_type": "code",
      "execution_count": 13,
      "metadata": {
        "id": "uYCWoVG1qPNo",
        "colab": {
          "base_uri": "https://localhost:8080/"
        },
        "outputId": "acd381b9-9b53-482e-ee8d-6403a403ff62"
      },
      "outputs": [
        {
          "output_type": "execute_result",
          "data": {
            "text/plain": [
              "['C144P105ThinF_IMG_20151015_155004_cell_310.png',\n",
              " 'C39P4thinF_original_IMG_20150622_105253_cell_92.png',\n",
              " 'C186P147NThinF_IMG_20151203_150408_cell_184.png',\n",
              " 'C46P7ThinF_IMG_20151130_205828_cell_151.png',\n",
              " 'C45P6ThinF_IMG_20151130_155110_cell_207.png',\n",
              " 'C39P4thinF_original_IMG_20150622_105335_cell_27.png',\n",
              " 'C185P146ThinF_IMG_20151203_110344_cell_265.png',\n",
              " 'C48P9thinF_IMG_20150721_161243_cell_153.png',\n",
              " 'C172P133ThinF_IMG_20151119_155156_cell_255.png',\n",
              " 'C60P21thinF_IMG_20150804_113011_cell_2.png',\n",
              " 'C129P90ThinF_IMG_20151004_134636_cell_5.png',\n",
              " 'C37BP2_thinF_IMG_20150620_131423a_cell_93.png',\n",
              " 'C91P52ThinF_IMG_20150821_124311_cell_27.png',\n",
              " 'C39P4thinF_original_IMG_20150622_110115_cell_130.png',\n",
              " 'C132P93ThinF_IMG_20151004_153030_cell_1.png',\n",
              " 'C68P29N_ThinF_IMG_20150819_134504_cell_134.png',\n",
              " 'C80P41ThinF_IMG_20150817_111943_cell_19.png',\n",
              " 'C68P29N_ThinF_IMG_20150819_134830_cell_26.png',\n",
              " 'C186P147NThinF_IMG_20151203_150808_cell_132.png',\n",
              " 'C182P143NThinF_IMG_20151201_172759_cell_12.png',\n",
              " 'C48P9thinF_IMG_20150721_160406_cell_231.png',\n",
              " 'C132P93ThinF_IMG_20151004_153030_cell_11.png',\n",
              " 'C82P43ThinF_IMG_20150817_123500_cell_220.png',\n",
              " 'C49P10thinF_IMG_20150724_102951_cell_213.png',\n",
              " 'C50P11thinF_IMG_20150724_115749_cell_174.png',\n",
              " 'C80P41ThinF_IMG_20150817_112557_cell_12.png',\n",
              " 'C82P43ThinF_IMG_20150817_124418_cell_173.png',\n",
              " 'C132P93ThinF_IMG_20151004_151701_cell_174.png',\n",
              " 'C39P4thinF_original_IMG_20150622_113842_cell_1.png',\n",
              " 'C184P145ThinF_IMG_20151203_103114_cell_182.png',\n",
              " 'C131P92ThinF_IMG_20151004_151001_cell_121.png',\n",
              " 'C144P105ThinF_IMG_20151015_160529_cell_270.png',\n",
              " 'C39P4thinF_original_IMG_20150622_111326_cell_14.png',\n",
              " 'C80P41ThinF_IMG_20150817_110608_cell_157.png',\n",
              " 'C136P97ThinF_IMG_20151005_144727_cell_125.png',\n",
              " 'C116P77ThinF_IMG_20150930_171844_cell_120.png',\n",
              " 'C101P62ThinF_IMG_20150918_151942_cell_75.png',\n",
              " 'C120P81ThinF_IMG_20151002_130150_cell_209.png',\n",
              " 'C182P143NThinF_IMG_20151201_172257_cell_196.png',\n",
              " 'C117P78ThinF_IMG_20150930_220616_cell_94.png',\n",
              " 'C181P142ThinF_IMG_20151127_160539_cell_187.png',\n",
              " 'C179P140ThinF_IMG_20151127_153521_cell_171.png',\n",
              " 'C180P141NThinF_IMG_20151201_165423_cell_159.png',\n",
              " 'C60P21thinF_IMG_20150803_144003_cell_131.png',\n",
              " 'C137P98ThinF_IMG_20151005_163901_cell_82.png',\n",
              " 'C182P143NThinF_IMG_20151201_172257_cell_184.png',\n",
              " 'C39P4thinF_original_IMG_20150622_105102_cell_100.png',\n",
              " 'C167P128ReThinF_IMG_20151201_105354_cell_242.png',\n",
              " 'C129P90ThinF_IMG_20151004_134700_cell_30.png',\n",
              " 'C91P52ThinF_IMG_20150821_124739_cell_184.png',\n",
              " 'C59P20thinF_IMG_20150803_113809_cell_3.png',\n",
              " 'C63P24N_ThinF_IMG_20150818_143544_cell_175.png',\n",
              " 'C45P6ThinF_IMG_20151130_155110_cell_200.png',\n",
              " 'C70P31_ThinF_IMG_20150819_141436_cell_109.png',\n",
              " 'C99P60ThinF_IMG_20150918_141001_cell_102.png',\n",
              " 'C116P77ThinF_IMG_20150930_171635_cell_103.png',\n",
              " 'C184P145ThinF_IMG_20151203_102543_cell_167.png',\n",
              " 'C51AP12thinF_IMG_20150724_154330_cell_113.png',\n",
              " 'C116P77ThinF_IMG_20150930_171954_cell_103.png',\n",
              " 'C102P63ThinF_IMG_20150918_162511_cell_173.png',\n",
              " 'C68P29N_ThinF_IMG_20150819_134830_cell_12.png',\n",
              " 'C184P145ThinF_IMG_20151203_103637_cell_176.png',\n",
              " 'C156P117ThinF_IMG_20151115_154313_cell_276.png',\n",
              " 'C91P52ThinF_IMG_20150821_123314_cell_193.png',\n",
              " 'C97P58ThinF_IMG_20150917_152032_cell_172.png',\n",
              " 'C180P141NThinF_IMG_20151201_163751_cell_174.png',\n",
              " 'C163P124ThinF_IMG_20151116_111925_cell_283.png',\n",
              " 'C130P91ThinF_IMG_20151004_142109_cell_133.png',\n",
              " 'C118P79ThinF_IMG_20151002_105735_cell_136.png',\n",
              " 'C68P29N_ThinF_IMG_20150819_134712_cell_37.png',\n",
              " 'C174P135NThinF_IMG_20151127_135342_cell_222.png',\n",
              " 'C101P62ThinF_IMG_20150918_151149_cell_88.png',\n",
              " 'C84P45ThinF_IMG_20150818_101903_cell_5.png',\n",
              " 'C176P137NThinF_IMG_20151201_121030_cell_17.png',\n",
              " 'C68P29N_ThinF_IMG_20150819_134712_cell_47.png',\n",
              " 'C45P6ThinF_IMG_20151130_160135_cell_210.png',\n",
              " 'C51AP12thinF_IMG_20150724_154330_cell_126.png',\n",
              " 'C187P148NThinF_IMG_20151203_154503_cell_155.png',\n",
              " 'C120P81ThinF_IMG_20151002_125443_cell_136.png',\n",
              " 'C82P43ThinF_IMG_20150817_124728_cell_28.png',\n",
              " 'C184P145ThinF_IMG_20151203_104334_cell_25.png',\n",
              " 'C149P110ThinF_IMG_20151115_115154_cell_255.png',\n",
              " 'C100P61ThinF_IMG_20150918_144104_cell_166.png',\n",
              " 'C77P38ThinF_IMG_20150602_143524_cell_150.png',\n",
              " 'C130P91ThinF_IMG_20151004_142951_cell_156.png',\n",
              " 'C116P77ThinF_IMG_20150930_171558_cell_137.png',\n",
              " 'C148P109ThinF_IMG_20151115_112445_cell_244.png',\n",
              " 'C134P95ThinF_IMG_20151005_121952_cell_121.png',\n",
              " 'C101P62ThinF_IMG_20150918_151507_cell_64.png',\n",
              " 'C59P20thinF_IMG_20150803_111244_cell_188.png',\n",
              " 'C97P58ThinF_IMG_20150917_151512_cell_166.png',\n",
              " 'C187P148NThinF_IMG_20151203_153036_cell_127.png',\n",
              " 'C107P68ThinF_IMG_20150924_222415_cell_179.png',\n",
              " 'C97P58ThinF_IMG_20150917_151320_cell_145.png',\n",
              " 'C39P4thinF_original_IMG_20150622_113446_cell_5.png',\n",
              " 'C104P65ThinF_IMG_20150918_171751_cell_186.png',\n",
              " 'C62P23N_ThinF_IMG_20150818_132918_cell_195.png',\n",
              " 'C101P62ThinF_IMG_20150918_155026_cell_1.png',\n",
              " 'C142P103ThinF_IMG_20151005_221900_cell_195.png',\n",
              " 'C182P143NThinF_IMG_20151201_172842_cell_22.png',\n",
              " 'C82P43ThinF_IMG_20150817_125114_cell_8.png',\n",
              " 'C39P4thinF_original_IMG_20150622_112119_cell_19.png',\n",
              " 'C182P143NThinF_IMG_20151201_171836_cell_150.png',\n",
              " 'C128P89ThinF_IMG_20151004_131231_cell_150.png',\n",
              " 'C144P105ThinF_IMG_20151015_160529_cell_275.png',\n",
              " 'C42P5thin_original_IMG_20150623_134426_cell_185.png',\n",
              " 'C118P79ThinF_IMG_20151002_105827_cell_139.png',\n",
              " 'C68P29N_ThinF_IMG_20150819_134326_cell_120.png',\n",
              " 'C116P77ThinF_IMG_20150930_171558_cell_121.png',\n",
              " 'C168P129ThinF_IMG_20151118_161940_cell_160.png',\n",
              " 'C84P45ThinF_IMG_20150818_102800_cell_13.png',\n",
              " 'C135P96ThinF_IMG_20151005_124204_cell_126.png',\n",
              " 'C97P58ThinF_IMG_20150917_151512_cell_168.png',\n",
              " 'C109P70ThinF_IMG_20150930_103214_cell_183.png',\n",
              " 'C140P101ThinF_IMG_20151005_210207_cell_168.png',\n",
              " 'C180P141NThinF_IMG_20151201_164714_cell_167.png',\n",
              " 'C163P124ThinF_IMG_20151116_111350_cell_1.png',\n",
              " 'C82P43ThinF_IMG_20150817_125114_cell_1.png',\n",
              " 'C129P90ThinF_IMG_20151004_134520_cell_115.png',\n",
              " 'C99P60ThinF_IMG_20150918_141001_cell_115.png',\n",
              " 'C132P93ThinF_IMG_20151004_152505_cell_147.png',\n",
              " 'C82P43ThinF_IMG_20150817_123652_cell_218.png',\n",
              " 'C99P60ThinF_IMG_20150918_141001_cell_163.png',\n",
              " 'C132P93ThinF_IMG_20151004_152353_cell_140.png',\n",
              " 'C116P77ThinF_IMG_20150930_171844_cell_121.png',\n",
              " 'C48P9thinF_IMG_20150721_163810_cell_11.png',\n",
              " 'C116P77ThinF_IMG_20150930_171448_cell_105.png',\n",
              " 'C167P128ReThinF_IMG_20151201_110011_cell_238.png',\n",
              " 'C68P29N_ThinF_IMG_20150819_134326_cell_119.png',\n",
              " 'C176P137NThinF_IMG_20151201_120612_cell_9.png',\n",
              " 'C110P71ThinF_IMG_20150930_105319_cell_188.png',\n",
              " 'C136P97ThinF_IMG_20151005_140538_cell_97.png',\n",
              " 'C129P90ThinF_IMG_20151004_133538_cell_81.png',\n",
              " 'C181P142ThinF_IMG_20151127_155722_cell_194.png',\n",
              " 'C176P137NThinF_IMG_20151201_122708_cell_130.png',\n",
              " 'C132P93ThinF_IMG_20151004_151941_cell_7.png',\n",
              " 'C180P141NThinF_IMG_20151201_165601_cell_205.png',\n",
              " 'C175P136NThinF_IMG_20151127_141428_cell_211.png',\n",
              " 'C70P31_ThinF_IMG_20150813_130332_cell_100.png',\n",
              " 'C79P40ThinF_IMG_20150817_103901_cell_122.png',\n",
              " 'C39P4thinF_original_IMG_20150622_113842_cell_25.png',\n",
              " 'C95P56ThinF_IMG_20150821_171603_cell_77.png',\n",
              " 'C91P52ThinF_IMG_20150821_124311_cell_6.png',\n",
              " 'C112P73ThinF_IMG_20150930_131900_cell_175.png',\n",
              " 'C101P62ThinF_IMG_20150923_165215_cell_27.png',\n",
              " 'C39P4thinF_original_IMG_20150622_113842_cell_3.png',\n",
              " 'C84P45ThinF_IMG_20150818_101146_cell_93.png',\n",
              " 'C68P29N_ThinF_IMG_20150819_134712_cell_40.png',\n",
              " 'C180P141NThinF_IMG_20151201_163751_cell_141.png',\n",
              " 'C46P7ThinF_IMG_20151130_210123_cell_126.png',\n",
              " 'C59P20thinF_IMG_20150803_112802_cell_194.png',\n",
              " 'C91P52ThinF_IMG_20150821_124739_cell_197.png',\n",
              " 'C39P4thinF_original_IMG_20150622_111206_cell_81.png',\n",
              " 'C84P45ThinF_IMG_20150818_101412_cell_104.png',\n",
              " 'C39P4thinF_original_IMG_20150622_105102_cell_83.png',\n",
              " 'C84P45ThinF_IMG_20150818_101257_cell_87.png',\n",
              " 'C68P29N_ThinF_IMG_20150819_134504_cell_124.png',\n",
              " 'C118P79ThinF_IMG_20151002_105827_cell_144.png',\n",
              " 'C182P143NThinF_IMG_20151201_171905_cell_148.png',\n",
              " 'C132P93ThinF_IMG_20151004_151811_cell_128.png',\n",
              " 'C137P98ThinF_IMG_20151005_164119_cell_74.png',\n",
              " 'C39P4thinF_original_IMG_20150622_113842_cell_8.png',\n",
              " 'C68P29N_ThinF_IMG_20150819_134830_cell_35.png',\n",
              " 'C137P98ThinF_IMG_20151005_162648_cell_9.png',\n",
              " 'C116P77ThinF_IMG_20150930_171739_cell_118.png',\n",
              " 'C179P140ThinF_IMG_20151127_153436_cell_165.png',\n",
              " 'C148P109ThinF_IMG_20151115_112333_cell_242.png',\n",
              " 'C132P93ThinF_IMG_20151004_152808_cell_20.png',\n",
              " 'C59P20thinF_IMG_20150803_112802_cell_191.png',\n",
              " 'C108P69ThinF_IMG_20150924_225511_cell_184.png',\n",
              " 'C39P4thinF_original_IMG_20150622_110900_cell_9.png',\n",
              " 'C62P23N_ThinF_IMG_20150818_132918_cell_193.png',\n",
              " 'C137P98ThinF_IMG_20151005_164119_cell_67.png',\n",
              " 'C116P77ThinF_IMG_20150930_172112_cell_99.png',\n",
              " 'C60P21thinF_IMG_20150803_144003_cell_127.png',\n",
              " 'C162P123ThinF_IMG_20151116_104342_cell_150.png',\n",
              " 'C182P143NThinF_IMG_20151201_172057_cell_150.png',\n",
              " 'C182P143NThinF_IMG_20151201_172759_cell_32.png',\n",
              " 'C188P149ThinF_IMG_20151203_134229_cell_226.png',\n",
              " 'C130P91ThinF_IMG_20151004_135449_cell_124.png',\n",
              " 'C111P72ThinF_IMG_20150930_112827_cell_179.png',\n",
              " 'C68P29N_ThinF_IMG_20150819_134504_cell_136.png',\n",
              " 'C180P141NThinF_IMG_20151201_165423_cell_182.png',\n",
              " 'C39P4thinF_original_IMG_20150622_110115_cell_123.png',\n",
              " 'C181P142ThinF_IMG_20151127_160650_cell_179.png',\n",
              " 'C68P29N_ThinF_IMG_20150819_134712_cell_26.png',\n",
              " 'C180P141NThinF_IMG_20151201_163751_cell_146.png',\n",
              " 'C39P4thinF_original_IMG_20150622_114804_cell_21.png',\n",
              " 'C164P125ThinF_IMG_20151116_120135_cell_139.png',\n",
              " 'C68P29N_ThinF_IMG_20150819_134625_cell_53.png',\n",
              " 'C182P143NThinF_IMG_20151201_172607_cell_32.png',\n",
              " 'C60P21thinF_IMG_20150804_105034_cell_114.png',\n",
              " 'C116P77ThinF_IMG_20150930_171809_cell_62.png',\n",
              " 'C180P141NThinF_IMG_20151201_163751_cell_180.png',\n",
              " 'C59P20thinF_IMG_20150803_113809_cell_32.png',\n",
              " 'C132P93ThinF_IMG_20151004_151811_cell_171.png',\n",
              " 'C116P77ThinF_IMG_20150930_172112_cell_107.png',\n",
              " 'C174P135NThinF_IMG_20151127_135640_cell_181.png',\n",
              " 'C124P85ThinF_IMG_20151002_154502_cell_157.png',\n",
              " 'C81P42ThinF_IMG_20150817_115942_cell_214.png',\n",
              " 'C180P141NThinF_IMG_20151201_163702_cell_199.png',\n",
              " 'C140P101ThinF_IMG_20151005_211735_cell_154.png',\n",
              " 'C175P136NThinF_IMG_20151127_141325_cell_222.png',\n",
              " 'C131P92ThinF_IMG_20151004_151001_cell_130.png',\n",
              " 'C101P62ThinF_IMG_20150923_170246_cell_84.png',\n",
              " 'C182P143NThinF_IMG_20151201_171950_cell_173.png',\n",
              " 'C182P143NThinF_IMG_20151201_172216_cell_159.png',\n",
              " 'C118P79ThinF_IMG_20151002_104831_cell_155.png',\n",
              " 'C145P106ThinF_IMG_20151016_154309_cell_150.png',\n",
              " 'C131P92ThinF_IMG_20151004_145224_cell_134.png',\n",
              " 'C59P20thinF_IMG_20150803_112858_cell_151.png',\n",
              " 'C182P143NThinF_IMG_20151201_171950_cell_167.png',\n",
              " 'C39P4thinF_original_IMG_20150622_111206_cell_105.png',\n",
              " 'C118P79ThinF_IMG_20151002_105346_cell_157.png',\n",
              " 'C57P18thinF_IMG_20150729_110305_cell_222.png',\n",
              " 'C130P91ThinF_IMG_20151004_142951_cell_158.png',\n",
              " 'C104P65ThinF_IMG_20150918_171154_cell_213.png',\n",
              " 'C59P20thinF_IMG_20150803_113809_cell_42.png',\n",
              " 'C119P80ThinF_IMG_20151002_124425_cell_143.png',\n",
              " 'C66P27N_ThinF_IMG_20150818_164008_cell_160.png',\n",
              " 'C48P9thinF_IMG_20150721_161055_cell_180.png',\n",
              " 'C39P4thinF_original_IMG_20150622_111326_cell_25.png',\n",
              " 'C101P62ThinF_IMG_20150918_151149_cell_79.png',\n",
              " 'C66P27N_ThinF_IMG_20150818_164008_cell_157.png',\n",
              " 'C98P59ThinF_IMG_20150917_153938_cell_179.png',\n",
              " 'C84P45ThinF_IMG_20150818_104849_cell_14.png',\n",
              " 'C188P149ThinF_IMG_20151203_134419_cell_199.png',\n",
              " 'C97P58ThinF_IMG_20150917_151512_cell_171.png',\n",
              " 'C77P38ThinF_IMG_20150601_155125_cell_132.png',\n",
              " 'C39P4thinF_original_IMG_20150622_110435_cell_88.png',\n",
              " 'C97P58ThinF_IMG_20150917_151903_cell_20.png',\n",
              " 'C180P141NThinF_IMG_20151201_163702_cell_185.png',\n",
              " 'C181P142ThinF_IMG_20151127_155722_cell_189.png',\n",
              " 'C52P13thinF_IMG_20150725_124606_cell_160.png',\n",
              " 'C113P74ThinF_IMG_20150930_134614_cell_174.png',\n",
              " 'C102P63ThinF_IMG_20150918_161826_cell_171.png',\n",
              " 'C176P137NThinF_IMG_20151201_122708_cell_119.png',\n",
              " 'C116P77ThinF_IMG_20150930_171219_cell_96.png',\n",
              " 'C174P135NThinF_IMG_20151127_135342_cell_221.png',\n",
              " 'C59P20thinF_IMG_20150803_113139_cell_28.png',\n",
              " 'C157P118ThinF_IMG_20151115_162818_cell_183.png',\n",
              " 'C118P79ThinF_IMG_20151002_110212_cell_5.png',\n",
              " 'C171P132ThinF_IMG_20151119_153425_cell_240.png',\n",
              " 'C91P52ThinF_IMG_20150821_125154_cell_195.png',\n",
              " 'C180P141NThinF_IMG_20151201_165659_cell_2.png',\n",
              " 'C78P39ThinF_IMG_20150606_103630_cell_170.png',\n",
              " 'C96P57ThinF_IMG_20150824_111748_cell_218.png',\n",
              " 'C182P143NThinF_IMG_20151201_172524_cell_188.png',\n",
              " 'C120P81ThinF_IMG_20151002_131120_cell_191.png',\n",
              " 'C59P20thinF_IMG_20150803_115303_cell_13.png',\n",
              " 'C140P101ThinF_IMG_20151005_205922_cell_192.png',\n",
              " 'C146P107ThinF_IMG_20151018_140342_cell_250.png',\n",
              " 'C100P61ThinF_IMG_20150918_150041_cell_149.png',\n",
              " 'C37BP2_thinF_IMG_20150620_133111a_cell_86.png',\n",
              " 'C180P141NThinF_IMG_20151201_165601_cell_165.png',\n",
              " 'C102P63ThinF_IMG_20150918_162300_cell_180.png',\n",
              " 'C180P141NThinF_IMG_20151201_165528_cell_143.png',\n",
              " 'C39P4thinF_original_IMG_20150622_111723_cell_79.png',\n",
              " 'C82P43ThinF_IMG_20150817_123824_cell_190.png',\n",
              " 'C158P119ThinF_IMG_20151115_181035_cell_174.png',\n",
              " 'C99P60ThinF_IMG_20150918_142334_cell_21.png',\n",
              " 'C118P79ThinF_IMG_20151002_105125_cell_162.png',\n",
              " 'C158P119ThinF_IMG_20151115_183157_cell_172.png',\n",
              " 'C97P58ThinF_IMG_20150917_145555_cell_169.png',\n",
              " 'C184P145ThinF_IMG_20151203_104153_cell_128.png',\n",
              " 'C97P58ThinF_IMG_20150917_151551_cell_183.png',\n",
              " 'C101P62ThinF_IMG_20150918_151942_cell_64.png',\n",
              " 'C101P62ThinF_IMG_20150918_151335_cell_51.png',\n",
              " 'C137P98ThinF_IMG_20151005_164119_cell_78.png',\n",
              " 'C184P145ThinF_IMG_20151203_104334_cell_22.png',\n",
              " 'C120P81ThinF_IMG_20151002_125443_cell_144.png',\n",
              " 'C184P145ThinF_IMG_20151203_103114_cell_146.png',\n",
              " 'C99P60ThinF_IMG_20150918_142128_cell_79.png',\n",
              " 'C108P69ThinF_IMG_20150924_224616_cell_195.png',\n",
              " 'C188P149ThinF_IMG_20151203_134319_cell_186.png',\n",
              " 'C186P147NThinF_IMG_20151203_150132_cell_199.png',\n",
              " 'C128P89ThinF_IMG_20151004_131030_cell_151.png',\n",
              " 'C80P41ThinF_IMG_20150817_110348_cell_113.png',\n",
              " 'C140P101ThinF_IMG_20151005_210026_cell_167.png',\n",
              " 'C188P149ThinF_IMG_20151203_134449_cell_203.png',\n",
              " 'C117P78ThinF_IMG_20150930_214629_cell_105.png',\n",
              " 'C89P50ThinF_IMG_20150820_162504_cell_195.png',\n",
              " 'C82P43ThinF_IMG_20150817_123500_cell_247.png',\n",
              " 'C48P9thinF_IMG_20150721_160944_cell_231.png',\n",
              " 'C84P45ThinF_IMG_20150818_101550_cell_104.png',\n",
              " 'C176P137NThinF_IMG_20151201_114235_cell_15.png',\n",
              " 'C59P20thinF_IMG_20150803_113430_cell_7.png',\n",
              " 'C48P9thinF_IMG_20150721_164129_cell_5.png',\n",
              " 'C109P70ThinF_IMG_20150930_102944_cell_172.png',\n",
              " 'C184P145ThinF_IMG_20151203_102405_cell_168.png',\n",
              " 'C99P60ThinF_IMG_20150918_141620_cell_12.png',\n",
              " 'C81P42ThinF_IMG_20150817_120351_cell_184.png',\n",
              " 'C49P10thinF_IMG_20150724_103054_cell_193.png',\n",
              " 'C133P94ThinF_IMG_20151004_155721_cell_109.png',\n",
              " 'C78P39ThinF_IMG_20150606_104426_cell_152.png',\n",
              " 'C91P52ThinF_IMG_20150821_124311_cell_20.png',\n",
              " 'C77P38ThinF_IMG_20150602_112011_cell_125.png',\n",
              " 'C173P134NThinF_IMG_20151130_125501_cell_256.png',\n",
              " 'C70P31_ThinF_IMG_20150819_142239_cell_8.png',\n",
              " 'C64P25N_ThinF_IMG_20150818_153401_cell_194.png',\n",
              " 'C59P20thinF_IMG_20150803_111333_cell_173.png',\n",
              " 'C149P110ThinF_IMG_20151115_114629_cell_270.png',\n",
              " 'C179P140ThinF_IMG_20151127_153852_cell_161.png',\n",
              " 'C176P137NThinF_IMG_20151201_120612_cell_8.png',\n",
              " 'C80P41ThinF_IMG_20150817_111943_cell_20.png',\n",
              " 'C52P13thinF_IMG_20150725_123938_cell_191.png',\n",
              " 'C62P23N_ThinF_IMG_20150818_133307_cell_173.png',\n",
              " 'C101P62ThinF_IMG_20150918_151006_cell_80.png',\n",
              " 'C184P145ThinF_IMG_20151203_102405_cell_187.png',\n",
              " 'C39P4thinF_original_IMG_20150622_105253_cell_103.png',\n",
              " 'C33P1thinF_IMG_20150619_120742a_cell_210.png',\n",
              " 'C132P93ThinF_IMG_20151004_152257_cell_150.png',\n",
              " 'C116P77ThinF_IMG_20150930_171635_cell_74.png',\n",
              " 'C80P41ThinF_IMG_20150817_110834_cell_143.png',\n",
              " 'C182P143NThinF_IMG_20151201_172842_cell_14.png',\n",
              " 'C82P43ThinF_IMG_20150817_124418_cell_153.png',\n",
              " 'C129P90ThinF_IMG_20151004_133421_cell_103.png',\n",
              " 'C176P137NThinF_IMG_20151201_122811_cell_162.png',\n",
              " 'C56P17thinF_IMG_20150728_151330_cell_121.png',\n",
              " 'C59P20thinF_IMG_20150803_113809_cell_19.png',\n",
              " 'C68P29N_ThinF_IMG_20150819_134712_cell_78.png',\n",
              " 'C68P29N_ThinF_IMG_20150819_133350_cell_142.png',\n",
              " 'C137P98ThinF_IMG_20151005_160918_cell_66.png',\n",
              " 'C188P149ThinF_IMG_20151203_134229_cell_225.png',\n",
              " 'C68P29N_ThinF_IMG_20150819_134112_cell_130.png',\n",
              " 'C180P141NThinF_IMG_20151201_164714_cell_190.png',\n",
              " 'C184P145ThinF_IMG_20151203_102405_cell_158.png',\n",
              " 'C113P74ThinF_IMG_20150930_134751_cell_181.png',\n",
              " 'C179P140ThinF_IMG_20151127_153521_cell_167.png',\n",
              " 'C92P53ThinF_IMG_20150821_150457_cell_252.png',\n",
              " 'C70P31_ThinF_IMG_20150819_142239_cell_11.png',\n",
              " 'C172P133ThinF_IMG_20151119_154936_cell_252.png',\n",
              " 'C39P4thinF_original_IMG_20150622_112119_cell_17.png',\n",
              " 'C132P93ThinF_IMG_20151004_152353_cell_171.png',\n",
              " 'C48P9thinF_IMG_20150721_163810_cell_8.png',\n",
              " 'C180P141NThinF_IMG_20151201_165423_cell_168.png',\n",
              " 'C60P21thinF_IMG_20150803_144003_cell_126.png',\n",
              " 'C46P7ThinF_IMG_20151130_205756_cell_122.png',\n",
              " 'C133P94ThinF_IMG_20151004_155144_cell_115.png',\n",
              " 'C84P45ThinF_IMG_20150818_101550_cell_103.png',\n",
              " 'C184P145ThinF_IMG_20151203_103326_cell_124.png',\n",
              " 'C101P62ThinF_IMG_20150918_151006_cell_71.png',\n",
              " 'C147P108ThinF_IMG_20151115_092605_cell_225.png',\n",
              " 'C132P93ThinF_IMG_20151004_152642_cell_37.png',\n",
              " 'C184P145ThinF_IMG_20151203_102405_cell_149.png',\n",
              " 'C132P93ThinF_IMG_20151004_152353_cell_139.png',\n",
              " 'C68P29N_ThinF_IMG_20150819_133236_cell_156.png',\n",
              " 'C97P58ThinF_IMG_20150917_152032_cell_161.png',\n",
              " 'C80P41ThinF_IMG_20150817_110957_cell_151.png',\n",
              " 'C45P6ThinF_IMG_20151130_160135_cell_204.png',\n",
              " 'C76P37ThinF_IMG_20150815_172808_cell_221.png',\n",
              " 'C60P21thinF_IMG_20150804_105955_cell_123.png',\n",
              " 'C136P97ThinF_IMG_20151005_140538_cell_92.png',\n",
              " 'C189P150ThinF_IMG_20151203_141615_cell_90.png',\n",
              " 'C68P29N_ThinF_IMG_20150819_134712_cell_21.png',\n",
              " 'C117P78ThinF_IMG_20150930_222228_cell_81.png',\n",
              " 'C91P52ThinF_IMG_20150821_125154_cell_206.png',\n",
              " 'C39P4thinF_original_IMG_20150622_114804_cell_17.png',\n",
              " 'C179P140ThinF_IMG_20151127_153819_cell_179.png',\n",
              " 'C181P142ThinF_IMG_20151127_160539_cell_196.png',\n",
              " 'C82P43ThinF_IMG_20150817_124010_cell_192.png',\n",
              " 'C68P29N_ThinF_IMG_20150819_134112_cell_133.png',\n",
              " 'C46P7ThinF_IMG_20151130_210815_cell_2.png',\n",
              " 'C130P91ThinF_IMG_20151004_142951_cell_143.png',\n",
              " 'C64P25N_ThinF_IMG_20150818_153401_cell_195.png',\n",
              " 'C48P9thinF_IMG_20150721_161243_cell_147.png',\n",
              " 'C108P69ThinF_IMG_20150924_224038_cell_189.png',\n",
              " 'C144P105ThinF_IMG_20151015_160908_cell_288.png',\n",
              " 'C71P32_ThinF_IMG_20150813_162016_cell_244.png',\n",
              " 'C144P105ThinF_IMG_20151015_160908_cell_290.png',\n",
              " 'C116P77ThinF_IMG_20150930_171558_cell_92.png',\n",
              " 'C82P43ThinF_IMG_20150817_123652_cell_227.png',\n",
              " 'C180P141NThinF_IMG_20151201_165453_cell_21.png',\n",
              " 'C116P77ThinF_IMG_20150930_171219_cell_107.png',\n",
              " 'C184P145ThinF_IMG_20151203_103824_cell_114.png',\n",
              " 'C184P145ThinF_IMG_20151203_102543_cell_173.png',\n",
              " 'C183P144NThinF_IMG_20151201_222917_cell_152.png',\n",
              " 'C88P49ThinF_IMG_20150820_150141_cell_218.png',\n",
              " 'C39P4thinF_original_IMG_20150622_113632_cell_14.png',\n",
              " 'C180P141NThinF_IMG_20151201_165528_cell_176.png',\n",
              " 'C184P145ThinF_IMG_20151203_104030_cell_34.png',\n",
              " 'C52P13thinF_IMG_20150725_125213_cell_170.png',\n",
              " 'C179P140ThinF_IMG_20151127_153420_cell_180.png',\n",
              " 'C39P4thinF_original_IMG_20150622_111326_cell_3.png',\n",
              " 'C184P145ThinF_IMG_20151203_103824_cell_118.png',\n",
              " 'C82P43ThinF_IMG_20150817_125114_cell_10.png',\n",
              " 'C133P94ThinF_IMG_20151004_155331_cell_118.png',\n",
              " 'C78P39ThinF_IMG_20150606_103413_cell_171.png',\n",
              " 'C149P110ThinF_IMG_20151115_114729_cell_266.png',\n",
              " 'C70P31_ThinF_IMG_20150813_130849_cell_75.png',\n",
              " 'C59P20thinF_IMG_20150803_112733_cell_183.png',\n",
              " 'C66P27N_ThinF_IMG_20150818_163419_cell_198.png',\n",
              " 'C159P120ThinF_IMG_20151115_190642_cell_201.png',\n",
              " 'C144P105ThinF_IMG_20151015_160529_cell_276.png',\n",
              " 'C129P90ThinF_IMG_20151004_133921_cell_100.png',\n",
              " 'C182P143NThinF_IMG_20151201_172257_cell_171.png',\n",
              " 'C62P23N_ThinF_IMG_20150818_132811_cell_191.png',\n",
              " 'C130P91ThinF_IMG_20151004_142109_cell_147.png',\n",
              " 'C80P41ThinF_IMG_20150817_110834_cell_128.png',\n",
              " 'C85P46ThinF_IMG_20150820_105748_cell_256.png',\n",
              " 'C59P20thinF_IMG_20150803_111333_cell_154.png',\n",
              " 'C101P62ThinF_IMG_20150918_151006_cell_65.png',\n",
              " 'C68P29N_ThinF_IMG_20150819_134326_cell_116.png',\n",
              " 'C68P29N_ThinF_IMG_20150819_134504_cell_120.png',\n",
              " 'C59P20thinF_IMG_20150803_113430_cell_10.png',\n",
              " 'C132P93ThinF_IMG_20151004_152642_cell_51.png',\n",
              " 'C176P137NThinF_IMG_20151201_120612_cell_18.png',\n",
              " 'C137P98ThinF_IMG_20151005_161306_cell_15.png',\n",
              " 'C39P4thinF_original_IMG_20150622_111206_cell_79.png',\n",
              " 'C176P137NThinF_IMG_20151201_120845_cell_130.png',\n",
              " 'C130P91ThinF_IMG_20151004_141504_cell_148.png',\n",
              " 'C137P98ThinF_IMG_20151005_155704_cell_57.png',\n",
              " 'C39P4thinF_original_IMG_20150622_110352_cell_90.png',\n",
              " 'C68P29N_ThinF_IMG_20150819_134504_cell_144.png',\n",
              " 'C182P143NThinF_IMG_20151201_171836_cell_147.png',\n",
              " 'C80P41ThinF_IMG_20150817_111246_cell_115.png',\n",
              " 'C176P137NThinF_IMG_20151201_121303_cell_107.png',\n",
              " 'C183P144NThinF_IMG_20151201_222119_cell_136.png',\n",
              " 'C130P91ThinF_IMG_20151004_141428_cell_125.png',\n",
              " 'C184P145ThinF_IMG_20151203_104334_cell_8.png',\n",
              " 'C68P29N_ThinF_IMG_20150819_134712_cell_14.png',\n",
              " 'C78P39ThinF_IMG_20150606_104936_cell_178.png',\n",
              " 'C132P93ThinF_IMG_20151004_152353_cell_136.png',\n",
              " 'C133P94ThinF_IMG_20151004_155912_cell_18.png',\n",
              " 'C70P31_ThinF_IMG_20150813_131609_cell_93.png',\n",
              " 'C132P93ThinF_IMG_20151004_152808_cell_48.png',\n",
              " 'C59P20thinF_IMG_20150803_113809_cell_12.png',\n",
              " 'C174P135NThinF_IMG_20151127_135435_cell_208.png',\n",
              " 'C129P90ThinF_IMG_20151004_133703_cell_93.png',\n",
              " 'C175P136NThinF_IMG_20151127_142009_cell_216.png',\n",
              " 'C182P143NThinF_IMG_20151201_171836_cell_179.png',\n",
              " 'C133P94ThinF_IMG_20151004_155721_cell_113.png',\n",
              " 'C99P60ThinF_IMG_20150918_141351_cell_124.png',\n",
              " 'C59P20thinF_IMG_20150803_115303_cell_25.png',\n",
              " 'C120P81ThinF_IMG_20151002_130150_cell_196.png',\n",
              " 'C82P43ThinF_IMG_20150817_124728_cell_4.png',\n",
              " 'C130P91ThinF_IMG_20151004_141428_cell_126.png',\n",
              " 'C169P130ThinF_IMG_20151119_144354_cell_274.png',\n",
              " 'C136P97ThinF_IMG_20151005_142627_cell_2.png',\n",
              " 'C60P21thinF_IMG_20150804_105034_cell_109.png',\n",
              " 'C137P98ThinF_IMG_20151005_161449_cell_4.png',\n",
              " 'C48P9thinF_IMG_20150721_161055_cell_194.png',\n",
              " 'C99P60ThinF_IMG_20150918_141857_cell_26.png',\n",
              " 'C60P21thinF_IMG_20150803_144629_cell_6.png',\n",
              " 'C118P79ThinF_IMG_20151002_105125_cell_160.png',\n",
              " 'C59P20thinF_IMG_20150803_112733_cell_222.png',\n",
              " 'C167P128ReThinF_IMG_20151201_110011_cell_230.png',\n",
              " 'C80P41ThinF_IMG_20150817_110608_cell_153.png',\n",
              " 'C120P81ThinF_IMG_20151002_125443_cell_148.png',\n",
              " 'C183P144NThinF_IMG_20151201_224107_cell_127.png',\n",
              " 'C172P133ThinF_IMG_20151119_155019_cell_244.png',\n",
              " 'C184P145ThinF_IMG_20151203_104153_cell_145.png',\n",
              " 'C39P4thinF_original_IMG_20150622_113446_cell_1.png',\n",
              " 'C59P20thinF_IMG_20150803_113809_cell_4.png',\n",
              " 'C91P52ThinF_IMG_20150821_124937_cell_198.png',\n",
              " 'C174P135NThinF_IMG_20151127_135342_cell_224.png',\n",
              " 'C131P92ThinF_IMG_20151004_151126_cell_124.png',\n",
              " 'C70P31_ThinF_IMG_20150819_141327_cell_78.png',\n",
              " 'C68P29N_ThinF_IMG_20150819_134504_cell_151.png',\n",
              " 'C140P101ThinF_IMG_20151005_210309_cell_187.png',\n",
              " 'C60P21thinF_IMG_20150804_113011_cell_3.png',\n",
              " 'C48P9thinF_IMG_20150721_164304_cell_11.png',\n",
              " 'C39P4thinF_original_IMG_20150622_111206_cell_110.png',\n",
              " 'C60P21thinF_IMG_20150804_105034_cell_119.png',\n",
              " 'C101P62ThinF_IMG_20150918_151149_cell_74.png',\n",
              " 'C182P143NThinF_IMG_20151201_172257_cell_149.png',\n",
              " 'C118P79ThinF_IMG_20151002_105827_cell_137.png',\n",
              " 'C62P23N_ThinF_IMG_20150818_133055_cell_187.png',\n",
              " 'C80P41ThinF_IMG_20150817_111544_cell_138.png',\n",
              " 'C158P119ThinF_IMG_20151115_181558_cell_196.png',\n",
              " 'C181P142ThinF_IMG_20151127_160434_cell_174.png',\n",
              " 'C39P4thinF_original_IMG_20150622_114609_cell_31.png',\n",
              " 'C118P79ThinF_IMG_20151002_110212_cell_2.png',\n",
              " 'C184P145ThinF_IMG_20151203_103637_cell_154.png',\n",
              " 'C132P93ThinF_IMG_20151004_151811_cell_151.png',\n",
              " 'C180P141NThinF_IMG_20151201_170021_cell_5.png',\n",
              " 'C39P4thinF_original_IMG_20150622_113842_cell_21.png',\n",
              " 'C118P79ThinF_IMG_20151002_110834_cell_150.png',\n",
              " 'C118P79ThinF_IMG_20151002_105735_cell_157.png',\n",
              " 'C101P62ThinF_IMG_20150918_155731_cell_63.png',\n",
              " 'C88P49ThinF_IMG_20150820_150141_cell_219.png',\n",
              " 'C82P43ThinF_IMG_20150817_124010_cell_195.png',\n",
              " 'C118P79ThinF_IMG_20151002_104831_cell_166.png',\n",
              " 'C120P81ThinF_IMG_20151002_130150_cell_205.png',\n",
              " 'C110P71ThinF_IMG_20150930_105559_cell_201.png',\n",
              " 'C99P60ThinF_IMG_20150918_141351_cell_125.png',\n",
              " 'C60P21thinF_IMG_20150804_105639_cell_3.png',\n",
              " 'C180P141NThinF_IMG_20151201_165453_cell_19.png',\n",
              " 'C99P60ThinF_IMG_20150918_141857_cell_7.png',\n",
              " 'C97P58ThinF_IMG_20150917_151903_cell_14.png',\n",
              " 'C78P39ThinF_IMG_20150606_104106_cell_174.png',\n",
              " 'C182P143NThinF_IMG_20151201_172216_cell_148.png',\n",
              " 'C48P9thinF_IMG_20150721_164031_cell_4.png',\n",
              " 'C59P20thinF_IMG_20150803_112858_cell_171.png',\n",
              " 'C39P4thinF_original_IMG_20150622_110435_cell_115.png',\n",
              " 'C137P98ThinF_IMG_20151005_161659_cell_3.png',\n",
              " 'C68P29N_ThinF_IMG_20150819_133447_cell_155.png',\n",
              " 'C96P57ThinF_IMG_20150824_112442_cell_195.png',\n",
              " 'C136P97ThinF_IMG_20151005_140538_cell_96.png',\n",
              " 'C181P142ThinF_IMG_20151127_155722_cell_177.png',\n",
              " 'C101P62ThinF_IMG_20150918_151335_cell_73.png',\n",
              " 'C48P9thinF_IMG_20150721_164129_cell_19.png',\n",
              " 'C70P31_ThinF_IMG_20150813_130510_cell_87.png',\n",
              " 'C59P20thinF_IMG_20150803_111333_cell_140.png',\n",
              " 'C80P41ThinF_IMG_20150817_111544_cell_139.png',\n",
              " 'C84P45ThinF_IMG_20150818_102654_cell_80.png',\n",
              " 'C70P31_ThinF_IMG_20150813_130332_cell_99.png',\n",
              " 'C68P29N_ThinF_IMG_20150819_133350_cell_178.png',\n",
              " 'C174P135NThinF_IMG_20151127_135342_cell_225.png',\n",
              " 'C97P58ThinF_IMG_20150917_151551_cell_170.png',\n",
              " 'C97P58ThinF_IMG_20150917_145555_cell_172.png',\n",
              " 'C169P130ThinF_IMG_20151118_173039_cell_250.png',\n",
              " 'C59P20thinF_IMG_20150803_111333_cell_142.png',\n",
              " 'C132P93ThinF_IMG_20151004_151733_cell_159.png',\n",
              " 'C181P142ThinF_IMG_20151127_160616_cell_170.png',\n",
              " 'C129P90ThinF_IMG_20151004_134700_cell_20.png',\n",
              " 'C45P6ThinF_IMG_20151130_155110_cell_196.png',\n",
              " 'C39P4thinF_original_IMG_20150622_113126_cell_4.png',\n",
              " 'C133P94ThinF_IMG_20151004_155144_cell_118.png',\n",
              " 'C182P143NThinF_IMG_20151201_171836_cell_176.png',\n",
              " 'C94P55ThinF_IMG_20150821_170403_cell_232.png',\n",
              " 'C137P98ThinF_IMG_20151005_163946_cell_13.png',\n",
              " 'C118P79ThinF_IMG_20151002_105125_cell_153.png',\n",
              " 'C39P4thinF_original_IMG_20150622_111326_cell_22.png',\n",
              " 'C135P96ThinF_IMG_20151005_123715_cell_164.png',\n",
              " 'C188P149ThinF_IMG_20151203_134319_cell_184.png',\n",
              " 'C115P76ThinF_IMG_20150930_162038_cell_207.png',\n",
              " 'C129P90ThinF_IMG_20151004_133703_cell_98.png',\n",
              " 'C118P79ThinF_IMG_20151002_104831_cell_149.png',\n",
              " 'C189P150ThinF_IMG_20151203_141615_cell_89.png',\n",
              " 'C113P74ThinF_IMG_20150930_134751_cell_180.png',\n",
              " 'C126P87ThinF_IMG_20151004_104651_cell_1.png',\n",
              " 'C56P17thinF_IMG_20150728_160256_cell_122.png',\n",
              " 'C91P52ThinF_IMG_20150821_125423_cell_12.png',\n",
              " 'C116P77ThinF_IMG_20150930_172112_cell_115.png',\n",
              " 'C91P52ThinF_IMG_20150821_123116_cell_182.png',\n",
              " 'C89P50ThinF_IMG_20150820_162504_cell_193.png',\n",
              " 'C99P60ThinF_IMG_20150918_141620_cell_50.png',\n",
              " 'C178P139NThinF_IMG_20151201_153246_cell_155.png',\n",
              " 'C157P118ThinF_IMG_20151115_163915_cell_174.png',\n",
              " 'C182P143NThinF_IMG_20151201_172057_cell_140.png',\n",
              " 'C39P4thinF_original_IMG_20150622_110435_cell_90.png',\n",
              " 'C137P98ThinF_IMG_20151005_162348_cell_9.png',\n",
              " 'C132P93ThinF_IMG_20151004_151701_cell_183.png',\n",
              " 'C48P9thinF_IMG_20150721_164304_cell_26.png',\n",
              " 'C99P60ThinF_IMG_20150918_141351_cell_110.png',\n",
              " 'C39P4thinF_original_IMG_20150622_111326_cell_4.png',\n",
              " 'C146P107ThinF_IMG_20151018_140439_cell_283.png',\n",
              " 'C101P62ThinF_IMG_20150918_151149_cell_85.png',\n",
              " 'C116P77ThinF_IMG_20150930_171219_cell_94.png',\n",
              " 'C97P58ThinF_IMG_20150917_150838_cell_164.png',\n",
              " 'C39P4thinF_original_IMG_20150622_110115_cell_136.png',\n",
              " 'C101P62ThinF_IMG_20150923_170246_cell_78.png',\n",
              " 'C136P97ThinF_IMG_20151005_142437_cell_131.png',\n",
              " 'C118P79ThinF_IMG_20151002_105827_cell_158.png',\n",
              " 'C48P9thinF_IMG_20150721_161412_cell_179.png',\n",
              " 'C78P39ThinF_IMG_20150606_104106_cell_173.png',\n",
              " 'C48P9thinF_IMG_20150721_161412_cell_193.png',\n",
              " 'C174P135NThinF_IMG_20151127_135554_cell_193.png',\n",
              " 'C184P145ThinF_IMG_20151203_102543_cell_151.png',\n",
              " 'C116P77ThinF_IMG_20150930_171558_cell_128.png',\n",
              " 'C60P21thinF_IMG_20150803_144003_cell_122.png',\n",
              " 'C120P81ThinF_IMG_20151002_131120_cell_186.png',\n",
              " 'C133P94ThinF_IMG_20151004_153930_cell_112.png',\n",
              " 'C39P4thinF_original_IMG_20150622_114804_cell_40.png',\n",
              " 'C80P41ThinF_IMG_20150817_110957_cell_134.png',\n",
              " 'C68P29N_ThinF_IMG_20150819_134830_cell_19.png',\n",
              " 'C129P90ThinF_IMG_20151004_133329_cell_97.png',\n",
              " 'C51AP12thinF_IMG_20150724_154330_cell_115.png',\n",
              " 'C62P23N_ThinF_IMG_20150818_133527_cell_197.png',\n",
              " 'C182P143NThinF_IMG_20151201_172524_cell_177.png',\n",
              " 'C116P77ThinF_IMG_20150930_172112_cell_113.png',\n",
              " 'C48P9thinF_IMG_20150721_164129_cell_13.png',\n",
              " 'C84P45ThinF_IMG_20150818_102009_cell_14.png',\n",
              " 'C136P97ThinF_IMG_20151005_141321_cell_97.png',\n",
              " 'C132P93ThinF_IMG_20151004_152045_cell_132.png',\n",
              " 'C107P68ThinF_IMG_20150924_222233_cell_153.png',\n",
              " 'C116P77ThinF_IMG_20150930_171809_cell_80.png',\n",
              " 'C177P138NThinF_IMG_20151201_143025_cell_179.png',\n",
              " 'C160P121ThinF_IMG_20151116_092925_cell_148.png',\n",
              " 'C70P31_ThinF_IMG_20150813_131457_cell_14.png',\n",
              " 'C180P141NThinF_IMG_20151201_165453_cell_3.png',\n",
              " 'C179P140ThinF_IMG_20151127_153420_cell_176.png',\n",
              " 'C80P41ThinF_IMG_20150817_110348_cell_118.png',\n",
              " 'C99P60ThinF_IMG_20150918_142128_cell_82.png',\n",
              " 'C60P21thinF_IMG_20150804_113602_cell_119.png',\n",
              " 'C84P45ThinF_IMG_20150818_104849_cell_25.png',\n",
              " 'C140P101ThinF_IMG_20151005_210207_cell_171.png',\n",
              " 'C59P20thinF_IMG_20150803_113430_cell_15.png',\n",
              " 'C182P143NThinF_IMG_20151201_172759_cell_13.png',\n",
              " 'C48P9thinF_IMG_20150721_161243_cell_150.png',\n",
              " 'C189P150ThinF_IMG_20151203_142224_cell_91.png',\n",
              " 'C182P143NThinF_IMG_20151201_172524_cell_171.png',\n",
              " 'C179P140ThinF_IMG_20151127_153350_cell_182.png',\n",
              " 'C45P6ThinF_IMG_20151130_160409_cell_194.png',\n",
              " 'C140P101ThinF_IMG_20151005_211735_cell_160.png',\n",
              " 'C99P60ThinF_IMG_20150918_141520_cell_136.png',\n",
              " 'C118P79ThinF_IMG_20151002_105125_cell_148.png',\n",
              " 'C68P29N_ThinF_IMG_20150819_133236_cell_174.png',\n",
              " 'C76P37ThinF_IMG_20150815_173019_cell_240.png',\n",
              " 'C60P21thinF_IMG_20150804_113602_cell_120.png',\n",
              " 'C176P137NThinF_IMG_20151201_121808_cell_128.png',\n",
              " 'C184P145ThinF_IMG_20151203_102543_cell_155.png',\n",
              " 'C182P143NThinF_IMG_20151201_172057_cell_169.png',\n",
              " 'C184P145ThinF_IMG_20151203_102721_cell_12.png',\n",
              " 'C116P77ThinF_IMG_20150930_171739_cell_112.png',\n",
              " 'C68P29N_ThinF_IMG_20150819_134625_cell_16.png',\n",
              " 'C132P93ThinF_IMG_20151004_152045_cell_123.png',\n",
              " 'C179P140ThinF_IMG_20151127_153819_cell_174.png',\n",
              " 'C68P29N_ThinF_IMG_20150819_134326_cell_150.png',\n",
              " 'C46P7ThinF_IMG_20151130_210123_cell_123.png',\n",
              " 'C133P94ThinF_IMG_20151004_154351_cell_98.png',\n",
              " 'C118P79ThinF_IMG_20151002_104831_cell_144.png',\n",
              " 'C129P90ThinF_IMG_20151004_133538_cell_80.png',\n",
              " 'C91P52ThinF_IMG_20150821_124311_cell_14.png',\n",
              " 'C116P77ThinF_IMG_20150930_171219_cell_80.png',\n",
              " 'C183P144NThinF_IMG_20151201_224107_cell_126.png',\n",
              " 'C39P4thinF_original_IMG_20150622_111723_cell_92.png',\n",
              " 'C132P93ThinF_IMG_20151004_151701_cell_145.png',\n",
              " 'C176P137NThinF_IMG_20151201_121808_cell_134.png',\n",
              " 'C48P9thinF_IMG_20150721_161243_cell_149.png',\n",
              " 'C137P98ThinF_IMG_20151005_162648_cell_5.png',\n",
              " 'C141P102ThinF_IMG_20151005_214836_cell_148.png',\n",
              " 'C176P137NThinF_IMG_20151201_121030_cell_18.png',\n",
              " 'C54P15thinF_IMG_20150728_105949_cell_241.png',\n",
              " 'C65P26N_ThinF_IMG_20150818_154714_cell_188.png',\n",
              " 'C59P20thinF_IMG_20150803_113809_cell_29.png',\n",
              " 'C116P77ThinF_IMG_20150930_171635_cell_95.png',\n",
              " 'C99P60ThinF_IMG_20150918_141857_cell_2.png',\n",
              " 'C91P52ThinF_IMG_20150821_123116_cell_191.png',\n",
              " 'C184P145ThinF_IMG_20151203_102543_cell_178.png',\n",
              " 'C176P137NThinF_IMG_20151201_121030_cell_15.png',\n",
              " 'C129P90ThinF_IMG_20151004_133329_cell_109.png',\n",
              " 'C117P78ThinF_IMG_20150930_221048_cell_103.png',\n",
              " 'C184P145ThinF_IMG_20151203_104030_cell_40.png',\n",
              " 'C80P41ThinF_IMG_20150817_112329_cell_5.png',\n",
              " 'C102P63ThinF_IMG_20150918_161508_cell_193.png',\n",
              " 'C128P89ThinF_IMG_20151004_131753_cell_127.png',\n",
              " 'C97P58ThinF_IMG_20150917_150838_cell_146.png',\n",
              " 'C128P89ThinF_IMG_20151004_131231_cell_156.png',\n",
              " 'C88P49ThinF_IMG_20150820_151451_cell_206.png',\n",
              " 'C51AP12thinF_IMG_20150724_155557_cell_78.png',\n",
              " 'C59P20thinF_IMG_20150803_112802_cell_192.png',\n",
              " 'C59P20thinF_IMG_20150803_113430_cell_21.png',\n",
              " 'C159P120ThinF_IMG_20151115_191301_cell_230.png',\n",
              " 'C60P21thinF_IMG_20150804_105639_cell_7.png',\n",
              " 'C133P94ThinF_IMG_20151004_155912_cell_6.png',\n",
              " 'C175P136NThinF_IMG_20151127_141325_cell_230.png',\n",
              " 'C147P108ThinF_IMG_20151115_092605_cell_224.png',\n",
              " 'C137P98ThinF_IMG_20151005_160256_cell_68.png',\n",
              " 'C59P20thinF_IMG_20150803_113051_cell_169.png',\n",
              " 'C91P52ThinF_IMG_20150821_124504_cell_192.png',\n",
              " 'C128P89ThinF_IMG_20151004_131129_cell_162.png',\n",
              " 'C133P94ThinF_IMG_20151004_155912_cell_1.png',\n",
              " 'C59P20thinF_IMG_20150803_112802_cell_180.png',\n",
              " 'C60P21thinF_IMG_20150804_105639_cell_12.png',\n",
              " 'C58P19thinF_IMG_20150802_122338_cell_166.png',\n",
              " 'C132P93ThinF_IMG_20151004_153030_cell_14.png',\n",
              " 'C68P29N_ThinF_IMG_20150819_133236_cell_172.png',\n",
              " 'C132P93ThinF_IMG_20151004_152257_cell_146.png',\n",
              " 'C39P4thinF_original_IMG_20150622_110900_cell_12.png',\n",
              " 'C39P4thinF_original_IMG_20150622_113632_cell_20.png',\n",
              " 'C182P143NThinF_IMG_20151201_171905_cell_143.png',\n",
              " 'C48P9thinF_IMG_20150721_161055_cell_169.png',\n",
              " 'C133P94ThinF_IMG_20151004_154919_cell_121.png',\n",
              " 'C116P77ThinF_IMG_20150930_171635_cell_83.png',\n",
              " 'C84P45ThinF_IMG_20150818_102325_cell_101.png',\n",
              " 'C103P64ThinF_IMG_20150918_165510_cell_181.png',\n",
              " 'C128P89ThinF_IMG_20151004_130810_cell_154.png',\n",
              " 'C184P145ThinF_IMG_20151203_104334_cell_21.png',\n",
              " 'C182P143NThinF_IMG_20151201_172216_cell_138.png',\n",
              " 'C182P143NThinF_IMG_20151201_172759_cell_2.png',\n",
              " 'C129P90ThinF_IMG_20151004_134306_cell_124.png',\n",
              " 'C132P93ThinF_IMG_20151004_151733_cell_146.png',\n",
              " 'C119P80ThinF_IMG_20151002_124345_cell_165.png',\n",
              " 'C176P137NThinF_IMG_20151201_114035_cell_126.png',\n",
              " 'C114P75ThinF_IMG_20150930_150145_cell_160.png',\n",
              " 'C39P4thinF_original_IMG_20150622_110115_cell_126.png',\n",
              " 'C182P143NThinF_IMG_20151201_172759_cell_31.png',\n",
              " 'C118P79ThinF_IMG_20151002_110002_cell_20.png',\n",
              " 'C119P80ThinF_IMG_20151002_124345_cell_156.png',\n",
              " 'C67P28N_ThinF_IMG_20150819_121456_cell_255.png',\n",
              " 'C117P78ThinF_IMG_20150930_222228_cell_85.png',\n",
              " 'C129P90ThinF_IMG_20151004_133421_cell_101.png',\n",
              " 'C144P105ThinF_IMG_20151015_155004_cell_305.png',\n",
              " 'C135P96ThinF_IMG_20151005_123857_cell_160.png',\n",
              " 'C82P43ThinF_IMG_20150817_125114_cell_6.png',\n",
              " 'C182P143NThinF_IMG_20151201_172759_cell_51.png',\n",
              " 'C59P20thinF_IMG_20150803_113051_cell_193.png',\n",
              " 'C132P93ThinF_IMG_20151004_152505_cell_115.png',\n",
              " 'C39P4thinF_original_IMG_20150622_110352_cell_111.png',\n",
              " 'C177P138NThinF_IMG_20151201_143704_cell_178.png',\n",
              " 'C129P90ThinF_IMG_20151004_133244_cell_96.png',\n",
              " 'C132P93ThinF_IMG_20151004_152808_cell_57.png',\n",
              " 'C137P98ThinF_IMG_20151005_155444_cell_95.png',\n",
              " 'C48P9thinF_IMG_20150721_161055_cell_187.png',\n",
              " 'C144P105ThinF_IMG_20151015_160529_cell_271.png',\n",
              " 'C99P60ThinF_IMG_20150918_141620_cell_24.png',\n",
              " 'C99P60ThinF_IMG_20150918_140900_cell_146.png',\n",
              " 'C66P27N_ThinF_IMG_20150818_164754_cell_195.png',\n",
              " 'C182P143NThinF_IMG_20151201_172216_cell_131.png',\n",
              " 'C56P17thinF_IMG_20150728_153413_cell_114.png',\n",
              " 'C145P106ThinF_IMG_20151016_155121_cell_192.png',\n",
              " 'C132P93ThinF_IMG_20151004_152808_cell_42.png',\n",
              " 'C182P143NThinF_IMG_20151201_171905_cell_185.png',\n",
              " 'C66P27N_ThinF_IMG_20150818_163419_cell_210.png',\n",
              " 'C180P141NThinF_IMG_20151201_163751_cell_150.png',\n",
              " 'C103P64ThinF_IMG_20150918_164553_cell_167.png',\n",
              " 'C76P37ThinF_IMG_20150815_171454_cell_248.png',\n",
              " 'C118P79ThinF_IMG_20151002_110002_cell_17.png',\n",
              " 'C132P93ThinF_IMG_20151004_152808_cell_30.png',\n",
              " 'C82P43ThinF_IMG_20150817_124010_cell_186.png',\n",
              " 'C93P54ThinF_IMG_20150821_163815_cell_215.png',\n",
              " 'C179P140ThinF_IMG_20151127_153453_cell_181.png',\n",
              " 'C137P98ThinF_IMG_20151005_160918_cell_64.png',\n",
              " 'C101P62ThinF_IMG_20150923_170246_cell_79.png',\n",
              " 'C181P142ThinF_IMG_20151127_155914_cell_160.png',\n",
              " 'C91P52ThinF_IMG_20150821_124937_cell_216.png',\n",
              " 'C59P20thinF_IMG_20150803_112802_cell_157.png',\n",
              " 'C144P105ThinF_IMG_20151015_160529_cell_277.png',\n",
              " 'C137P98ThinF_IMG_20151005_163335_cell_12.png',\n",
              " 'C180P141NThinF_IMG_20151201_165659_cell_43.png',\n",
              " 'C132P93ThinF_IMG_20151004_151701_cell_172.png',\n",
              " 'C39P4thinF_original_IMG_20150622_105335_cell_2.png',\n",
              " 'C97P58ThinF_IMG_20150917_152225_cell_22.png',\n",
              " 'C99P60ThinF_IMG_20150918_141001_cell_147.png',\n",
              " 'C91P52ThinF_IMG_20150821_124739_cell_190.png',\n",
              " 'C89P50ThinF_IMG_20150820_162504_cell_191.png',\n",
              " 'C182P143NThinF_IMG_20151201_172759_cell_30.png',\n",
              " 'C134P95ThinF_IMG_20151005_121554_cell_122.png',\n",
              " 'C180P141NThinF_IMG_20151201_165601_cell_185.png',\n",
              " 'C45P6ThinF_IMG_20151130_155110_cell_199.png',\n",
              " 'C172P133ThinF_IMG_20151119_155343_cell_267.png',\n",
              " 'C176P137NThinF_IMG_20151201_120612_cell_5.png',\n",
              " 'C82P43ThinF_IMG_20150817_123652_cell_217.png',\n",
              " 'C68P29N_ThinF_IMG_20150819_133236_cell_153.png',\n",
              " 'C59P20thinF_IMG_20150803_112802_cell_173.png',\n",
              " 'C68P29N_ThinF_IMG_20150819_134112_cell_161.png',\n",
              " 'C103P64ThinF_IMG_20150918_165125_cell_164.png',\n",
              " 'C100P61ThinF_IMG_20150918_145609_cell_146.png',\n",
              " 'C66P27N_ThinF_IMG_20150818_164408_cell_156.png',\n",
              " 'C133P94ThinF_IMG_20151004_154158_cell_118.png',\n",
              " 'C99P60ThinF_IMG_20150918_141520_cell_133.png',\n",
              " 'C59P20thinF_IMG_20150803_113430_cell_26.png',\n",
              " 'C124P85ThinF_IMG_20151002_154846_cell_148.png',\n",
              " 'C133P94ThinF_IMG_20151004_155721_cell_122.png',\n",
              " 'C59P20thinF_IMG_20150803_111244_cell_199.png',\n",
              " 'C133P94ThinF_IMG_20151004_154717_cell_129.png',\n",
              " 'C176P137NThinF_IMG_20151201_122708_cell_145.png',\n",
              " 'C175P136NThinF_IMG_20151127_141428_cell_222.png',\n",
              " 'C99P60ThinF_IMG_20150918_140900_cell_137.png',\n",
              " 'C116P77ThinF_IMG_20150930_171954_cell_90.png',\n",
              " 'C182P143NThinF_IMG_20151201_171905_cell_171.png',\n",
              " 'C172P133ThinF_IMG_20151119_155343_cell_276.png',\n",
              " 'C129P90ThinF_IMG_20151004_134306_cell_140.png',\n",
              " 'C49P10thinF_IMG_20150724_102330_cell_231.png',\n",
              " 'C82P43ThinF_IMG_20150817_123500_cell_234.png',\n",
              " 'C78P39ThinF_IMG_20150606_103413_cell_166.png',\n",
              " 'C97P58ThinF_IMG_20150917_150838_cell_150.png',\n",
              " 'C167P128ReThinF_IMG_20151201_110011_cell_231.png',\n",
              " 'C99P60ThinF_IMG_20150918_141314_cell_120.png',\n",
              " 'C91P52ThinF_IMG_20150821_125154_cell_207.png',\n",
              " 'C120P81ThinF_IMG_20151002_125443_cell_143.png',\n",
              " 'C136P97ThinF_IMG_20151005_141321_cell_92.png',\n",
              " 'C180P141NThinF_IMG_20151201_165528_cell_184.png',\n",
              " 'C137P98ThinF_IMG_20151005_160918_cell_83.png',\n",
              " 'C132P93ThinF_IMG_20151004_151941_cell_52.png',\n",
              " 'C140P101ThinF_IMG_20151005_210207_cell_164.png',\n",
              " 'C99P60ThinF_IMG_20150918_141351_cell_135.png',\n",
              " 'C70P31_ThinF_IMG_20150813_131708_cell_3.png',\n",
              " 'C101P62ThinF_IMG_20150918_151335_cell_74.png',\n",
              " 'C46P7ThinF_IMG_20151130_210843_cell_145.png',\n",
              " 'C63P24N_ThinF_IMG_20150818_143423_cell_165.png',\n",
              " 'C113P74ThinF_IMG_20150930_135904_cell_182.png',\n",
              " 'C66P27N_ThinF_IMG_20150818_163419_cell_209.png',\n",
              " 'C84P45ThinF_IMG_20150818_102800_cell_20.png',\n",
              " 'C157P118ThinF_IMG_20151115_164755_cell_187.png',\n",
              " 'C182P143NThinF_IMG_20151201_172257_cell_187.png',\n",
              " 'C132P93ThinF_IMG_20151004_152808_cell_54.png',\n",
              " 'C132P93ThinF_IMG_20151004_152257_cell_121.png',\n",
              " 'C187P148NThinF_IMG_20151203_154249_cell_136.png',\n",
              " 'C132P93ThinF_IMG_20151004_151811_cell_141.png',\n",
              " 'C99P60ThinF_IMG_20150918_141857_cell_37.png',\n",
              " 'C39P4thinF_original_IMG_20150622_105253_cell_96.png',\n",
              " 'C129P90ThinF_IMG_20151004_134700_cell_33.png',\n",
              " 'C39P4thinF_original_IMG_20150622_105803_cell_89.png',\n",
              " 'C39P4thinF_original_IMG_20150622_114804_cell_5.png',\n",
              " 'C99P60ThinF_IMG_20150918_141001_cell_129.png',\n",
              " 'C136P97ThinF_IMG_20151005_142627_cell_4.png',\n",
              " 'C136P97ThinF_IMG_20151005_144449_cell_17.png',\n",
              " 'C111P72ThinF_IMG_20150930_113049_cell_162.png',\n",
              " 'C68P29N_ThinF_IMG_20150819_134504_cell_158.png',\n",
              " 'C91P52ThinF_IMG_20150821_124311_cell_21.png',\n",
              " 'C132P93ThinF_IMG_20151004_153030_cell_42.png',\n",
              " 'C130P91ThinF_IMG_20151004_135449_cell_131.png',\n",
              " 'C129P90ThinF_IMG_20151004_133538_cell_87.png',\n",
              " 'C176P137NThinF_IMG_20151201_122811_cell_146.png',\n",
              " 'C93P54ThinF_IMG_20150821_164024_cell_208.png',\n",
              " 'C147P108ThinF_IMG_20151115_101317_cell_192.png',\n",
              " 'C70P31_ThinF_IMG_20150813_131609_cell_100.png',\n",
              " 'C59P20thinF_IMG_20150803_113139_cell_4.png',\n",
              " 'C184P145ThinF_IMG_20151203_104153_cell_151.png',\n",
              " 'C183P144NThinF_IMG_20151201_222917_cell_154.png',\n",
              " 'C158P119ThinF_IMG_20151115_181558_cell_199.png',\n",
              " 'C82P43ThinF_IMG_20150817_124010_cell_202.png',\n",
              " 'C99P60ThinF_IMG_20150918_141001_cell_104.png',\n",
              " 'C180P141NThinF_IMG_20151201_165453_cell_52.png',\n",
              " 'C99P60ThinF_IMG_20150918_141314_cell_104.png',\n",
              " 'C118P79ThinF_IMG_20151002_105125_cell_147.png',\n",
              " 'C175P136NThinF_IMG_20151127_141428_cell_230.png',\n",
              " 'C59P20thinF_IMG_20150803_113430_cell_27.png',\n",
              " 'C136P97ThinF_IMG_20151005_140646_cell_108.png',\n",
              " 'C107P68ThinF_IMG_20150924_222415_cell_173.png',\n",
              " 'C59P20thinF_IMG_20150803_113139_cell_36.png',\n",
              " 'C181P142ThinF_IMG_20151127_160539_cell_199.png',\n",
              " 'C145P106ThinF_IMG_20151016_155121_cell_195.png',\n",
              " 'C130P91ThinF_IMG_20151004_142109_cell_146.png',\n",
              " 'C182P143NThinF_IMG_20151201_172257_cell_198.png',\n",
              " 'C172P133ThinF_IMG_20151119_154936_cell_262.png',\n",
              " 'C68P29N_ThinF_IMG_20150819_133350_cell_128.png',\n",
              " 'C182P143NThinF_IMG_20151201_172524_cell_203.png',\n",
              " 'C101P62ThinF_IMG_20150923_170246_cell_70.png',\n",
              " 'C182P143NThinF_IMG_20151201_171950_cell_183.png',\n",
              " 'C91P52ThinF_IMG_20150821_123314_cell_197.png',\n",
              " 'C184P145ThinF_IMG_20151203_104440_cell_23.png',\n",
              " 'C170P131ThinF_IMG_20151119_115918_cell_272.png',\n",
              " 'C183P144NThinF_IMG_20151201_222119_cell_131.png',\n",
              " 'C180P141NThinF_IMG_20151201_165453_cell_44.png',\n",
              " 'C112P73ThinF_IMG_20150930_131605_cell_183.png',\n",
              " 'C158P119ThinF_IMG_20151115_181859_cell_196.png',\n",
              " 'C181P142ThinF_IMG_20151127_160650_cell_184.png',\n",
              " 'C136P97ThinF_IMG_20151005_143743_cell_125.png',\n",
              " 'C136P97ThinF_IMG_20151005_140538_cell_103.png',\n",
              " 'C116P77ThinF_IMG_20150930_171635_cell_76.png',\n",
              " 'C116P77ThinF_IMG_20150930_171844_cell_122.png',\n",
              " 'C180P141NThinF_IMG_20151201_165528_cell_177.png',\n",
              " 'C134P95ThinF_IMG_20151005_121952_cell_122.png',\n",
              " 'C99P60ThinF_IMG_20150918_141520_cell_111.png',\n",
              " 'C66P27N_ThinF_IMG_20150818_164408_cell_152.png',\n",
              " 'C180P141NThinF_IMG_20151201_165423_cell_155.png',\n",
              " 'C68P29N_ThinF_IMG_20150819_134625_cell_55.png',\n",
              " 'C93P54ThinF_IMG_20150821_162641_cell_223.png',\n",
              " 'C168P129ThinF_IMG_20151118_160516_cell_177.png',\n",
              " 'C68P29N_ThinF_IMG_20150819_133236_cell_202.png',\n",
              " 'C97P58ThinF_IMG_20150917_145555_cell_176.png',\n",
              " 'C184P145ThinF_IMG_20151203_103326_cell_136.png',\n",
              " 'C82P43ThinF_IMG_20150817_123500_cell_227.png',\n",
              " 'C132P93ThinF_IMG_20151004_151701_cell_152.png',\n",
              " 'C99P60ThinF_IMG_20150918_141857_cell_25.png',\n",
              " 'C48P9thinF_IMG_20150721_164031_cell_25.png',\n",
              " 'C70P31_ThinF_IMG_20150819_142703_cell_20.png',\n",
              " 'C89P50ThinF_IMG_20150820_163347_cell_204.png',\n",
              " 'C68P29N_ThinF_IMG_20150819_134326_cell_138.png',\n",
              " 'C59P20thinF_IMG_20150803_111244_cell_181.png',\n",
              " 'C99P60ThinF_IMG_20150918_141001_cell_101.png',\n",
              " 'C132P93ThinF_IMG_20151004_152045_cell_153.png',\n",
              " 'C84P45ThinF_IMG_20150818_104849_cell_5.png',\n",
              " 'C184P145ThinF_IMG_20151203_104334_cell_48.png',\n",
              " 'C129P90ThinF_IMG_20151004_133421_cell_98.png',\n",
              " 'C183P144NThinF_IMG_20151201_223208_cell_116.png',\n",
              " 'C70P31_ThinF_IMG_20150813_131022_cell_92.png',\n",
              " 'C99P60ThinF_IMG_20150918_141351_cell_100.png',\n",
              " 'C84P45ThinF_IMG_20150818_101257_cell_84.png',\n",
              " 'C180P141NThinF_IMG_20151201_170021_cell_13.png',\n",
              " 'C184P145ThinF_IMG_20151203_104440_cell_24.png',\n",
              " 'C39P4thinF_original_IMG_20150622_111723_cell_98.png',\n",
              " 'C154P115ThinF_IMG_20151115_141407_cell_228.png',\n",
              " 'C154P115ThinF_IMG_20151115_141407_cell_225.png',\n",
              " 'C182P143NThinF_IMG_20151201_171950_cell_176.png',\n",
              " 'C132P93ThinF_IMG_20151004_151701_cell_163.png',\n",
              " 'C91P52ThinF_IMG_20150821_124311_cell_34.png',\n",
              " 'C137P98ThinF_IMG_20151005_162348_cell_5.png',\n",
              " 'C184P145ThinF_IMG_20151203_102543_cell_168.png',\n",
              " 'C133P94ThinF_IMG_20151004_154512_cell_131.png',\n",
              " 'C114P75ThinF_IMG_20150930_150013_cell_196.png',\n",
              " 'C119P80ThinF_IMG_20151002_122720_cell_169.png',\n",
              " 'C93P54ThinF_IMG_20150821_163640_cell_207.png',\n",
              " 'C59P20thinF_IMG_20150803_113430_cell_35.png',\n",
              " 'C186P147NThinF_IMG_20151203_150222_cell_173.png',\n",
              " 'C48P9thinF_IMG_20150721_164304_cell_21.png',\n",
              " 'C99P60ThinF_IMG_20150918_141129_cell_155.png',\n",
              " 'C82P43ThinF_IMG_20150817_124010_cell_201.png',\n",
              " 'C59P20thinF_IMG_20150803_112733_cell_165.png',\n",
              " 'C49P10thinF_IMG_20150724_102843_cell_184.png',\n",
              " 'C119P80ThinF_IMG_20151002_123608_cell_145.png',\n",
              " 'C39P4thinF_original_IMG_20150622_113632_cell_13.png',\n",
              " 'C129P90ThinF_IMG_20151004_134944_cell_4.png',\n",
              " 'C129P90ThinF_IMG_20151004_133538_cell_104.png',\n",
              " 'C99P60ThinF_IMG_20150918_141520_cell_94.png',\n",
              " 'C184P145ThinF_IMG_20151203_104153_cell_157.png',\n",
              " 'C133P94ThinF_IMG_20151004_155518_cell_107.png',\n",
              " 'C48P9thinF_IMG_20150721_162732_cell_21.png',\n",
              " 'C70P31_ThinF_IMG_20150813_131330_cell_97.png',\n",
              " 'C120P81ThinF_IMG_20151002_130918_cell_204.png',\n",
              " 'C70P31_ThinF_IMG_20150819_141327_cell_74.png',\n",
              " 'C184P145ThinF_IMG_20151203_103114_cell_173.png',\n",
              " 'C181P142ThinF_IMG_20151127_160434_cell_176.png',\n",
              " 'C39P4thinF_original_IMG_20150622_114609_cell_17.png',\n",
              " 'C189P150ThinF_IMG_20151203_142113_cell_89.png',\n",
              " 'C59P20thinF_IMG_20150803_111244_cell_190.png',\n",
              " 'C107P68ThinF_IMG_20150924_222535_cell_145.png',\n",
              " 'C51AP12thinF_IMG_20150724_162636_cell_95.png',\n",
              " 'C91P52ThinF_IMG_20150821_125423_cell_14.png',\n",
              " 'C140P101ThinF_IMG_20151005_210026_cell_169.png',\n",
              " 'C82P43ThinF_IMG_20150817_124418_cell_178.png',\n",
              " 'C137P98ThinF_IMG_20151005_163218_cell_81.png',\n",
              " 'C137P98ThinF_IMG_20151005_160122_cell_68.png',\n",
              " 'C48P9thinF_IMG_20150721_162732_cell_6.png',\n",
              " 'C70P31_ThinF_IMG_20150819_141730_cell_106.png',\n",
              " 'C118P79ThinF_IMG_20151002_110942_cell_13.png',\n",
              " 'C84P45ThinF_IMG_20150818_101146_cell_103.png',\n",
              " 'C189P150ThinF_IMG_20151203_141004_cell_79.png',\n",
              " 'C80P41ThinF_IMG_20150817_110608_cell_155.png',\n",
              " 'C184P145ThinF_IMG_20151203_103637_cell_186.png',\n",
              " 'C97P58ThinF_IMG_20150917_152032_cell_155.png',\n",
              " 'C180P141NThinF_IMG_20151201_165453_cell_23.png',\n",
              " 'C59P20thinF_IMG_20150803_113809_cell_25.png',\n",
              " 'C116P77ThinF_IMG_20150930_171844_cell_94.png',\n",
              " 'C48P9thinF_IMG_20150721_164031_cell_8.png',\n",
              " 'C136P97ThinF_IMG_20151005_143743_cell_110.png',\n",
              " 'C82P43ThinF_IMG_20150817_123500_cell_237.png',\n",
              " 'C111P72ThinF_IMG_20150930_113003_cell_182.png',\n",
              " 'C182P143NThinF_IMG_20151201_172216_cell_176.png',\n",
              " 'C68P29N_ThinF_IMG_20150819_134326_cell_144.png',\n",
              " 'C183P144NThinF_IMG_20151201_223431_cell_104.png',\n",
              " 'C144P105ThinF_IMG_20151015_160529_cell_269.png',\n",
              " 'C187P148NThinF_IMG_20151203_153410_cell_149.png',\n",
              " 'C187P148NThinF_IMG_20151203_154503_cell_156.png',\n",
              " 'C39P4thinF_original_IMG_20150622_105335_cell_12.png',\n",
              " 'C82P43ThinF_IMG_20150817_123824_cell_189.png',\n",
              " 'C181P142ThinF_IMG_20151127_160650_cell_181.png',\n",
              " 'C101P62ThinF_IMG_20150918_151006_cell_70.png',\n",
              " 'C68P29N_ThinF_IMG_20150819_134504_cell_106.png',\n",
              " 'C186P147NThinF_IMG_20151203_150322_cell_158.png',\n",
              " 'C116P77ThinF_IMG_20150930_171219_cell_98.png',\n",
              " 'C132P93ThinF_IMG_20151004_152045_cell_117.png',\n",
              " 'C113P74ThinF_IMG_20150930_134355_cell_171.png',\n",
              " 'C68P29N_ThinF_IMG_20150819_133350_cell_146.png',\n",
              " 'C133P94ThinF_IMG_20151004_155518_cell_110.png',\n",
              " 'C54P15thinF_IMG_20150728_112832_cell_251.png',\n",
              " 'C99P60ThinF_IMG_20150918_141314_cell_95.png',\n",
              " 'C179P140ThinF_IMG_20151127_153420_cell_169.png',\n",
              " 'C48P9thinF_IMG_20150721_164304_cell_28.png',\n",
              " 'C84P45ThinF_IMG_20150818_104849_cell_26.png',\n",
              " 'C68P29N_ThinF_IMG_20150819_134625_cell_18.png',\n",
              " 'C178P139NThinF_IMG_20151201_154524_cell_158.png',\n",
              " 'C91P52ThinF_IMG_20150821_125423_cell_16.png',\n",
              " 'C116P77ThinF_IMG_20150930_172112_cell_71.png',\n",
              " 'C136P97ThinF_IMG_20151005_140538_cell_110.png',\n",
              " 'C180P141NThinF_IMG_20151201_170110_cell_12.png',\n",
              " 'C120P81ThinF_IMG_20151002_125443_cell_142.png',\n",
              " 'C101P62ThinF_IMG_20150923_170344_cell_90.png',\n",
              " 'C181P142ThinF_IMG_20151127_160539_cell_185.png',\n",
              " 'C182P143NThinF_IMG_20151201_171950_cell_215.png',\n",
              " 'C189P150ThinF_IMG_20151203_142113_cell_82.png',\n",
              " 'C182P143NThinF_IMG_20151201_171905_cell_147.png',\n",
              " 'C59P20thinF_IMG_20150803_112802_cell_152.png',\n",
              " 'C137P98ThinF_IMG_20151005_163251_cell_78.png',\n",
              " 'C68P29N_ThinF_IMG_20150819_134712_cell_76.png',\n",
              " 'C184P145ThinF_IMG_20151203_103326_cell_140.png',\n",
              " 'C164P125ThinF_IMG_20151116_115650_cell_163.png',\n",
              " 'C39P4thinF_original_IMG_20150622_114804_cell_7.png',\n",
              " 'C180P141NThinF_IMG_20151201_165528_cell_174.png',\n",
              " 'C76P37ThinF_IMG_20150815_172808_cell_216.png',\n",
              " 'C118P79ThinF_IMG_20151002_105827_cell_149.png',\n",
              " 'C176P137NThinF_IMG_20151201_114035_cell_131.png',\n",
              " 'C120P81ThinF_IMG_20151002_130918_cell_213.png',\n",
              " 'C82P43ThinF_IMG_20150817_123500_cell_229.png',\n",
              " 'C68P29N_ThinF_IMG_20150819_133350_cell_190.png',\n",
              " 'C189P150ThinF_IMG_20151203_141110_cell_75.png',\n",
              " 'C131P92ThinF_IMG_20151004_145224_cell_137.png',\n",
              " 'C184P145ThinF_IMG_20151203_104153_cell_187.png',\n",
              " 'C117P78ThinF_IMG_20150930_214317_cell_103.png',\n",
              " 'C39P4thinF_original_IMG_20150622_105335_cell_17.png',\n",
              " 'C182P143NThinF_IMG_20151201_172216_cell_132.png',\n",
              " 'C137P98ThinF_IMG_20151005_160122_cell_66.png',\n",
              " 'C176P137NThinF_IMG_20151201_122444_cell_119.png',\n",
              " 'C33P1thinF_IMG_20150619_121300a_cell_156.png',\n",
              " 'C159P120ThinF_IMG_20151115_185541_cell_180.png',\n",
              " 'C48P9thinF_IMG_20150721_161412_cell_183.png',\n",
              " 'C116P77ThinF_IMG_20150930_171809_cell_75.png',\n",
              " 'C91P52ThinF_IMG_20150821_124739_cell_171.png',\n",
              " 'C99P60ThinF_IMG_20150918_141129_cell_141.png',\n",
              " 'C137P98ThinF_IMG_20151005_163218_cell_89.png',\n",
              " 'C148P109ThinF_IMG_20151115_112855_cell_256.png',\n",
              " 'C179P140ThinF_IMG_20151127_153420_cell_173.png',\n",
              " 'C128P89ThinF_IMG_20151004_131231_cell_147.png',\n",
              " 'C68P29N_ThinF_IMG_20150819_134504_cell_116.png',\n",
              " 'C68P29N_ThinF_IMG_20150819_133350_cell_167.png',\n",
              " 'C116P77ThinF_IMG_20150930_171809_cell_68.png',\n",
              " 'C133P94ThinF_IMG_20151004_153930_cell_102.png',\n",
              " 'C117P78ThinF_IMG_20150930_214941_cell_82.png',\n",
              " 'C68P29N_ThinF_IMG_20150819_133350_cell_187.png',\n",
              " 'C180P141NThinF_IMG_20151201_164714_cell_184.png',\n",
              " 'C70P31_ThinF_IMG_20150819_141403_cell_98.png',\n",
              " 'C157P118ThinF_IMG_20151115_164141_cell_204.png',\n",
              " 'C183P144NThinF_IMG_20151201_223431_cell_99.png',\n",
              " 'C106P67ThinF_IMG_20150924_103811_cell_183.png',\n",
              " 'C76P37ThinF_IMG_20150815_173019_cell_229.png',\n",
              " 'C116P77ThinF_IMG_20150930_172112_cell_94.png',\n",
              " ...]"
            ]
          },
          "metadata": {},
          "execution_count": 13
        }
      ],
      "source": [
        "os.listdir(train_path+'parasitized')"
      ]
    },
    {
      "cell_type": "code",
      "execution_count": 14,
      "metadata": {
        "id": "U3zWAaJRsl9N",
        "colab": {
          "base_uri": "https://localhost:8080/"
        },
        "outputId": "4778bd0a-32bb-4371-cb46-c0870cc4b999"
      },
      "outputs": [
        {
          "output_type": "execute_result",
          "data": {
            "text/plain": [
              "(12479, 12479)"
            ]
          },
          "metadata": {},
          "execution_count": 14
        }
      ],
      "source": [
        "len(os.listdir(train_path+'parasitized')), len(os.listdir(train_path+'uninfected'))"
      ]
    },
    {
      "cell_type": "code",
      "execution_count": 15,
      "metadata": {
        "id": "pQluIckosl9O",
        "colab": {
          "base_uri": "https://localhost:8080/"
        },
        "outputId": "07a5b6ac-6f61-4092-c916-a2f8c28f10e2"
      },
      "outputs": [
        {
          "output_type": "execute_result",
          "data": {
            "text/plain": [
              "(1300, 1300)"
            ]
          },
          "metadata": {},
          "execution_count": 15
        }
      ],
      "source": [
        "len(os.listdir(test_path+'parasitized')), len(os.listdir(test_path+'uninfected'))"
      ]
    },
    {
      "cell_type": "code",
      "execution_count": 16,
      "metadata": {
        "id": "nz_3zdr4avaP",
        "colab": {
          "base_uri": "https://localhost:8080/"
        },
        "outputId": "fac37244-0766-4218-8461-e0f64a63f122"
      },
      "outputs": [
        {
          "output_type": "stream",
          "name": "stdout",
          "text": [
            "There are 2 directories and 0 images in 'cell_images'.\n",
            "There are 2 directories and 0 images in 'cell_images/test'.\n",
            "There are 0 directories and 1300 images in 'cell_images/test/uninfected'.\n",
            "There are 0 directories and 1300 images in 'cell_images/test/parasitized'.\n",
            "There are 2 directories and 0 images in 'cell_images/train'.\n",
            "There are 0 directories and 12479 images in 'cell_images/train/uninfected'.\n",
            "There are 0 directories and 12479 images in 'cell_images/train/parasitized'.\n"
          ]
        }
      ],
      "source": [
        "# Walk through cell_images directory and list number of files\n",
        "for dirpath, dirnames, filenames in os.walk(my_data_dir):\n",
        "  print(f\"There are {len(dirnames)} directories and {len(filenames)} images in '{dirpath}'.\")"
      ]
    },
    {
      "cell_type": "markdown",
      "metadata": {
        "id": "2docX2FutRHv"
      },
      "source": [
        "**Let's take an example images from both train-parasitized and train-uninfected folders to observe process** "
      ]
    },
    {
      "cell_type": "code",
      "execution_count": 17,
      "metadata": {
        "id": "wUZcZtQWsl9I",
        "colab": {
          "base_uri": "https://localhost:8080/"
        },
        "outputId": "2c48424c-ca6a-43f1-9964-fbe7dffcfcc6"
      },
      "outputs": [
        {
          "output_type": "execute_result",
          "data": {
            "text/plain": [
              "['C144P105ThinF_IMG_20151015_155004_cell_310.png',\n",
              " 'C39P4thinF_original_IMG_20150622_105253_cell_92.png',\n",
              " 'C186P147NThinF_IMG_20151203_150408_cell_184.png',\n",
              " 'C46P7ThinF_IMG_20151130_205828_cell_151.png',\n",
              " 'C45P6ThinF_IMG_20151130_155110_cell_207.png',\n",
              " 'C39P4thinF_original_IMG_20150622_105335_cell_27.png',\n",
              " 'C185P146ThinF_IMG_20151203_110344_cell_265.png',\n",
              " 'C48P9thinF_IMG_20150721_161243_cell_153.png',\n",
              " 'C172P133ThinF_IMG_20151119_155156_cell_255.png',\n",
              " 'C60P21thinF_IMG_20150804_113011_cell_2.png']"
            ]
          },
          "metadata": {},
          "execution_count": 17
        }
      ],
      "source": [
        "os.listdir(train_path+'parasitized')[:10]"
      ]
    },
    {
      "cell_type": "code",
      "execution_count": 18,
      "metadata": {
        "id": "90IdG6knsl9J",
        "colab": {
          "base_uri": "https://localhost:8080/",
          "height": 37
        },
        "outputId": "0f81dbf9-4f68-4027-c3bb-a7c97045ee63"
      },
      "outputs": [
        {
          "output_type": "execute_result",
          "data": {
            "text/plain": [
              "'C39P4thinF_original_IMG_20150622_105335_cell_27.png'"
            ],
            "application/vnd.google.colaboratory.intrinsic+json": {
              "type": "string"
            }
          },
          "metadata": {},
          "execution_count": 18
        }
      ],
      "source": [
        "os.listdir(train_path+'parasitized')[5]"
      ]
    },
    {
      "cell_type": "code",
      "execution_count": 19,
      "metadata": {
        "id": "rKvIiLAssl9J"
      },
      "outputs": [],
      "source": [
        "para_cell_path = train_path+'parasitized'+'/C68P29N_ThinF_IMG_20150819_134504_cell_120.png'"
      ]
    },
    {
      "cell_type": "code",
      "execution_count": 20,
      "metadata": {
        "id": "L5V2hllmsl9J",
        "colab": {
          "base_uri": "https://localhost:8080/",
          "height": 37
        },
        "outputId": "15fda019-41d4-4006-ccb6-dc6921a5419e"
      },
      "outputs": [
        {
          "output_type": "execute_result",
          "data": {
            "text/plain": [
              "'cell_images/train/parasitized/C68P29N_ThinF_IMG_20150819_134504_cell_120.png'"
            ],
            "application/vnd.google.colaboratory.intrinsic+json": {
              "type": "string"
            }
          },
          "metadata": {},
          "execution_count": 20
        }
      ],
      "source": [
        "para_cell_path"
      ]
    },
    {
      "cell_type": "code",
      "execution_count": 21,
      "metadata": {
        "id": "bgtb1aRfsl9K",
        "colab": {
          "base_uri": "https://localhost:8080/"
        },
        "outputId": "200d83a1-f754-422d-d367-1bb7d536921e"
      },
      "outputs": [
        {
          "output_type": "execute_result",
          "data": {
            "text/plain": [
              "array([[[0., 0., 0.],\n",
              "        [0., 0., 0.],\n",
              "        [0., 0., 0.],\n",
              "        ...,\n",
              "        [0., 0., 0.],\n",
              "        [0., 0., 0.],\n",
              "        [0., 0., 0.]],\n",
              "\n",
              "       [[0., 0., 0.],\n",
              "        [0., 0., 0.],\n",
              "        [0., 0., 0.],\n",
              "        ...,\n",
              "        [0., 0., 0.],\n",
              "        [0., 0., 0.],\n",
              "        [0., 0., 0.]],\n",
              "\n",
              "       [[0., 0., 0.],\n",
              "        [0., 0., 0.],\n",
              "        [0., 0., 0.],\n",
              "        ...,\n",
              "        [0., 0., 0.],\n",
              "        [0., 0., 0.],\n",
              "        [0., 0., 0.]],\n",
              "\n",
              "       ...,\n",
              "\n",
              "       [[0., 0., 0.],\n",
              "        [0., 0., 0.],\n",
              "        [0., 0., 0.],\n",
              "        ...,\n",
              "        [0., 0., 0.],\n",
              "        [0., 0., 0.],\n",
              "        [0., 0., 0.]],\n",
              "\n",
              "       [[0., 0., 0.],\n",
              "        [0., 0., 0.],\n",
              "        [0., 0., 0.],\n",
              "        ...,\n",
              "        [0., 0., 0.],\n",
              "        [0., 0., 0.],\n",
              "        [0., 0., 0.]],\n",
              "\n",
              "       [[0., 0., 0.],\n",
              "        [0., 0., 0.],\n",
              "        [0., 0., 0.],\n",
              "        ...,\n",
              "        [0., 0., 0.],\n",
              "        [0., 0., 0.],\n",
              "        [0., 0., 0.]]], dtype=float32)"
            ]
          },
          "metadata": {},
          "execution_count": 21
        }
      ],
      "source": [
        "imread(para_cell_path)"
      ]
    },
    {
      "cell_type": "code",
      "execution_count": 22,
      "metadata": {
        "id": "GsObRYqksl9K"
      },
      "outputs": [],
      "source": [
        "para_cell= imread(para_cell_path)"
      ]
    },
    {
      "cell_type": "code",
      "execution_count": 23,
      "metadata": {
        "id": "7E8cwW2osl9K",
        "colab": {
          "base_uri": "https://localhost:8080/",
          "height": 377
        },
        "outputId": "3cd21e06-3965-42cf-e22e-964e6bcf884b"
      },
      "outputs": [
        {
          "output_type": "display_data",
          "data": {
            "text/plain": [
              "<Figure size 720x432 with 1 Axes>"
            ],
            "image/png": "[encoded data removed]"
          },
          "metadata": {}
        }
      ],
      "source": [
        "plt.imshow(para_cell);"
      ]
    },
    {
      "cell_type": "code",
      "execution_count": 24,
      "metadata": {
        "id": "XDpeTqBdsl9L",
        "colab": {
          "base_uri": "https://localhost:8080/"
        },
        "outputId": "3710daa9-f883-4692-8922-e2b688cdd7cb"
      },
      "outputs": [
        {
          "output_type": "execute_result",
          "data": {
            "text/plain": [
              "(172, 154, 3)"
            ]
          },
          "metadata": {},
          "execution_count": 24
        }
      ],
      "source": [
        "para_cell.shape"
      ]
    },
    {
      "cell_type": "code",
      "execution_count": 25,
      "metadata": {
        "id": "pj1xYpfksl9M",
        "colab": {
          "base_uri": "https://localhost:8080/"
        },
        "outputId": "6f3fa8b3-d161-4cf0-e7ad-e72fd4317e20"
      },
      "outputs": [
        {
          "output_type": "execute_result",
          "data": {
            "text/plain": [
              "['C130P91ThinF_IMG_20151004_141428_cell_23.png',\n",
              " 'C170P131ThinF_IMG_20151119_120150_cell_121.png',\n",
              " 'C52P13thinF_IMG_20150725_124830_cell_86.png',\n",
              " 'C75P36_ThinF_IMG_20150815_163015_cell_14.png',\n",
              " 'C117P78ThinF_IMG_20150930_221927_cell_67.png',\n",
              " 'C183P144NThinF_IMG_20151201_223208_cell_50.png',\n",
              " 'C184P145ThinF_IMG_20151203_103326_cell_87.png',\n",
              " 'C95P56ThinF_IMG_20150821_171530_cell_4.png',\n",
              " 'C120P81ThinF_IMG_20151002_130918_cell_153.png',\n",
              " 'C232ThinF_IMG_20151112_154211_cell_158.png']"
            ]
          },
          "metadata": {},
          "execution_count": 25
        }
      ],
      "source": [
        "os.listdir(train_path+'uninfected')[:10]"
      ]
    },
    {
      "cell_type": "code",
      "execution_count": 26,
      "metadata": {
        "id": "scyqIWQmsl9M"
      },
      "outputs": [],
      "source": [
        "uninfected_cell_path = train_path+'uninfected/'+os.listdir(train_path+'uninfected')[5]"
      ]
    },
    {
      "cell_type": "code",
      "execution_count": 27,
      "metadata": {
        "id": "8sac1keAsl9M",
        "colab": {
          "base_uri": "https://localhost:8080/"
        },
        "outputId": "328b001d-d27d-4af0-b9a4-d970e6eac6d5"
      },
      "outputs": [
        {
          "output_type": "execute_result",
          "data": {
            "text/plain": [
              "array([[[0., 0., 0.],\n",
              "        [0., 0., 0.],\n",
              "        [0., 0., 0.],\n",
              "        ...,\n",
              "        [0., 0., 0.],\n",
              "        [0., 0., 0.],\n",
              "        [0., 0., 0.]],\n",
              "\n",
              "       [[0., 0., 0.],\n",
              "        [0., 0., 0.],\n",
              "        [0., 0., 0.],\n",
              "        ...,\n",
              "        [0., 0., 0.],\n",
              "        [0., 0., 0.],\n",
              "        [0., 0., 0.]],\n",
              "\n",
              "       [[0., 0., 0.],\n",
              "        [0., 0., 0.],\n",
              "        [0., 0., 0.],\n",
              "        ...,\n",
              "        [0., 0., 0.],\n",
              "        [0., 0., 0.],\n",
              "        [0., 0., 0.]],\n",
              "\n",
              "       ...,\n",
              "\n",
              "       [[0., 0., 0.],\n",
              "        [0., 0., 0.],\n",
              "        [0., 0., 0.],\n",
              "        ...,\n",
              "        [0., 0., 0.],\n",
              "        [0., 0., 0.],\n",
              "        [0., 0., 0.]],\n",
              "\n",
              "       [[0., 0., 0.],\n",
              "        [0., 0., 0.],\n",
              "        [0., 0., 0.],\n",
              "        ...,\n",
              "        [0., 0., 0.],\n",
              "        [0., 0., 0.],\n",
              "        [0., 0., 0.]],\n",
              "\n",
              "       [[0., 0., 0.],\n",
              "        [0., 0., 0.],\n",
              "        [0., 0., 0.],\n",
              "        ...,\n",
              "        [0., 0., 0.],\n",
              "        [0., 0., 0.],\n",
              "        [0., 0., 0.]]], dtype=float32)"
            ]
          },
          "metadata": {},
          "execution_count": 27
        }
      ],
      "source": [
        "imread(uninfected_cell_path)"
      ]
    },
    {
      "cell_type": "code",
      "execution_count": 28,
      "metadata": {
        "id": "GYQ6VT4Esl9N",
        "colab": {
          "base_uri": "https://localhost:8080/",
          "height": 377
        },
        "outputId": "e2679cc1-59db-43e9-96aa-8534b8b71143"
      },
      "outputs": [
        {
          "output_type": "display_data",
          "data": {
            "text/plain": [
              "<Figure size 720x432 with 1 Axes>"
            ],
            "image/png": "[encoded data removed]"
          },
          "metadata": {}
        }
      ],
      "source": [
        "#plt.imshow(imread(uninfected_cell_path));\n",
        "uninfected_cell = imread(uninfected_cell_path)\n",
        "plt.imshow(uninfected_cell);"
      ]
    },
    {
      "cell_type": "code",
      "execution_count": 29,
      "metadata": {
        "id": "GREBe_GIrZtp",
        "colab": {
          "base_uri": "https://localhost:8080/"
        },
        "outputId": "e80948cb-1746-4bff-cf8b-55a76522634d"
      },
      "outputs": [
        {
          "output_type": "execute_result",
          "data": {
            "text/plain": [
              "(118, 100, 3)"
            ]
          },
          "metadata": {},
          "execution_count": 29
        }
      ],
      "source": [
        "uninfected_cell.shape"
      ]
    },
    {
      "cell_type": "code",
      "execution_count": 30,
      "metadata": {
        "id": "E0jEJVskgsKG"
      },
      "outputs": [],
      "source": [
        "# View a random image\n",
        "import random\n",
        "\n",
        "def view_random_image(target_dir, target_class):\n",
        "  # Setup target directory (we'll view images from here)\n",
        "  target_folder = target_dir+target_class\n",
        "\n",
        "  # Get a random image path\n",
        "  random_image = random.sample(os.listdir(target_folder), 1)\n",
        "\n",
        "  # Read in the image and plot it using matplotlib\n",
        "  img = imread(target_folder + \"/\" + random_image[0])\n",
        "  plt.imshow(img)\n",
        "  plt.title(target_class)\n",
        "  plt.axis(\"off\");\n",
        "\n",
        "  print(f\"Image shape: {img.shape}\") # show the shape of the image\n",
        "\n",
        "  return img"
      ]
    },
    {
      "cell_type": "code",
      "execution_count": 31,
      "metadata": {
        "id": "khW2E0HmgsUe",
        "colab": {
          "base_uri": "https://localhost:8080/",
          "height": 390
        },
        "outputId": "ec9a0a9c-9efd-408e-dac9-7075a95d9b2c"
      },
      "outputs": [
        {
          "output_type": "stream",
          "name": "stdout",
          "text": [
            "Image shape: (136, 100, 3)\n"
          ]
        },
        {
          "output_type": "display_data",
          "data": {
            "text/plain": [
              "<Figure size 720x432 with 1 Axes>"
            ],
            "image/png": "[encoded data removed]"
          },
          "metadata": {}
        }
      ],
      "source": [
        "# View a random image from the training dataset\n",
        "img = view_random_image(target_dir=train_path,\n",
        "                        target_class=\"parasitized\")"
      ]
    },
    {
      "cell_type": "code",
      "execution_count": 32,
      "metadata": {
        "id": "BcEpw1GPgseo",
        "colab": {
          "base_uri": "https://localhost:8080/",
          "height": 390
        },
        "outputId": "476a6cc6-4c17-49d5-a238-0c7e8fae010b"
      },
      "outputs": [
        {
          "output_type": "stream",
          "name": "stdout",
          "text": [
            "Image shape: (124, 115, 3)\n"
          ]
        },
        {
          "output_type": "display_data",
          "data": {
            "text/plain": [
              "<Figure size 720x432 with 1 Axes>"
            ],
            "image/png": "[encoded data removed]"
          },
          "metadata": {}
        }
      ],
      "source": [
        "# View a random image from the training dataset\n",
        "img = view_random_image(target_dir=train_path,\n",
        "                        target_class=\"uninfected\")"
      ]
    },
    {
      "cell_type": "code",
      "execution_count": 33,
      "metadata": {
        "id": "KwuIL3FdAXlZ",
        "colab": {
          "base_uri": "https://localhost:8080/",
          "height": 390
        },
        "outputId": "9c0c24b3-d36a-439a-d3e9-dcc2938311e0"
      },
      "outputs": [
        {
          "output_type": "stream",
          "name": "stdout",
          "text": [
            "Image shape: (175, 142, 3)\n"
          ]
        },
        {
          "output_type": "display_data",
          "data": {
            "text/plain": [
              "<Figure size 720x432 with 1 Axes>"
            ],
            "image/png": "[encoded data removed]"
          },
          "metadata": {}
        }
      ],
      "source": [
        "# View a random image from the training dataset\n",
        "import random\n",
        "img = view_random_image(target_dir=train_path,\n",
        "                        target_class=random.choice(class_names)) # get a random class name"
      ]
    },
    {
      "cell_type": "markdown",
      "metadata": {
        "id": "7qmejxHxsl9O"
      },
      "source": [
        "# Data Preprocessing"
      ]
    },
    {
      "cell_type": "markdown",
      "metadata": {
        "id": "LH--CKJ0sl9O"
      },
      "source": [
        "## Defining Input Shape"
      ]
    },
    {
      "cell_type": "markdown",
      "metadata": {
        "id": "FXz_fh0bsl9O"
      },
      "source": [
        "**Let's decide on the final dimension of these images.**"
      ]
    },
    {
      "cell_type": "code",
      "execution_count": 34,
      "metadata": {
        "id": "yedwAw8Jsl9P",
        "colab": {
          "base_uri": "https://localhost:8080/"
        },
        "outputId": "24cf16a3-1643-4306-cbc9-21ed3500c67f"
      },
      "outputs": [
        {
          "output_type": "execute_result",
          "data": {
            "text/plain": [
              "(118, 100, 3)"
            ]
          },
          "metadata": {},
          "execution_count": 34
        }
      ],
      "source": [
        "uninfected_cell.shape"
      ]
    },
    {
      "cell_type": "code",
      "execution_count": 35,
      "metadata": {
        "id": "zpfsabyPsl9P",
        "colab": {
          "base_uri": "https://localhost:8080/"
        },
        "outputId": "771d8511-b5d0-4b6f-8dc4-3847a93dc99d"
      },
      "outputs": [
        {
          "output_type": "execute_result",
          "data": {
            "text/plain": [
              "(172, 154, 3)"
            ]
          },
          "metadata": {},
          "execution_count": 35
        }
      ],
      "source": [
        "para_cell.shape"
      ]
    },
    {
      "cell_type": "markdown",
      "metadata": {
        "cellView": "code",
        "id": "c1MICswflLpO",
        "outputId": "976efc35-690f-4c05-a758-e70d72df7d9e"
      },
      "source": [
        "x = []\n",
        "y = []\n",
        "\n",
        "for image in os.listdir(train_path+'uninfected'):\n",
        "    img = imread(train_path+'uninfected/'+image)\n",
        "    d1,d2,_ = img.shape\n",
        "    x.append(d1)\n",
        "    y.append(d2)"
      ]
    },
    {
      "cell_type": "code",
      "execution_count": 36,
      "metadata": {
        "id": "Cnndjp3hsl9Q"
      },
      "outputs": [],
      "source": [
        "x = [imread(train_path+'uninfected/'+image).shape[0] for image in os.listdir(train_path+'uninfected')] \n",
        "y = [imread(train_path+'uninfected/'+image).shape[1] for image in os.listdir(train_path+'uninfected')] "
      ]
    },
    {
      "cell_type": "code",
      "execution_count": 37,
      "metadata": {
        "id": "I8coq5Crsl9R",
        "colab": {
          "base_uri": "https://localhost:8080/"
        },
        "outputId": "c51738d8-e531-4fb9-c240-6ad6537fcbcf"
      },
      "outputs": [
        {
          "output_type": "execute_result",
          "data": {
            "text/plain": [
              "[139, 133, 127, 154, 136]"
            ]
          },
          "metadata": {},
          "execution_count": 37
        }
      ],
      "source": [
        "x[:5]"
      ]
    },
    {
      "cell_type": "code",
      "execution_count": 38,
      "metadata": {
        "id": "RZ1WZ16Osl9R",
        "colab": {
          "base_uri": "https://localhost:8080/",
          "height": 428
        },
        "outputId": "f55ccc78-a322-4012-c58f-0132eeadf815"
      },
      "outputs": [
        {
          "output_type": "stream",
          "name": "stderr",
          "text": [
            "/usr/local/lib/python3.7/dist-packages/seaborn/_decorators.py:43: FutureWarning: Pass the following variables as keyword args: x, y. From version 0.12, the only valid positional argument will be `data`, and passing other arguments without an explicit keyword will result in an error or misinterpretation.\n",
            "  FutureWarning\n"
          ]
        },
        {
          "output_type": "display_data",
          "data": {
            "text/plain": [
              "<Figure size 720x432 with 1 Axes>"
            ],
            "image/png": "[encoded data removed]"
          },
          "metadata": {}
        }
      ],
      "source": [
        "sns.scatterplot(x,y);"
      ]
    },
    {
      "cell_type": "code",
      "execution_count": 39,
      "metadata": {
        "id": "CE2dIZyesl9R",
        "colab": {
          "base_uri": "https://localhost:8080/"
        },
        "outputId": "f25bdabc-2506-45c0-a5a5-609126bd2e5d"
      },
      "outputs": [
        {
          "output_type": "execute_result",
          "data": {
            "text/plain": [
              "(131.64820899110507, 130.0)"
            ]
          },
          "metadata": {},
          "execution_count": 39
        }
      ],
      "source": [
        "np.mean(x), np.median(x)"
      ]
    },
    {
      "cell_type": "code",
      "execution_count": 40,
      "metadata": {
        "id": "j-hPSXm7sl9R",
        "colab": {
          "base_uri": "https://localhost:8080/"
        },
        "outputId": "2fc70548-b493-4c8c-babd-a89b42b94e19"
      },
      "outputs": [
        {
          "output_type": "execute_result",
          "data": {
            "text/plain": [
              "(131.4041990544114, 130.0)"
            ]
          },
          "metadata": {},
          "execution_count": 40
        }
      ],
      "source": [
        "np.mean(y), np.median(y)"
      ]
    },
    {
      "cell_type": "code",
      "execution_count": 41,
      "metadata": {
        "id": "XZipjtXssl9S"
      },
      "outputs": [],
      "source": [
        "image_shape = (130,130,3)"
      ]
    },
    {
      "cell_type": "markdown",
      "metadata": {
        "id": "nzfQWmOxsl9S"
      },
      "source": [
        "## Scaling"
      ]
    },
    {
      "cell_type": "markdown",
      "metadata": {
        "id": "mKfeQeWbsl9S"
      },
      "source": [
        "**Let's check the images if they are needed to be scaled or not**"
      ]
    },
    {
      "cell_type": "code",
      "execution_count": 42,
      "metadata": {
        "id": "Wh48Bd-1sl9S",
        "colab": {
          "base_uri": "https://localhost:8080/"
        },
        "outputId": "56c63d87-b05f-495b-9fbe-0d585cce31d5"
      },
      "outputs": [
        {
          "output_type": "execute_result",
          "data": {
            "text/plain": [
              "0.81960785"
            ]
          },
          "metadata": {},
          "execution_count": 42
        }
      ],
      "source": [
        "uninfected_cell.max()"
      ]
    },
    {
      "cell_type": "code",
      "execution_count": 43,
      "metadata": {
        "id": "X4lGP4Essl9S",
        "colab": {
          "base_uri": "https://localhost:8080/"
        },
        "outputId": "0d9e32bc-5728-4f20-86d4-6665133b0f97"
      },
      "outputs": [
        {
          "output_type": "execute_result",
          "data": {
            "text/plain": [
              "0.9372549"
            ]
          },
          "metadata": {},
          "execution_count": 43
        }
      ],
      "source": [
        "para_cell.max()"
      ]
    },
    {
      "cell_type": "markdown",
      "metadata": {
        "id": "o-rpBt-ysl9S"
      },
      "source": [
        "As we see above, all images have been already scaled"
      ]
    },
    {
      "cell_type": "markdown",
      "metadata": {
        "id": "wwoyEQxasl9T"
      },
      "source": [
        "## Image Data Generator"
      ]
    },
    {
      "cell_type": "markdown",
      "metadata": {
        "id": "rMtI4ruOtZBS"
      },
      "source": [
        "**Image Manipulation**\n",
        "\n",
        "We can use the ImageDataGenerator to manipulate the images with rotation, resizing, and scaling so the model becomes more robust to different images that our data set doesn't have. ImageDataGenerator does the followings.\n",
        "\n",
        "* Accepts a batch of images used for training.\n",
        "* Applies a series of random transformations to each image in the batch.\n",
        "* Replaces the original batch with randomly transformed batch.\n",
        "* Training the CNN on this randomly transformed batch.\n",
        "\n",
        "The goal of applying data augmentation is to have a more generalized model.\n",
        "\n",
        "Data augmentation is a way to try and prevent a model overfitting. If your model is overfiting (e.g. the validation loss keeps increasing), you may want to try using data augmentation."
      ]
    },
    {
      "cell_type": "code",
      "execution_count": 44,
      "metadata": {
        "id": "PvfAR41Isl9T"
      },
      "outputs": [],
      "source": [
        "from tensorflow.keras.preprocessing.image import ImageDataGenerator"
      ]
    },
    {
      "cell_type": "code",
      "execution_count": 45,
      "metadata": {
        "id": "-R0eYE5esl9T"
      },
      "outputs": [],
      "source": [
        "# help(ImageDataGenerator)"
      ]
    },
    {
      "cell_type": "code",
      "execution_count": 46,
      "metadata": {
        "id": "CG7aykrysl9T"
      },
      "outputs": [],
      "source": [
        "image_gen = ImageDataGenerator(rotation_range=15, \n",
        "                               width_shift_range=0.10, \n",
        "                               height_shift_range=0.10, \n",
        "                               #rescale=1/255, \n",
        "                               shear_range=0.1, \n",
        "                               zoom_range=0.1, \n",
        "                               horizontal_flip=True, \n",
        "                               fill_mode='nearest')"
      ]
    },
    {
      "cell_type": "code",
      "execution_count": 47,
      "metadata": {
        "id": "hYjJqytGsl9T",
        "colab": {
          "base_uri": "https://localhost:8080/",
          "height": 377
        },
        "outputId": "e94cdaa1-934c-4b4d-ed56-beaebb4fda42"
      },
      "outputs": [
        {
          "output_type": "display_data",
          "data": {
            "text/plain": [
              "<Figure size 720x432 with 1 Axes>"
            ],
            "image/png": "[encoded data removed]"
          },
          "metadata": {}
        }
      ],
      "source": [
        "plt.imshow(para_cell);"
      ]
    },
    {
      "cell_type": "code",
      "execution_count": 48,
      "metadata": {
        "id": "EkKJrYeFsl9T",
        "colab": {
          "base_uri": "https://localhost:8080/",
          "height": 377
        },
        "outputId": "8da56d65-e705-4cc6-e563-9022e48b8344"
      },
      "outputs": [
        {
          "output_type": "display_data",
          "data": {
            "text/plain": [
              "<Figure size 720x432 with 1 Axes>"
            ],
            "image/png": "[encoded data removed]"
          },
          "metadata": {}
        }
      ],
      "source": [
        "plt.imshow(image_gen.random_transform(para_cell));"
      ]
    },
    {
      "cell_type": "markdown",
      "metadata": {
        "id": "NXTR3CIv0qm1"
      },
      "source": [
        "### Taking the path to a directory & Generating batches of augmented data\n",
        "\n",
        "flow_from_directory function works with images organized in sub-directories. Your directories should include only one class of images, so one folder per class of images."
      ]
    },
    {
      "cell_type": "code",
      "execution_count": 49,
      "metadata": {
        "id": "7_KXVvrtsl9U"
      },
      "outputs": [],
      "source": [
        "#help(image_gen.flow_from_directory)\n",
        "#Takes the path to a directory & generates batches of augmented data."
      ]
    },
    {
      "cell_type": "code",
      "execution_count": 50,
      "metadata": {
        "id": "gg7R9FNEsl9U",
        "colab": {
          "base_uri": "https://localhost:8080/"
        },
        "outputId": "0055c2ef-cc61-4039-89a3-27a4b84c18ee"
      },
      "outputs": [
        {
          "output_type": "stream",
          "name": "stdout",
          "text": [
            "Found 24958 images belonging to 2 classes.\n"
          ]
        },
        {
          "output_type": "execute_result",
          "data": {
            "text/plain": [
              "<keras.preprocessing.image.DirectoryIterator at 0x7f9be00ad5d0>"
            ]
          },
          "metadata": {},
          "execution_count": 50
        }
      ],
      "source": [
        "image_gen.flow_from_directory(train_path)"
      ]
    },
    {
      "cell_type": "code",
      "execution_count": 51,
      "metadata": {
        "id": "lDqfD0mUsl9U",
        "colab": {
          "base_uri": "https://localhost:8080/"
        },
        "outputId": "e8e18579-9db7-4e64-fb03-ebb1e918d913"
      },
      "outputs": [
        {
          "output_type": "stream",
          "name": "stdout",
          "text": [
            "Found 2600 images belonging to 2 classes.\n"
          ]
        },
        {
          "output_type": "execute_result",
          "data": {
            "text/plain": [
              "<keras.preprocessing.image.DirectoryIterator at 0x7f9be00e6a10>"
            ]
          },
          "metadata": {},
          "execution_count": 51
        }
      ],
      "source": [
        "image_gen.flow_from_directory(test_path)"
      ]
    },
    {
      "cell_type": "code",
      "execution_count": 52,
      "metadata": {
        "id": "uh3j7j6_00ch"
      },
      "outputs": [],
      "source": [
        "batch_size = 32"
      ]
    },
    {
      "cell_type": "code",
      "source": [
        "image_shape"
      ],
      "metadata": {
        "id": "c8ELVwKrM0jy",
        "colab": {
          "base_uri": "https://localhost:8080/"
        },
        "outputId": "125ae260-09a2-4911-e45b-8990a19fd32d"
      },
      "execution_count": 53,
      "outputs": [
        {
          "output_type": "execute_result",
          "data": {
            "text/plain": [
              "(130, 130, 3)"
            ]
          },
          "metadata": {},
          "execution_count": 53
        }
      ]
    },
    {
      "cell_type": "code",
      "execution_count": 54,
      "metadata": {
        "id": "gV4T5jcwsl9U",
        "colab": {
          "base_uri": "https://localhost:8080/"
        },
        "outputId": "e010731c-6d44-4e9b-ff15-34559c2bad4f"
      },
      "outputs": [
        {
          "output_type": "stream",
          "name": "stdout",
          "text": [
            "Found 24958 images belonging to 2 classes.\n"
          ]
        }
      ],
      "source": [
        "train_image_gen = image_gen.flow_from_directory(directory=train_path,\n",
        "                                                target_size=image_shape[:2],\n",
        "                                                color_mode='rgb',\n",
        "                                                batch_size=batch_size,\n",
        "                                                class_mode='binary',\n",
        "                                                shuffle=True)"
      ]
    },
    {
      "cell_type": "code",
      "execution_count": 55,
      "metadata": {
        "id": "KbbqrT2Asl9U",
        "colab": {
          "base_uri": "https://localhost:8080/"
        },
        "outputId": "43bac790-0cb7-4d8a-fdd7-6dae62f38a5e"
      },
      "outputs": [
        {
          "output_type": "stream",
          "name": "stdout",
          "text": [
            "Found 2600 images belonging to 2 classes.\n"
          ]
        }
      ],
      "source": [
        "test_image_gen = image_gen.flow_from_directory(directory=test_path,\n",
        "                                               target_size=image_shape[:2],\n",
        "                                               color_mode='rgb',\n",
        "                                               batch_size=batch_size,\n",
        "                                               class_mode='binary',\n",
        "                                               shuffle=False)"
      ]
    },
    {
      "cell_type": "code",
      "execution_count": 56,
      "metadata": {
        "id": "efxzYhpisl9V",
        "colab": {
          "base_uri": "https://localhost:8080/"
        },
        "outputId": "84572e5e-745e-4ae1-9fe6-6b735d55e844"
      },
      "outputs": [
        {
          "output_type": "execute_result",
          "data": {
            "text/plain": [
              "{'parasitized': 0, 'uninfected': 1}"
            ]
          },
          "metadata": {},
          "execution_count": 56
        }
      ],
      "source": [
        "train_image_gen.class_indices"
      ]
    },
    {
      "cell_type": "code",
      "execution_count": 57,
      "metadata": {
        "id": "eE82-YIQUHtE",
        "colab": {
          "base_uri": "https://localhost:8080/"
        },
        "outputId": "aff604a9-3dc0-48d4-919f-ae8198377cef"
      },
      "outputs": [
        {
          "output_type": "execute_result",
          "data": {
            "text/plain": [
              "{'parasitized': 0, 'uninfected': 1}"
            ]
          },
          "metadata": {},
          "execution_count": 57
        }
      ],
      "source": [
        "test_image_gen.class_indices"
      ]
    },
    {
      "cell_type": "code",
      "execution_count": 58,
      "metadata": {
        "id": "B5r91T4hsl9V"
      },
      "outputs": [],
      "source": [
        "# train_image_gen[0]"
      ]
    },
    {
      "cell_type": "code",
      "execution_count": 59,
      "metadata": {
        "id": "g_tNsaxlsl9V",
        "colab": {
          "base_uri": "https://localhost:8080/"
        },
        "outputId": "92f7df82-b623-4c81-d4f9-91c79caa4b71"
      },
      "outputs": [
        {
          "output_type": "execute_result",
          "data": {
            "text/plain": [
              "(32, 130, 130, 3)"
            ]
          },
          "metadata": {},
          "execution_count": 59
        }
      ],
      "source": [
        "train_image_gen[0][0].shape"
      ]
    },
    {
      "cell_type": "code",
      "execution_count": 60,
      "metadata": {
        "id": "w08Vuz9y88iG",
        "colab": {
          "base_uri": "https://localhost:8080/"
        },
        "outputId": "c61ac1d5-569d-4aeb-f280-65bba7371e04"
      },
      "outputs": [
        {
          "output_type": "execute_result",
          "data": {
            "text/plain": [
              "(130, 130, 3)"
            ]
          },
          "metadata": {},
          "execution_count": 60
        }
      ],
      "source": [
        "train_image_gen[0][0][0].shape"
      ]
    },
    {
      "cell_type": "code",
      "execution_count": 61,
      "metadata": {
        "id": "kBX9wMYasl9V",
        "colab": {
          "base_uri": "https://localhost:8080/"
        },
        "outputId": "b6789f63-4832-442b-849d-684381baec56"
      },
      "outputs": [
        {
          "output_type": "execute_result",
          "data": {
            "text/plain": [
              "(780, 82)"
            ]
          },
          "metadata": {},
          "execution_count": 61
        }
      ],
      "source": [
        "len(train_image_gen), len(test_image_gen)"
      ]
    },
    {
      "cell_type": "code",
      "execution_count": 62,
      "metadata": {
        "id": "aS4Gj8PGsl9V",
        "colab": {
          "base_uri": "https://localhost:8080/"
        },
        "outputId": "4617e852-6e92-4061-e4ee-4999c69e075d"
      },
      "outputs": [
        {
          "output_type": "execute_result",
          "data": {
            "text/plain": [
              "(24960, 2624)"
            ]
          },
          "metadata": {},
          "execution_count": 62
        }
      ],
      "source": [
        "len(train_image_gen)*batch_size, len(test_image_gen)*batch_size "
      ]
    },
    {
      "cell_type": "code",
      "execution_count": 63,
      "metadata": {
        "id": "ZkqN1GrZ8QSs",
        "colab": {
          "base_uri": "https://localhost:8080/"
        },
        "outputId": "1caf4eba-da03-4533-ce9e-acbf58edcc0f"
      },
      "outputs": [
        {
          "output_type": "execute_result",
          "data": {
            "text/plain": [
              "(32, 32)"
            ]
          },
          "metadata": {},
          "execution_count": 63
        }
      ],
      "source": [
        "# Get a sample of the training data batch \n",
        "images, labels = train_image_gen.next() # get the 'next' batch of images/labels\n",
        "len(images), len(labels)"
      ]
    },
    {
      "cell_type": "code",
      "execution_count": 64,
      "metadata": {
        "id": "7UDSmH8F8aBH",
        "colab": {
          "base_uri": "https://localhost:8080/"
        },
        "outputId": "345a39d5-d01a-4eeb-b47f-8555f4525d5d"
      },
      "outputs": [
        {
          "output_type": "execute_result",
          "data": {
            "text/plain": [
              "(32, 32)"
            ]
          },
          "metadata": {},
          "execution_count": 64
        }
      ],
      "source": [
        "# Get a sample of the testing data batch \n",
        "images, labels = test_image_gen.next() # get the 'next' batch of images/labels\n",
        "len(images), len(labels)"
      ]
    },
    {
      "cell_type": "markdown",
      "metadata": {
        "id": "McnEpbpKsl9W"
      },
      "source": [
        "# Modelling-1"
      ]
    },
    {
      "cell_type": "code",
      "execution_count": 65,
      "metadata": {
        "id": "_4wdkY_Csl9W"
      },
      "outputs": [],
      "source": [
        "from tensorflow.keras.models import Sequential\n",
        "from tensorflow.keras.layers import Activation, Dropout, Flatten, Dense, Conv2D, MaxPooling2D\n",
        "from tensorflow.keras.callbacks import EarlyStopping"
      ]
    },
    {
      "cell_type": "code",
      "execution_count": 66,
      "metadata": {
        "id": "CQzvmjcEsl9W"
      },
      "outputs": [],
      "source": [
        "model1 = Sequential()\n",
        "\n",
        "model1.add(Conv2D(filters=32, kernel_size=(3,3), input_shape=image_shape, activation='relu'))\n",
        "model1.add(MaxPooling2D(pool_size=(2, 2)))\n",
        "\n",
        "model1.add(Conv2D(filters=64, kernel_size=(3,3), activation='relu'))\n",
        "model1.add(MaxPooling2D(pool_size=(2, 2)))\n",
        "\n",
        "model1.add(Conv2D(filters=64, kernel_size=(3,3), activation='relu'))\n",
        "model1.add(MaxPooling2D(pool_size=(2, 2)))\n",
        "\n",
        "\n",
        "model1.add(Flatten())\n",
        "\n",
        "\n",
        "model1.add(Dense(128))\n",
        "model1.add(Activation('relu'))\n",
        "\n",
        "model1.add(Dropout(0.5))\n",
        "\n",
        "model1.add(Dense(1))\n",
        "model1.add(Activation('sigmoid'))\n",
        "\n",
        "# optimizer = keras.optimizers.Adam(lr=0.01)\n",
        "model1.compile(loss='binary_crossentropy',\n",
        "              optimizer='adam',\n",
        "              metrics=['accuracy'])"
      ]
    },
    {
      "cell_type": "code",
      "execution_count": 67,
      "metadata": {
        "id": "MHI3EEvXsl9W",
        "colab": {
          "base_uri": "https://localhost:8080/"
        },
        "outputId": "1b9e87dc-c891-422c-8800-2831bb2b9191"
      },
      "outputs": [
        {
          "output_type": "stream",
          "name": "stdout",
          "text": [
            "Model: \"sequential\"\n",
            "_________________________________________________________________\n",
            " Layer (type)                Output Shape              Param #   \n",
            "=================================================================\n",
            " conv2d (Conv2D)             (None, 128, 128, 32)      896       \n",
            "                                                                 \n",
            " max_pooling2d (MaxPooling2D  (None, 64, 64, 32)       0         \n",
            " )                                                               \n",
            "                                                                 \n",
            " conv2d_1 (Conv2D)           (None, 62, 62, 64)        18496     \n",
            "                                                                 \n",
            " max_pooling2d_1 (MaxPooling  (None, 31, 31, 64)       0         \n",
            " 2D)                                                             \n",
            "                                                                 \n",
            " conv2d_2 (Conv2D)           (None, 29, 29, 64)        36928     \n",
            "                                                                 \n",
            " max_pooling2d_2 (MaxPooling  (None, 14, 14, 64)       0         \n",
            " 2D)                                                             \n",
            "                                                                 \n",
            " flatten (Flatten)           (None, 12544)             0         \n",
            "                                                                 \n",
            " dense (Dense)               (None, 128)               1605760   \n",
            "                                                                 \n",
            " activation (Activation)     (None, 128)               0         \n",
            "                                                                 \n",
            " dropout (Dropout)           (None, 128)               0         \n",
            "                                                                 \n",
            " dense_1 (Dense)             (None, 1)                 129       \n",
            "                                                                 \n",
            " activation_1 (Activation)   (None, 1)                 0         \n",
            "                                                                 \n",
            "=================================================================\n",
            "Total params: 1,662,209\n",
            "Trainable params: 1,662,209\n",
            "Non-trainable params: 0\n",
            "_________________________________________________________________\n"
          ]
        }
      ],
      "source": [
        "model1.summary()"
      ]
    },
    {
      "cell_type": "code",
      "execution_count": 68,
      "metadata": {
        "id": "MQEe7W01sl9W"
      },
      "outputs": [],
      "source": [
        "early_stop = EarlyStopping(monitor='val_loss', patience=2, restore_best_weights = True)"
      ]
    },
    {
      "cell_type": "code",
      "execution_count": 69,
      "metadata": {
        "id": "ptJFzuyvsl9X",
        "scrolled": true,
        "colab": {
          "base_uri": "https://localhost:8080/"
        },
        "outputId": "aaed1c56-ab99-4e3c-db6b-66ba2b4786f0"
      },
      "outputs": [
        {
          "output_type": "stream",
          "name": "stdout",
          "text": [
            "Epoch 1/10\n",
            "780/780 [==============================] - 134s 158ms/step - loss: 1.4281 - accuracy: 0.5586 - val_loss: 0.6792 - val_accuracy: 0.5965\n",
            "Epoch 2/10\n",
            "780/780 [==============================] - 121s 155ms/step - loss: 0.6729 - accuracy: 0.5889 - val_loss: 0.6704 - val_accuracy: 0.5985\n",
            "Epoch 3/10\n",
            "780/780 [==============================] - 120s 154ms/step - loss: 0.6646 - accuracy: 0.6043 - val_loss: 0.6604 - val_accuracy: 0.6046\n",
            "Epoch 4/10\n",
            "780/780 [==============================] - 120s 154ms/step - loss: 0.6631 - accuracy: 0.6078 - val_loss: 0.6593 - val_accuracy: 0.6262\n",
            "Epoch 5/10\n",
            "780/780 [==============================] - 123s 158ms/step - loss: 0.6606 - accuracy: 0.6108 - val_loss: 0.6616 - val_accuracy: 0.6135\n",
            "Epoch 6/10\n",
            "780/780 [==============================] - 123s 158ms/step - loss: 0.6760 - accuracy: 0.5959 - val_loss: 0.6555 - val_accuracy: 0.6146\n",
            "Epoch 7/10\n",
            "780/780 [==============================] - 120s 154ms/step - loss: 0.6752 - accuracy: 0.5961 - val_loss: 0.6692 - val_accuracy: 0.6046\n",
            "Epoch 8/10\n",
            "780/780 [==============================] - 117s 150ms/step - loss: 0.6624 - accuracy: 0.6128 - val_loss: 0.6654 - val_accuracy: 0.6023\n"
          ]
        },
        {
          "output_type": "execute_result",
          "data": {
            "text/plain": [
              "<keras.callbacks.History at 0x7f9b82f51650>"
            ]
          },
          "metadata": {},
          "execution_count": 69
        }
      ],
      "source": [
        "model1.fit(train_image_gen,\n",
        "          epochs=10,\n",
        "          steps_per_epoch=len(train_image_gen),\n",
        "          validation_data=test_image_gen,\n",
        "          validation_steps=len(test_image_gen),\n",
        "          callbacks=[early_stop])"
      ]
    },
    {
      "cell_type": "code",
      "execution_count": 70,
      "metadata": {
        "id": "yUXSEkDLsl9X",
        "colab": {
          "base_uri": "https://localhost:8080/"
        },
        "outputId": "2ad8b552-691e-4133-9a7e-14a20da8d4ed"
      },
      "outputs": [
        {
          "output_type": "execute_result",
          "data": {
            "text/plain": [
              "['loss', 'accuracy']"
            ]
          },
          "metadata": {},
          "execution_count": 70
        }
      ],
      "source": [
        "model1.metrics_names"
      ]
    },
    {
      "cell_type": "code",
      "execution_count": 71,
      "metadata": {
        "id": "AIykzWBQsl9X",
        "colab": {
          "base_uri": "https://localhost:8080/",
          "height": 204
        },
        "outputId": "59ac7c95-3c9b-4ccb-ee73-f9f147ef9228"
      },
      "outputs": [
        {
          "output_type": "execute_result",
          "data": {
            "text/plain": [
              "   loss  accuracy  val_loss  val_accuracy\n",
              "0 1.428     0.559     0.679         0.597\n",
              "1 0.673     0.589     0.670         0.598\n",
              "2 0.665     0.604     0.660         0.605\n",
              "3 0.663     0.608     0.659         0.626\n",
              "4 0.661     0.611     0.662         0.613"
            ],
            "text/html": [
              "\n",
              "  <div id=\"df-fd0cd13b-001b-4ed1-bfb4-131edcf9b802\">\n",
              "    <div class=\"colab-df-container\">\n",
              "      <div>\n",
              "<style scoped>\n",
              "    .dataframe tbody tr th:only-of-type {\n",
              "        vertical-align: middle;\n",
              "    }\n",
              "\n",
              "    .dataframe tbody tr th {\n",
              "        vertical-align: top;\n",
              "    }\n",
              "\n",
              "    .dataframe thead th {\n",
              "        text-align: right;\n",
              "    }\n",
              "</style>\n",
              "<table border=\"1\" class=\"dataframe\">\n",
              "  <thead>\n",
              "    <tr style=\"text-align: right;\">\n",
              "      <th></th>\n",
              "      <th>loss</th>\n",
              "      <th>accuracy</th>\n",
              "      <th>val_loss</th>\n",
              "      <th>val_accuracy</th>\n",
              "    </tr>\n",
              "  </thead>\n",
              "  <tbody>\n",
              "    <tr>\n",
              "      <th>0</th>\n",
              "      <td>1.428</td>\n",
              "      <td>0.559</td>\n",
              "      <td>0.679</td>\n",
              "      <td>0.597</td>\n",
              "    </tr>\n",
              "    <tr>\n",
              "      <th>1</th>\n",
              "      <td>0.673</td>\n",
              "      <td>0.589</td>\n",
              "      <td>0.670</td>\n",
              "      <td>0.598</td>\n",
              "    </tr>\n",
              "    <tr>\n",
              "      <th>2</th>\n",
              "      <td>0.665</td>\n",
              "      <td>0.604</td>\n",
              "      <td>0.660</td>\n",
              "      <td>0.605</td>\n",
              "    </tr>\n",
              "    <tr>\n",
              "      <th>3</th>\n",
              "      <td>0.663</td>\n",
              "      <td>0.608</td>\n",
              "      <td>0.659</td>\n",
              "      <td>0.626</td>\n",
              "    </tr>\n",
              "    <tr>\n",
              "      <th>4</th>\n",
              "      <td>0.661</td>\n",
              "      <td>0.611</td>\n",
              "      <td>0.662</td>\n",
              "      <td>0.613</td>\n",
              "    </tr>\n",
              "  </tbody>\n",
              "</table>\n",
              "</div>\n",
              "      <button class=\"colab-df-convert\" onclick=\"convertToInteractive('df-fd0cd13b-001b-4ed1-bfb4-131edcf9b802')\"\n",
              "              title=\"Convert this dataframe to an interactive table.\"\n",
              "              style=\"display:none;\">\n",
              "        \n",
              "  <svg xmlns=\"http://www.w3.org/2000/svg\" height=\"24px\"viewBox=\"0 0 24 24\"\n",
              "       width=\"24px\">\n",
              "    <path d=\"M0 0h24v24H0V0z\" fill=\"none\"/>\n",
              "    <path d=\"M18.56 5.44l.94 2.06.94-2.06 2.06-.94-2.06-.94-.94-2.06-.94 2.06-2.06.94zm-11 1L8.5 8.5l.94-2.06 2.06-.94-2.06-.94L8.5 2.5l-.94 2.06-2.06.94zm10 10l.94 2.06.94-2.06 2.06-.94-2.06-.94-.94-2.06-.94 2.06-2.06.94z\"/><path d=\"M17.41 7.96l-1.37-1.37c-.4-.4-.92-.59-1.43-.59-.52 0-1.04.2-1.43.59L10.3 9.45l-7.72 7.72c-.78.78-.78 2.05 0 2.83L4 21.41c.39.39.9.59 1.41.59.51 0 1.02-.2 1.41-.59l7.78-7.78 2.81-2.81c.8-.78.8-2.07 0-2.86zM5.41 20L4 18.59l7.72-7.72 1.47 1.35L5.41 20z\"/>\n",
              "  </svg>\n",
              "      </button>\n",
              "      \n",
              "  <style>\n",
              "    .colab-df-container {\n",
              "      display:flex;\n",
              "      flex-wrap:wrap;\n",
              "      gap: 12px;\n",
              "    }\n",
              "\n",
              "    .colab-df-convert {\n",
              "      background-color: #E8F0FE;\n",
              "      border: none;\n",
              "      border-radius: 50%;\n",
              "      cursor: pointer;\n",
              "      display: none;\n",
              "      fill: #1967D2;\n",
              "      height: 32px;\n",
              "      padding: 0 0 0 0;\n",
              "      width: 32px;\n",
              "    }\n",
              "\n",
              "    .colab-df-convert:hover {\n",
              "      background-color: #E2EBFA;\n",
              "      box-shadow: 0px 1px 2px rgba(60, 64, 67, 0.3), 0px 1px 3px 1px rgba(60, 64, 67, 0.15);\n",
              "      fill: #174EA6;\n",
              "    }\n",
              "\n",
              "    [theme=dark] .colab-df-convert {\n",
              "      background-color: #3B4455;\n",
              "      fill: #D2E3FC;\n",
              "    }\n",
              "\n",
              "    [theme=dark] .colab-df-convert:hover {\n",
              "      background-color: #434B5C;\n",
              "      box-shadow: 0px 1px 3px 1px rgba(0, 0, 0, 0.15);\n",
              "      filter: drop-shadow(0px 1px 2px rgba(0, 0, 0, 0.3));\n",
              "      fill: #FFFFFF;\n",
              "    }\n",
              "  </style>\n",
              "\n",
              "      <script>\n",
              "        const buttonEl =\n",
              "          document.querySelector('#df-fd0cd13b-001b-4ed1-bfb4-131edcf9b802 button.colab-df-convert');\n",
              "        buttonEl.style.display =\n",
              "          google.colab.kernel.accessAllowed ? 'block' : 'none';\n",
              "\n",
              "        async function convertToInteractive(key) {\n",
              "          const element = document.querySelector('#df-fd0cd13b-001b-4ed1-bfb4-131edcf9b802');\n",
              "          const dataTable =\n",
              "            await google.colab.kernel.invokeFunction('convertToInteractive',\n",
              "                                                     [key], {});\n",
              "          if (!dataTable) return;\n",
              "\n",
              "          const docLinkHtml = 'Like what you see? Visit the ' +\n",
              "            '<a target=\"_blank\" href=https://colab.research.google.com/notebooks/data_table.ipynb>data table notebook</a>'\n",
              "            + ' to learn more about interactive tables.';\n",
              "          element.innerHTML = '';\n",
              "          dataTable['output_type'] = 'display_data';\n",
              "          await google.colab.output.renderOutput(dataTable, element);\n",
              "          const docLink = document.createElement('div');\n",
              "          docLink.innerHTML = docLinkHtml;\n",
              "          element.appendChild(docLink);\n",
              "        }\n",
              "      </script>\n",
              "    </div>\n",
              "  </div>\n",
              "  "
            ]
          },
          "metadata": {},
          "execution_count": 71
        }
      ],
      "source": [
        "summary = pd.DataFrame(model1.history.history)\n",
        "summary.head()"
      ]
    },
    {
      "cell_type": "code",
      "execution_count": 72,
      "metadata": {
        "id": "Dcy3L5Whsl9X",
        "colab": {
          "base_uri": "https://localhost:8080/",
          "height": 374
        },
        "outputId": "ad05996c-1626-423f-b1c2-4c178f65c97b"
      },
      "outputs": [
        {
          "output_type": "display_data",
          "data": {
            "text/plain": [
              "<Figure size 720x432 with 1 Axes>"
            ],
            "image/png": "[encoded data removed]"
          },
          "metadata": {}
        }
      ],
      "source": [
        "summary[[\"loss\", \"val_loss\"]].plot();"
      ]
    },
    {
      "cell_type": "code",
      "execution_count": 73,
      "metadata": {
        "id": "azs1F4o7sl9X",
        "colab": {
          "base_uri": "https://localhost:8080/",
          "height": 374
        },
        "outputId": "9c508e13-2367-499d-c162-6f788e52120c"
      },
      "outputs": [
        {
          "output_type": "display_data",
          "data": {
            "text/plain": [
              "<Figure size 720x432 with 1 Axes>"
            ],
            "image/png": "[encoded data removed]"
          },
          "metadata": {}
        }
      ],
      "source": [
        "summary[[\"accuracy\", \"val_accuracy\"]].plot();"
      ]
    },
    {
      "cell_type": "markdown",
      "metadata": {
        "id": "16_yfUk5sl9Y"
      },
      "source": [
        "# Evaluation on Test Data"
      ]
    },
    {
      "cell_type": "code",
      "execution_count": 74,
      "metadata": {
        "id": "Xz95GVTDsl9Y"
      },
      "outputs": [],
      "source": [
        "from sklearn.metrics import classification_report, confusion_matrix"
      ]
    },
    {
      "cell_type": "code",
      "execution_count": 75,
      "metadata": {
        "id": "mSBs8sNAsl9Y",
        "colab": {
          "base_uri": "https://localhost:8080/"
        },
        "outputId": "c305edb7-50a0-43bf-aa96-d3ce54af546a"
      },
      "outputs": [
        {
          "output_type": "stream",
          "name": "stdout",
          "text": [
            "82/82 [==============================] - 12s 148ms/step - loss: 0.6541 - accuracy: 0.6246\n",
            "Test loss: 0.6540923118591309\n",
            "Test accuracy: 0.6246153712272644\n"
          ]
        }
      ],
      "source": [
        "score = model1.evaluate(test_image_gen)\n",
        "print('Test loss:', score[0])\n",
        "print('Test accuracy:', score[1])"
      ]
    },
    {
      "cell_type": "code",
      "execution_count": 76,
      "metadata": {
        "id": "ZtAfDORssl9Y"
      },
      "outputs": [],
      "source": [
        "pred_prob = model1.predict(test_image_gen)"
      ]
    },
    {
      "cell_type": "code",
      "execution_count": 77,
      "metadata": {
        "id": "5PfBiFPlsl9Y",
        "colab": {
          "base_uri": "https://localhost:8080/"
        },
        "outputId": "20e27e31-016b-4479-b96d-03ea516ab93c"
      },
      "outputs": [
        {
          "output_type": "execute_result",
          "data": {
            "text/plain": [
              "array([[0.34362355],\n",
              "       [0.3303275 ],\n",
              "       [0.38061857],\n",
              "       ...,\n",
              "       [0.37133333],\n",
              "       [0.5368309 ],\n",
              "       [0.4532782 ]], dtype=float32)"
            ]
          },
          "metadata": {},
          "execution_count": 77
        }
      ],
      "source": [
        "pred_prob"
      ]
    },
    {
      "cell_type": "code",
      "execution_count": 78,
      "metadata": {
        "id": "qwF2D32fsl9Z"
      },
      "outputs": [],
      "source": [
        "y_pred = pred_prob > 0.5"
      ]
    },
    {
      "cell_type": "code",
      "execution_count": 79,
      "metadata": {
        "id": "EP0FHhTSsl9Z",
        "colab": {
          "base_uri": "https://localhost:8080/"
        },
        "outputId": "2f75fcfb-866e-4ab9-f70e-beb99f41f8cb"
      },
      "outputs": [
        {
          "output_type": "execute_result",
          "data": {
            "text/plain": [
              "array([[False],\n",
              "       [False],\n",
              "       [False],\n",
              "       ...,\n",
              "       [False],\n",
              "       [ True],\n",
              "       [False]])"
            ]
          },
          "metadata": {},
          "execution_count": 79
        }
      ],
      "source": [
        "y_pred"
      ]
    },
    {
      "cell_type": "code",
      "execution_count": 80,
      "metadata": {
        "id": "BfPUSYHxsl9a",
        "colab": {
          "base_uri": "https://localhost:8080/"
        },
        "outputId": "5df67c5e-4d84-4186-df54-98f6dca832b3"
      },
      "outputs": [
        {
          "output_type": "execute_result",
          "data": {
            "text/plain": [
              "array([0, 0, 0, ..., 1, 1, 1], dtype=int32)"
            ]
          },
          "metadata": {},
          "execution_count": 80
        }
      ],
      "source": [
        "y_test = test_image_gen.classes\n",
        "y_test"
      ]
    },
    {
      "cell_type": "code",
      "execution_count": 81,
      "metadata": {
        "id": "DWwI79g1sl9a",
        "colab": {
          "base_uri": "https://localhost:8080/"
        },
        "outputId": "61f8f9b6-b61e-4bb4-ed4c-875ea09c36c4"
      },
      "outputs": [
        {
          "output_type": "stream",
          "name": "stdout",
          "text": [
            "              precision    recall  f1-score   support\n",
            "\n",
            "           0       0.61      0.66      0.63      1300\n",
            "           1       0.63      0.57      0.60      1300\n",
            "\n",
            "    accuracy                           0.62      2600\n",
            "   macro avg       0.62      0.62      0.62      2600\n",
            "weighted avg       0.62      0.62      0.62      2600\n",
            "\n"
          ]
        }
      ],
      "source": [
        "print(classification_report(y_test, y_pred))"
      ]
    },
    {
      "cell_type": "code",
      "execution_count": 82,
      "metadata": {
        "id": "KlUFu_UHsl9b",
        "scrolled": true,
        "colab": {
          "base_uri": "https://localhost:8080/"
        },
        "outputId": "9d952ff1-4cf6-4798-b50e-93c756529d02"
      },
      "outputs": [
        {
          "output_type": "execute_result",
          "data": {
            "text/plain": [
              "array([[861, 439],\n",
              "       [556, 744]])"
            ]
          },
          "metadata": {},
          "execution_count": 82
        }
      ],
      "source": [
        "confusion_matrix(y_test, y_pred)"
      ]
    },
    {
      "cell_type": "markdown",
      "metadata": {
        "id": "lPIenRrysl9b"
      },
      "source": [
        "# Modelling-2"
      ]
    },
    {
      "cell_type": "code",
      "execution_count": 83,
      "metadata": {
        "id": "6Dnzknlxsl9b"
      },
      "outputs": [],
      "source": [
        "model2 = Sequential()\n",
        "\n",
        "model2.add(Conv2D(filters=64, kernel_size=(3,3),input_shape=image_shape, padding='same', activation='relu',))\n",
        "model2.add(MaxPooling2D(pool_size=(2, 2)))\n",
        "\n",
        "model2.add(Conv2D(filters=128, kernel_size=(3,3), padding='same', activation='relu'))\n",
        "model2.add(Conv2D(filters=128, kernel_size=(3,3), padding='same', activation='relu'))\n",
        "model2.add(MaxPooling2D(pool_size=(2, 2)))\n",
        "\n",
        "model2.add(Conv2D(filters=256, kernel_size=(3,3), padding='same', activation='relu'))\n",
        "model2.add(Conv2D(filters=256, kernel_size=(3,3), padding='same', activation='relu'))\n",
        "model2.add(Conv2D(filters=256, kernel_size=(3,3), padding='same', activation='relu'))\n",
        "model2.add(MaxPooling2D(pool_size=(2, 2)))\n",
        "\n",
        "model2.add(Conv2D(filters=128, kernel_size=(3,3), padding='same', activation='relu'))\n",
        "model2.add(MaxPooling2D(pool_size=(2, 2)))\n",
        "\n",
        "model2.add(Conv2D(filters=64, kernel_size=(3,3), padding='same', activation='relu'))\n",
        "model2.add(MaxPooling2D(pool_size=(2, 2)))\n",
        "\n",
        "\n",
        "model2.add(Flatten())\n",
        "\n",
        "\n",
        "model2.add(Dense(128))\n",
        "model2.add(Activation('relu'))\n",
        "model2.add(Dropout(0.5))\n",
        "\n",
        "model2.add(Dense(1))\n",
        "model2.add(Activation('sigmoid'))\n",
        "\n",
        "model2.compile(loss='binary_crossentropy',\n",
        "              optimizer='adam',\n",
        "              metrics=['accuracy'])"
      ]
    },
    {
      "cell_type": "code",
      "execution_count": 84,
      "metadata": {
        "id": "waeAEJGSsl9c",
        "colab": {
          "base_uri": "https://localhost:8080/"
        },
        "outputId": "fe8400e4-3a90-414e-ec42-dcbca56f03e3"
      },
      "outputs": [
        {
          "output_type": "stream",
          "name": "stdout",
          "text": [
            "Model: \"sequential_1\"\n",
            "_________________________________________________________________\n",
            " Layer (type)                Output Shape              Param #   \n",
            "=================================================================\n",
            " conv2d_3 (Conv2D)           (None, 130, 130, 64)      1792      \n",
            "                                                                 \n",
            " max_pooling2d_3 (MaxPooling  (None, 65, 65, 64)       0         \n",
            " 2D)                                                             \n",
            "                                                                 \n",
            " conv2d_4 (Conv2D)           (None, 65, 65, 128)       73856     \n",
            "                                                                 \n",
            " conv2d_5 (Conv2D)           (None, 65, 65, 128)       147584    \n",
            "                                                                 \n",
            " max_pooling2d_4 (MaxPooling  (None, 32, 32, 128)      0         \n",
            " 2D)                                                             \n",
            "                                                                 \n",
            " conv2d_6 (Conv2D)           (None, 32, 32, 256)       295168    \n",
            "                                                                 \n",
            " conv2d_7 (Conv2D)           (None, 32, 32, 256)       590080    \n",
            "                                                                 \n",
            " conv2d_8 (Conv2D)           (None, 32, 32, 256)       590080    \n",
            "                                                                 \n",
            " max_pooling2d_5 (MaxPooling  (None, 16, 16, 256)      0         \n",
            " 2D)                                                             \n",
            "                                                                 \n",
            " conv2d_9 (Conv2D)           (None, 16, 16, 128)       295040    \n",
            "                                                                 \n",
            " max_pooling2d_6 (MaxPooling  (None, 8, 8, 128)        0         \n",
            " 2D)                                                             \n",
            "                                                                 \n",
            " conv2d_10 (Conv2D)          (None, 8, 8, 64)          73792     \n",
            "                                                                 \n",
            " max_pooling2d_7 (MaxPooling  (None, 4, 4, 64)         0         \n",
            " 2D)                                                             \n",
            "                                                                 \n",
            " flatten_1 (Flatten)         (None, 1024)              0         \n",
            "                                                                 \n",
            " dense_2 (Dense)             (None, 128)               131200    \n",
            "                                                                 \n",
            " activation_2 (Activation)   (None, 128)               0         \n",
            "                                                                 \n",
            " dropout_1 (Dropout)         (None, 128)               0         \n",
            "                                                                 \n",
            " dense_3 (Dense)             (None, 1)                 129       \n",
            "                                                                 \n",
            " activation_3 (Activation)   (None, 1)                 0         \n",
            "                                                                 \n",
            "=================================================================\n",
            "Total params: 2,198,721\n",
            "Trainable params: 2,198,721\n",
            "Non-trainable params: 0\n",
            "_________________________________________________________________\n"
          ]
        }
      ],
      "source": [
        "model2.summary()"
      ]
    },
    {
      "cell_type": "code",
      "execution_count": 85,
      "metadata": {
        "id": "tLSLjgiPsl9c"
      },
      "outputs": [],
      "source": [
        "early_stop = EarlyStopping(monitor='val_loss', patience=3, restore_best_weights = True)"
      ]
    },
    {
      "cell_type": "code",
      "execution_count": 86,
      "metadata": {
        "id": "mVbSg-qLsl9c",
        "scrolled": true,
        "colab": {
          "base_uri": "https://localhost:8080/"
        },
        "outputId": "48d77db3-1190-498e-9be0-e83c8eeffd64"
      },
      "outputs": [
        {
          "output_type": "stream",
          "name": "stdout",
          "text": [
            "Epoch 1/8\n",
            "780/780 [==============================] - 141s 177ms/step - loss: 0.7366 - accuracy: 0.5151 - val_loss: 0.6933 - val_accuracy: 0.5000\n",
            "Epoch 2/8\n",
            "780/780 [==============================] - 137s 175ms/step - loss: 0.6935 - accuracy: 0.5011 - val_loss: 0.6941 - val_accuracy: 0.5000\n",
            "Epoch 3/8\n",
            "780/780 [==============================] - 135s 173ms/step - loss: 0.6934 - accuracy: 0.5011 - val_loss: 0.6931 - val_accuracy: 0.5000\n",
            "Epoch 4/8\n",
            "780/780 [==============================] - 144s 185ms/step - loss: 0.6936 - accuracy: 0.5084 - val_loss: 0.6924 - val_accuracy: 0.5554\n",
            "Epoch 5/8\n",
            "780/780 [==============================] - 135s 174ms/step - loss: 0.7135 - accuracy: 0.5139 - val_loss: 0.6930 - val_accuracy: 0.5000\n",
            "Epoch 6/8\n",
            "780/780 [==============================] - 135s 173ms/step - loss: 0.6933 - accuracy: 0.5028 - val_loss: 0.6932 - val_accuracy: 0.5000\n",
            "Epoch 7/8\n",
            "780/780 [==============================] - 137s 175ms/step - loss: 0.6931 - accuracy: 0.5039 - val_loss: 0.6918 - val_accuracy: 0.4996\n",
            "Epoch 8/8\n",
            "780/780 [==============================] - 136s 174ms/step - loss: 0.6937 - accuracy: 0.4966 - val_loss: 0.6931 - val_accuracy: 0.5404\n"
          ]
        },
        {
          "output_type": "execute_result",
          "data": {
            "text/plain": [
              "<keras.callbacks.History at 0x7f9b6a104f50>"
            ]
          },
          "metadata": {},
          "execution_count": 86
        }
      ],
      "source": [
        "model2.fit(train_image_gen,\n",
        "          epochs=8,\n",
        "          steps_per_epoch=len(train_image_gen),\n",
        "          validation_data=test_image_gen,\n",
        "          validation_steps=len(test_image_gen),\n",
        "          callbacks=[early_stop])"
      ]
    },
    {
      "cell_type": "code",
      "execution_count": 87,
      "metadata": {
        "id": "CiIRPi0qsl9c",
        "colab": {
          "base_uri": "https://localhost:8080/"
        },
        "outputId": "f9c954f9-62d8-479d-d9e5-61362021d639"
      },
      "outputs": [
        {
          "output_type": "execute_result",
          "data": {
            "text/plain": [
              "['loss', 'accuracy']"
            ]
          },
          "metadata": {},
          "execution_count": 87
        }
      ],
      "source": [
        "model2.metrics_names"
      ]
    },
    {
      "cell_type": "code",
      "execution_count": 88,
      "metadata": {
        "id": "28IfaCRpsl9d",
        "colab": {
          "base_uri": "https://localhost:8080/",
          "height": 204
        },
        "outputId": "48ee70f8-0532-495c-ea8c-c6146250954b"
      },
      "outputs": [
        {
          "output_type": "execute_result",
          "data": {
            "text/plain": [
              "   loss  accuracy  val_loss  val_accuracy\n",
              "0 0.737     0.515     0.693         0.500\n",
              "1 0.694     0.501     0.694         0.500\n",
              "2 0.693     0.501     0.693         0.500\n",
              "3 0.694     0.508     0.692         0.555\n",
              "4 0.714     0.514     0.693         0.500"
            ],
            "text/html": [
              "\n",
              "  <div id=\"df-c7bf9b80-2986-4dfb-a32e-68ed9435f3f3\">\n",
              "    <div class=\"colab-df-container\">\n",
              "      <div>\n",
              "<style scoped>\n",
              "    .dataframe tbody tr th:only-of-type {\n",
              "        vertical-align: middle;\n",
              "    }\n",
              "\n",
              "    .dataframe tbody tr th {\n",
              "        vertical-align: top;\n",
              "    }\n",
              "\n",
              "    .dataframe thead th {\n",
              "        text-align: right;\n",
              "    }\n",
              "</style>\n",
              "<table border=\"1\" class=\"dataframe\">\n",
              "  <thead>\n",
              "    <tr style=\"text-align: right;\">\n",
              "      <th></th>\n",
              "      <th>loss</th>\n",
              "      <th>accuracy</th>\n",
              "      <th>val_loss</th>\n",
              "      <th>val_accuracy</th>\n",
              "    </tr>\n",
              "  </thead>\n",
              "  <tbody>\n",
              "    <tr>\n",
              "      <th>0</th>\n",
              "      <td>0.737</td>\n",
              "      <td>0.515</td>\n",
              "      <td>0.693</td>\n",
              "      <td>0.500</td>\n",
              "    </tr>\n",
              "    <tr>\n",
              "      <th>1</th>\n",
              "      <td>0.694</td>\n",
              "      <td>0.501</td>\n",
              "      <td>0.694</td>\n",
              "      <td>0.500</td>\n",
              "    </tr>\n",
              "    <tr>\n",
              "      <th>2</th>\n",
              "      <td>0.693</td>\n",
              "      <td>0.501</td>\n",
              "      <td>0.693</td>\n",
              "      <td>0.500</td>\n",
              "    </tr>\n",
              "    <tr>\n",
              "      <th>3</th>\n",
              "      <td>0.694</td>\n",
              "      <td>0.508</td>\n",
              "      <td>0.692</td>\n",
              "      <td>0.555</td>\n",
              "    </tr>\n",
              "    <tr>\n",
              "      <th>4</th>\n",
              "      <td>0.714</td>\n",
              "      <td>0.514</td>\n",
              "      <td>0.693</td>\n",
              "      <td>0.500</td>\n",
              "    </tr>\n",
              "  </tbody>\n",
              "</table>\n",
              "</div>\n",
              "      <button class=\"colab-df-convert\" onclick=\"convertToInteractive('df-c7bf9b80-2986-4dfb-a32e-68ed9435f3f3')\"\n",
              "              title=\"Convert this dataframe to an interactive table.\"\n",
              "              style=\"display:none;\">\n",
              "        \n",
              "  <svg xmlns=\"http://www.w3.org/2000/svg\" height=\"24px\"viewBox=\"0 0 24 24\"\n",
              "       width=\"24px\">\n",
              "    <path d=\"M0 0h24v24H0V0z\" fill=\"none\"/>\n",
              "    <path d=\"M18.56 5.44l.94 2.06.94-2.06 2.06-.94-2.06-.94-.94-2.06-.94 2.06-2.06.94zm-11 1L8.5 8.5l.94-2.06 2.06-.94-2.06-.94L8.5 2.5l-.94 2.06-2.06.94zm10 10l.94 2.06.94-2.06 2.06-.94-2.06-.94-.94-2.06-.94 2.06-2.06.94z\"/><path d=\"M17.41 7.96l-1.37-1.37c-.4-.4-.92-.59-1.43-.59-.52 0-1.04.2-1.43.59L10.3 9.45l-7.72 7.72c-.78.78-.78 2.05 0 2.83L4 21.41c.39.39.9.59 1.41.59.51 0 1.02-.2 1.41-.59l7.78-7.78 2.81-2.81c.8-.78.8-2.07 0-2.86zM5.41 20L4 18.59l7.72-7.72 1.47 1.35L5.41 20z\"/>\n",
              "  </svg>\n",
              "      </button>\n",
              "      \n",
              "  <style>\n",
              "    .colab-df-container {\n",
              "      display:flex;\n",
              "      flex-wrap:wrap;\n",
              "      gap: 12px;\n",
              "    }\n",
              "\n",
              "    .colab-df-convert {\n",
              "      background-color: #E8F0FE;\n",
              "      border: none;\n",
              "      border-radius: 50%;\n",
              "      cursor: pointer;\n",
              "      display: none;\n",
              "      fill: #1967D2;\n",
              "      height: 32px;\n",
              "      padding: 0 0 0 0;\n",
              "      width: 32px;\n",
              "    }\n",
              "\n",
              "    .colab-df-convert:hover {\n",
              "      background-color: #E2EBFA;\n",
              "      box-shadow: 0px 1px 2px rgba(60, 64, 67, 0.3), 0px 1px 3px 1px rgba(60, 64, 67, 0.15);\n",
              "      fill: #174EA6;\n",
              "    }\n",
              "\n",
              "    [theme=dark] .colab-df-convert {\n",
              "      background-color: #3B4455;\n",
              "      fill: #D2E3FC;\n",
              "    }\n",
              "\n",
              "    [theme=dark] .colab-df-convert:hover {\n",
              "      background-color: #434B5C;\n",
              "      box-shadow: 0px 1px 3px 1px rgba(0, 0, 0, 0.15);\n",
              "      filter: drop-shadow(0px 1px 2px rgba(0, 0, 0, 0.3));\n",
              "      fill: #FFFFFF;\n",
              "    }\n",
              "  </style>\n",
              "\n",
              "      <script>\n",
              "        const buttonEl =\n",
              "          document.querySelector('#df-c7bf9b80-2986-4dfb-a32e-68ed9435f3f3 button.colab-df-convert');\n",
              "        buttonEl.style.display =\n",
              "          google.colab.kernel.accessAllowed ? 'block' : 'none';\n",
              "\n",
              "        async function convertToInteractive(key) {\n",
              "          const element = document.querySelector('#df-c7bf9b80-2986-4dfb-a32e-68ed9435f3f3');\n",
              "          const dataTable =\n",
              "            await google.colab.kernel.invokeFunction('convertToInteractive',\n",
              "                                                     [key], {});\n",
              "          if (!dataTable) return;\n",
              "\n",
              "          const docLinkHtml = 'Like what you see? Visit the ' +\n",
              "            '<a target=\"_blank\" href=https://colab.research.google.com/notebooks/data_table.ipynb>data table notebook</a>'\n",
              "            + ' to learn more about interactive tables.';\n",
              "          element.innerHTML = '';\n",
              "          dataTable['output_type'] = 'display_data';\n",
              "          await google.colab.output.renderOutput(dataTable, element);\n",
              "          const docLink = document.createElement('div');\n",
              "          docLink.innerHTML = docLinkHtml;\n",
              "          element.appendChild(docLink);\n",
              "        }\n",
              "      </script>\n",
              "    </div>\n",
              "  </div>\n",
              "  "
            ]
          },
          "metadata": {},
          "execution_count": 88
        }
      ],
      "source": [
        "summary = pd.DataFrame(model2.history.history)\n",
        "summary.head()"
      ]
    },
    {
      "cell_type": "code",
      "execution_count": 89,
      "metadata": {
        "id": "zyO6Cmv_sl9d",
        "colab": {
          "base_uri": "https://localhost:8080/",
          "height": 374
        },
        "outputId": "50f7eee7-5413-4c0e-ae03-bb91b350a9f0"
      },
      "outputs": [
        {
          "output_type": "display_data",
          "data": {
            "text/plain": [
              "<Figure size 720x432 with 1 Axes>"
            ],
            "image/png": "[encoded data removed]"
          },
          "metadata": {}
        }
      ],
      "source": [
        "summary[[\"loss\", \"val_loss\"]].plot();"
      ]
    },
    {
      "cell_type": "code",
      "execution_count": 90,
      "metadata": {
        "id": "_D-FnA7Ksl9d",
        "colab": {
          "base_uri": "https://localhost:8080/",
          "height": 374
        },
        "outputId": "035d95d1-9ebf-4542-b590-d2c75951e75a"
      },
      "outputs": [
        {
          "output_type": "display_data",
          "data": {
            "text/plain": [
              "<Figure size 720x432 with 1 Axes>"
            ],
            "image/png": "[encoded data removed]"
          },
          "metadata": {}
        }
      ],
      "source": [
        "summary[[\"accuracy\", \"val_accuracy\"]].plot();"
      ]
    },
    {
      "cell_type": "markdown",
      "metadata": {
        "id": "F2bTLAvQsl9d"
      },
      "source": [
        "# Evaluation on Test Data"
      ]
    },
    {
      "cell_type": "code",
      "execution_count": 91,
      "metadata": {
        "id": "rKRt861Wsl9e",
        "colab": {
          "base_uri": "https://localhost:8080/"
        },
        "outputId": "6465a644-c9d3-4408-be7d-4e135b332f3c"
      },
      "outputs": [
        {
          "output_type": "stream",
          "name": "stdout",
          "text": [
            "82/82 [==============================] - 12s 144ms/step - loss: 0.6931 - accuracy: 0.5165\n",
            "Test loss: 0.6931034326553345\n",
            "Test accuracy: 0.5165384411811829\n"
          ]
        }
      ],
      "source": [
        "score = model2.evaluate(test_image_gen)\n",
        "print('Test loss:', score[0])\n",
        "print('Test accuracy:', score[1])"
      ]
    },
    {
      "cell_type": "code",
      "execution_count": 92,
      "metadata": {
        "id": "kP3oobifsl9e"
      },
      "outputs": [],
      "source": [
        "pred_prob = model2.predict(test_image_gen)"
      ]
    },
    {
      "cell_type": "code",
      "execution_count": 93,
      "metadata": {
        "id": "93Jub8WGsl9f"
      },
      "outputs": [],
      "source": [
        "y_pred = pred_prob > 0.5"
      ]
    },
    {
      "cell_type": "code",
      "execution_count": 94,
      "metadata": {
        "id": "sTWX-UTMsl9f",
        "colab": {
          "base_uri": "https://localhost:8080/"
        },
        "outputId": "6fe597ea-dc5f-4599-add0-468a0c92cdff"
      },
      "outputs": [
        {
          "output_type": "stream",
          "name": "stdout",
          "text": [
            "              precision    recall  f1-score   support\n",
            "\n",
            "           0       0.51      0.57      0.54      1300\n",
            "           1       0.52      0.46      0.49      1300\n",
            "\n",
            "    accuracy                           0.51      2600\n",
            "   macro avg       0.51      0.51      0.51      2600\n",
            "weighted avg       0.51      0.51      0.51      2600\n",
            "\n"
          ]
        }
      ],
      "source": [
        "print(classification_report(y_test, y_pred))"
      ]
    },
    {
      "cell_type": "markdown",
      "source": [
        "                precision    recall  f1-score   support\n",
        "\n",
        "           0       0.96      0.93      0.95      1300\n",
        "           1       0.93      0.97      0.95      1300\n",
        "\n",
        "    accuracy                           0.95      2600\n",
        "   macro avg       0.95      0.95      0.95      2600\n",
        "weighted avg       0.95      0.95      0.95      2600"
      ],
      "metadata": {
        "id": "hcH0w1R-VONi"
      }
    },
    {
      "cell_type": "code",
      "execution_count": 95,
      "metadata": {
        "id": "oUdsEhpJsl9g",
        "colab": {
          "base_uri": "https://localhost:8080/"
        },
        "outputId": "2bfb9aa1-86fd-4faf-d1df-2cc610c2faf9"
      },
      "outputs": [
        {
          "output_type": "execute_result",
          "data": {
            "text/plain": [
              "array([[740, 560],\n",
              "       [703, 597]])"
            ]
          },
          "metadata": {},
          "execution_count": 95
        }
      ],
      "source": [
        "confusion_matrix(y_test, y_pred)"
      ]
    },
    {
      "cell_type": "code",
      "execution_count": 96,
      "metadata": {
        "id": "WR3JOvQhsl9g"
      },
      "outputs": [],
      "source": [
        "model1.save('malaria_model.h5')"
      ]
    },
    {
      "cell_type": "markdown",
      "metadata": {
        "id": "k17LqDfKsl9g"
      },
      "source": [
        "# Prediction"
      ]
    },
    {
      "cell_type": "code",
      "execution_count": 97,
      "metadata": {
        "id": "HMDO0Dgv194o"
      },
      "outputs": [],
      "source": [
        "from tensorflow.keras.models import load_model\n",
        "from tensorflow.keras.preprocessing import image"
      ]
    },
    {
      "cell_type": "code",
      "execution_count": 98,
      "metadata": {
        "id": "p4_7g3rEDiJ7"
      },
      "outputs": [],
      "source": [
        "model=load_model('malaria_model.h5')"
      ]
    },
    {
      "cell_type": "code",
      "execution_count": 99,
      "metadata": {
        "id": "PLkgTS3cGHTv",
        "colab": {
          "base_uri": "https://localhost:8080/",
          "height": 37
        },
        "outputId": "255f904b-7ea7-4e56-fd1e-7671b1275d1e"
      },
      "outputs": [
        {
          "output_type": "execute_result",
          "data": {
            "text/plain": [
              "'parasitized'"
            ],
            "application/vnd.google.colaboratory.intrinsic+json": {
              "type": "string"
            }
          },
          "metadata": {},
          "execution_count": 99
        }
      ],
      "source": [
        "target_class=random.choice(class_names)\n",
        "target_class"
      ]
    },
    {
      "cell_type": "code",
      "execution_count": 100,
      "metadata": {
        "id": "8paR170UBXzt",
        "colab": {
          "base_uri": "https://localhost:8080/"
        },
        "outputId": "59431820-ab99-4ea6-f387-35fb4ed2ce6f"
      },
      "outputs": [
        {
          "output_type": "execute_result",
          "data": {
            "text/plain": [
              "['C189P150ThinF_IMG_20151203_140902_cell_114.png']"
            ]
          },
          "metadata": {},
          "execution_count": 100
        }
      ],
      "source": [
        "random_image = random.sample(os.listdir(test_path + target_class), 1)\n",
        "random_image"
      ]
    },
    {
      "cell_type": "code",
      "execution_count": 101,
      "metadata": {
        "id": "oeLS4RgHCCm6",
        "colab": {
          "base_uri": "https://localhost:8080/",
          "height": 37
        },
        "outputId": "31d445ad-a352-464c-9dff-fb4bc626f737"
      },
      "outputs": [
        {
          "output_type": "execute_result",
          "data": {
            "text/plain": [
              "'cell_images/test/parasitized/C189P150ThinF_IMG_20151203_140902_cell_114.png'"
            ],
            "application/vnd.google.colaboratory.intrinsic+json": {
              "type": "string"
            }
          },
          "metadata": {},
          "execution_count": 101
        }
      ],
      "source": [
        "image_path = test_path + target_class + \"/\" + random_image[0]\n",
        "image_path"
      ]
    },
    {
      "cell_type": "code",
      "execution_count": 102,
      "metadata": {
        "id": "RCxuuqwOsl9h"
      },
      "outputs": [],
      "source": [
        "my_image = image.load_img(image_path, target_size=image_shape)"
      ]
    },
    {
      "cell_type": "code",
      "execution_count": 103,
      "metadata": {
        "id": "3GtFgC0gsl9h",
        "colab": {
          "base_uri": "https://localhost:8080/",
          "height": 147
        },
        "outputId": "6e903da5-973c-48b1-a764-7794db4a5b50"
      },
      "outputs": [
        {
          "output_type": "execute_result",
          "data": {
            "text/plain": [
              "<PIL.Image.Image image mode=RGB size=130x130 at 0x7F9B66CC1F10>"
            ],
            "image/png": "[encoded data removed]"
          },
          "metadata": {},
          "execution_count": 103
        }
      ],
      "source": [
        "my_image"
      ]
    },
    {
      "cell_type": "code",
      "execution_count": 104,
      "metadata": {
        "id": "-wfKWRy55R_1",
        "colab": {
          "base_uri": "https://localhost:8080/"
        },
        "outputId": "a124b4ec-cd27-4cb4-e4c5-6df2bd4a3322"
      },
      "outputs": [
        {
          "output_type": "execute_result",
          "data": {
            "text/plain": [
              "PIL.Image.Image"
            ]
          },
          "metadata": {},
          "execution_count": 104
        }
      ],
      "source": [
        "type(my_image)"
      ]
    },
    {
      "cell_type": "code",
      "execution_count": 105,
      "metadata": {
        "id": "Q9J8ngv-TVIV"
      },
      "outputs": [],
      "source": [
        "#my_image = np.array(my_image)\n",
        "my_image = image.img_to_array(my_image)"
      ]
    },
    {
      "cell_type": "code",
      "execution_count": 106,
      "metadata": {
        "id": "IJfZ-ILKsl9i",
        "colab": {
          "base_uri": "https://localhost:8080/"
        },
        "outputId": "e0b21bbc-a8c1-4bff-f89b-8afbfabc127f"
      },
      "outputs": [
        {
          "output_type": "execute_result",
          "data": {
            "text/plain": [
              "(130, 130, 3)"
            ]
          },
          "metadata": {},
          "execution_count": 106
        }
      ],
      "source": [
        "my_image.shape"
      ]
    },
    {
      "cell_type": "code",
      "execution_count": 107,
      "metadata": {
        "id": "n9-XbB8Rsl9i"
      },
      "outputs": [],
      "source": [
        "my_image = np.expand_dims(my_image, axis=0)"
      ]
    },
    {
      "cell_type": "code",
      "execution_count": 108,
      "metadata": {
        "id": "ZuV5DH_fsl9i",
        "colab": {
          "base_uri": "https://localhost:8080/"
        },
        "outputId": "96789ce0-15bf-434f-bddd-5a45b5487d9c"
      },
      "outputs": [
        {
          "output_type": "execute_result",
          "data": {
            "text/plain": [
              "(1, 130, 130, 3)"
            ]
          },
          "metadata": {},
          "execution_count": 108
        }
      ],
      "source": [
        "my_image.shape"
      ]
    },
    {
      "cell_type": "code",
      "execution_count": 109,
      "metadata": {
        "id": "p5wQ4c6Zsl9i",
        "colab": {
          "base_uri": "https://localhost:8080/"
        },
        "outputId": "f2617ef8-1cae-40f2-9d98-3282bc7cac7a"
      },
      "outputs": [
        {
          "output_type": "execute_result",
          "data": {
            "text/plain": [
              "array([[0.6335636]], dtype=float32)"
            ]
          },
          "metadata": {},
          "execution_count": 109
        }
      ],
      "source": [
        "model.predict(my_image)"
      ]
    },
    {
      "cell_type": "code",
      "execution_count": 110,
      "metadata": {
        "id": "ETuvfYOksl9i",
        "colab": {
          "base_uri": "https://localhost:8080/"
        },
        "outputId": "898de0d1-567b-4a1e-a80d-e4c9cc527c9b"
      },
      "outputs": [
        {
          "output_type": "execute_result",
          "data": {
            "text/plain": [
              "{'parasitized': 0, 'uninfected': 1}"
            ]
          },
          "metadata": {},
          "execution_count": 110
        }
      ],
      "source": [
        "train_image_gen.class_indices"
      ]
    },
    {
      "cell_type": "code",
      "execution_count": 111,
      "metadata": {
        "id": "v9okpvkVD_aM"
      },
      "outputs": [],
      "source": [
        "def pred_and_plot(model, img_size):\n",
        "  \"\"\"\n",
        "  Imports an image located at filename, makes a prediction on it with\n",
        "  a trained model and plots the image with the predicted class as the title.\n",
        "  \"\"\"\n",
        "  # Import the target image and preprocess it\n",
        "  target_class=random.choice(class_names)\n",
        "  random_image = random.sample(os.listdir(test_path + target_class), 1)\n",
        "  img_path = test_path + target_class + \"/\" + random_image[0]\n",
        "  img = image.load_img(img_path, target_size=img_size)\n",
        "  img = np.array(img)\n",
        "  \n",
        "  # Make a prediction\n",
        "  pred = model.predict(np.expand_dims(img, axis=0))\n",
        "  print(\"prediction_probability: \", pred.max())\n",
        "\n",
        "  # Get the predicted class\n",
        "  if len(pred[0]) > 1: # check for multi-class\n",
        "    pred_class = class_names[pred.argmax()] # if more than one output, take the max\n",
        "  else:\n",
        "    pred_class = class_names[int(tf.round(pred)[0][0])] # if only one output, round\n",
        "\n",
        "  # Plot the image and predicted class\n",
        "  plt.imshow(img)\n",
        "  plt.title(f\"Prediction: {pred_class}\")\n",
        "  plt.axis(False);"
      ]
    },
    {
      "cell_type": "code",
      "execution_count": 112,
      "metadata": {
        "id": "In7S6mq_HLvu",
        "colab": {
          "base_uri": "https://localhost:8080/",
          "height": 390
        },
        "outputId": "7332f64c-c03b-487d-e0e6-b1135ef92242"
      },
      "outputs": [
        {
          "output_type": "stream",
          "name": "stdout",
          "text": [
            "prediction_probability:  0.6613545\n"
          ]
        },
        {
          "output_type": "display_data",
          "data": {
            "text/plain": [
              "<Figure size 720x432 with 1 Axes>"
            ],
            "image/png": "[encoded data removed]"
          },
          "metadata": {}
        }
      ],
      "source": [
        "pred_and_plot(model, (130, 130))"
      ]
    },
    {
      "cell_type": "markdown",
      "metadata": {
        "id": "bQL6IJEAsl9j"
      },
      "source": [
        "___\n",
        "\n",
        "<p style=\"text-align: center;\"><img src=\"https://docs.google.com/uc?id=1lY0Uj5R04yMY3-ZppPWxqCr5pvBLYPnV\" class=\"img-fluid\" alt=\"CLRSWY\"></p>\n",
        "\n",
        "___"
      ]
    }
  ],
  "metadata": {
    "accelerator": "GPU",
    "colab": {
      "collapsed_sections": [],
      "provenance": []
    },
    "kernelspec": {
      "display_name": "Python 3",
      "language": "python",
      "name": "python3"
    },
    "language_info": {
      "codemirror_mode": {
        "name": "ipython",
        "version": 3
      },
      "file_extension": ".py",
      "mimetype": "text/x-python",
      "name": "python",
      "nbconvert_exporter": "python",
      "pygments_lexer": "ipython3",
      "version": "3.7.6"
    },
    "toc": {
      "base_numbering": 1,
      "nav_menu": {},
      "number_sections": false,
      "sideBar": true,
      "skip_h1_title": false,
      "title_cell": "Table of Contents",
      "title_sidebar": "Contents",
      "toc_cell": false,
      "toc_position": {},
      "toc_section_display": true,
      "toc_window_display": true
    },
    "gpuClass": "standard"
  },
  "nbformat": 4,
  "nbformat_minor": 0
}